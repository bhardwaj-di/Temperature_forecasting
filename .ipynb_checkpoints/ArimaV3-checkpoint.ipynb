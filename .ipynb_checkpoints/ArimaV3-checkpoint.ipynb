{
 "cells": [
  {
   "cell_type": "code",
   "execution_count": 3470,
   "id": "3d2e36f2",
   "metadata": {},
   "outputs": [],
   "source": [
    "import pandas as pd\n",
    "import matplotlib.pyplot as plt\n",
    "import numpy as np\n",
    "from statsmodels.tsa.stattools import adfuller\n",
    "from statsmodels.graphics.tsaplots import plot_acf, plot_pacf\n",
    "import traceback\n",
    "import logging\n",
    "from statsmodels.tsa.arima.model import ARIMA\n",
    "\n",
    "\n",
    "import warnings\n",
    "from statsmodels.tools.sm_exceptions import ConvergenceWarning\n",
    "from statsmodels.tools.sm_exceptions import ValueWarning\n",
    "from statsmodels.tools.sm_exceptions import ModelWarning"
   ]
  },
  {
   "cell_type": "markdown",
   "id": "eb4de290",
   "metadata": {},
   "source": [
    "# Objective 1 Forecasting Temperature"
   ]
  },
  {
   "cell_type": "code",
   "execution_count": 3471,
   "id": "51ecacc1",
   "metadata": {},
   "outputs": [
    {
     "data": {
      "text/html": [
       "<div>\n",
       "<style scoped>\n",
       "    .dataframe tbody tr th:only-of-type {\n",
       "        vertical-align: middle;\n",
       "    }\n",
       "\n",
       "    .dataframe tbody tr th {\n",
       "        vertical-align: top;\n",
       "    }\n",
       "\n",
       "    .dataframe thead th {\n",
       "        text-align: right;\n",
       "    }\n",
       "</style>\n",
       "<table border=\"1\" class=\"dataframe\">\n",
       "  <thead>\n",
       "    <tr style=\"text-align: right;\">\n",
       "      <th></th>\n",
       "      <th>Year</th>\n",
       "      <th>Temperature</th>\n",
       "    </tr>\n",
       "  </thead>\n",
       "  <tbody>\n",
       "    <tr>\n",
       "      <th>0</th>\n",
       "      <td>1850</td>\n",
       "      <td>-0.438</td>\n",
       "    </tr>\n",
       "    <tr>\n",
       "      <th>1</th>\n",
       "      <td>1851</td>\n",
       "      <td>-0.324</td>\n",
       "    </tr>\n",
       "    <tr>\n",
       "      <th>2</th>\n",
       "      <td>1852</td>\n",
       "      <td>-0.297</td>\n",
       "    </tr>\n",
       "    <tr>\n",
       "      <th>3</th>\n",
       "      <td>1853</td>\n",
       "      <td>-0.295</td>\n",
       "    </tr>\n",
       "    <tr>\n",
       "      <th>4</th>\n",
       "      <td>1854</td>\n",
       "      <td>-0.293</td>\n",
       "    </tr>\n",
       "    <tr>\n",
       "      <th>...</th>\n",
       "      <td>...</td>\n",
       "      <td>...</td>\n",
       "    </tr>\n",
       "    <tr>\n",
       "      <th>166</th>\n",
       "      <td>2016</td>\n",
       "      <td>1.059</td>\n",
       "    </tr>\n",
       "    <tr>\n",
       "      <th>167</th>\n",
       "      <td>2017</td>\n",
       "      <td>0.963</td>\n",
       "    </tr>\n",
       "    <tr>\n",
       "      <th>168</th>\n",
       "      <td>2018</td>\n",
       "      <td>0.888</td>\n",
       "    </tr>\n",
       "    <tr>\n",
       "      <th>169</th>\n",
       "      <td>2019</td>\n",
       "      <td>1.025</td>\n",
       "    </tr>\n",
       "    <tr>\n",
       "      <th>170</th>\n",
       "      <td>2020</td>\n",
       "      <td>1.052</td>\n",
       "    </tr>\n",
       "  </tbody>\n",
       "</table>\n",
       "<p>171 rows × 2 columns</p>\n",
       "</div>"
      ],
      "text/plain": [
       "     Year  Temperature\n",
       "0    1850       -0.438\n",
       "1    1851       -0.324\n",
       "2    1852       -0.297\n",
       "3    1853       -0.295\n",
       "4    1854       -0.293\n",
       "..    ...          ...\n",
       "166  2016        1.059\n",
       "167  2017        0.963\n",
       "168  2018        0.888\n",
       "169  2019        1.025\n",
       "170  2020        1.052\n",
       "\n",
       "[171 rows x 2 columns]"
      ]
     },
     "execution_count": 3471,
     "metadata": {},
     "output_type": "execute_result"
    }
   ],
   "source": [
    "df_temp = pd.read_csv(\"global_temp.csv\")\n",
    "df_temp"
   ]
  },
  {
   "cell_type": "code",
   "execution_count": 3472,
   "id": "c170d4de",
   "metadata": {},
   "outputs": [
    {
     "data": {
      "text/html": [
       "<div>\n",
       "<style scoped>\n",
       "    .dataframe tbody tr th:only-of-type {\n",
       "        vertical-align: middle;\n",
       "    }\n",
       "\n",
       "    .dataframe tbody tr th {\n",
       "        vertical-align: top;\n",
       "    }\n",
       "\n",
       "    .dataframe thead th {\n",
       "        text-align: right;\n",
       "    }\n",
       "</style>\n",
       "<table border=\"1\" class=\"dataframe\">\n",
       "  <thead>\n",
       "    <tr style=\"text-align: right;\">\n",
       "      <th></th>\n",
       "      <th>Temperature</th>\n",
       "    </tr>\n",
       "    <tr>\n",
       "      <th>Year</th>\n",
       "      <th></th>\n",
       "    </tr>\n",
       "  </thead>\n",
       "  <tbody>\n",
       "    <tr>\n",
       "      <th>1850</th>\n",
       "      <td>-0.438</td>\n",
       "    </tr>\n",
       "    <tr>\n",
       "      <th>1851</th>\n",
       "      <td>-0.324</td>\n",
       "    </tr>\n",
       "    <tr>\n",
       "      <th>1852</th>\n",
       "      <td>-0.297</td>\n",
       "    </tr>\n",
       "    <tr>\n",
       "      <th>1853</th>\n",
       "      <td>-0.295</td>\n",
       "    </tr>\n",
       "    <tr>\n",
       "      <th>1854</th>\n",
       "      <td>-0.293</td>\n",
       "    </tr>\n",
       "    <tr>\n",
       "      <th>1855</th>\n",
       "      <td>-0.282</td>\n",
       "    </tr>\n",
       "    <tr>\n",
       "      <th>1856</th>\n",
       "      <td>-0.398</td>\n",
       "    </tr>\n",
       "    <tr>\n",
       "      <th>1857</th>\n",
       "      <td>-0.538</td>\n",
       "    </tr>\n",
       "    <tr>\n",
       "      <th>1858</th>\n",
       "      <td>-0.332</td>\n",
       "    </tr>\n",
       "    <tr>\n",
       "      <th>1859</th>\n",
       "      <td>-0.218</td>\n",
       "    </tr>\n",
       "  </tbody>\n",
       "</table>\n",
       "</div>"
      ],
      "text/plain": [
       "      Temperature\n",
       "Year             \n",
       "1850       -0.438\n",
       "1851       -0.324\n",
       "1852       -0.297\n",
       "1853       -0.295\n",
       "1854       -0.293\n",
       "1855       -0.282\n",
       "1856       -0.398\n",
       "1857       -0.538\n",
       "1858       -0.332\n",
       "1859       -0.218"
      ]
     },
     "execution_count": 3472,
     "metadata": {},
     "output_type": "execute_result"
    }
   ],
   "source": [
    "df_temp.index = pd.to_datetime(df_temp['Year'],format='%Y')\n",
    "df_temp.index = pd.DatetimeIndex(df_temp.index).year\n",
    "df_temp = df_temp.drop(columns = ['Year'])\n",
    "df_temp.head(10)"
   ]
  },
  {
   "cell_type": "code",
   "execution_count": 3473,
   "id": "2be48172",
   "metadata": {},
   "outputs": [
    {
     "data": {
      "text/plain": [
       "array([[<AxesSubplot:title={'center':'Temperature'}>]], dtype=object)"
      ]
     },
     "execution_count": 3473,
     "metadata": {},
     "output_type": "execute_result"
    },
    {
     "data": {
      "image/png": "[encoded data removed]",
      "text/plain": [
       "<Figure size 432x288 with 1 Axes>"
      ]
     },
     "metadata": {
      "needs_background": "light"
     },
     "output_type": "display_data"
    },
    {
     "data": {
      "image/png": "[encoded data removed]",
      "text/plain": [
       "<Figure size 432x288 with 1 Axes>"
      ]
     },
     "metadata": {
      "needs_background": "light"
     },
     "output_type": "display_data"
    }
   ],
   "source": [
    "df_temp.plot()\n",
    "df_temp.hist()"
   ]
  },
  {
   "cell_type": "code",
   "execution_count": 3474,
   "id": "771b6e14",
   "metadata": {},
   "outputs": [
    {
     "data": {
      "text/plain": [
       "[<matplotlib.lines.Line2D at 0x7fa9c40f8cd0>]"
      ]
     },
     "execution_count": 3474,
     "metadata": {},
     "output_type": "execute_result"
    },
    {
     "data": {
      "image/png": "[encoded data removed]",
      "text/plain": [
       "<Figure size 432x288 with 1 Axes>"
      ]
     },
     "metadata": {
      "needs_background": "light"
     },
     "output_type": "display_data"
    }
   ],
   "source": [
    "#As data is not stationery we are checking if first difference make it stationery\n",
    "diff = np.diff(df_temp.Temperature)\n",
    "plt.plot(diff)"
   ]
  },
  {
   "cell_type": "code",
   "execution_count": 3475,
   "id": "f33d9dbf",
   "metadata": {},
   "outputs": [
    {
     "name": "stdout",
     "output_type": "stream",
     "text": [
      "ADF Statistic: -5.913210\n",
      "p-value: 0.000000\n"
     ]
    }
   ],
   "source": [
    "X = diff\n",
    "result = adfuller(X)\n",
    "print('ADF Statistic: %f' % result[0])\n",
    "print('p-value: %f' % result[1])\n",
    "# print('Critical Values:')\n",
    "# for key, value in result[4].items():\n",
    "#     print('\\t{}: {}'.format(key, value))"
   ]
  },
  {
   "cell_type": "code",
   "execution_count": 3476,
   "id": "6d05a8c4",
   "metadata": {},
   "outputs": [
    {
     "data": {
      "image/png": "[encoded data removed]",
      "text/plain": [
       "<Figure size 432x288 with 1 Axes>"
      ]
     },
     "metadata": {
      "needs_background": "light"
     },
     "output_type": "display_data"
    },
    {
     "data": {
      "image/png": "[encoded data removed]",
      "text/plain": [
       "<Figure size 432x288 with 1 Axes>"
      ]
     },
     "metadata": {
      "needs_background": "light"
     },
     "output_type": "display_data"
    }
   ],
   "source": [
    "plot_acf(df_temp,lags = 10)\n",
    "plot_pacf(df_temp,lags = 10,method='ywm')\n",
    "plt.show()"
   ]
  },
  {
   "cell_type": "code",
   "execution_count": 3477,
   "id": "5eeeed8b",
   "metadata": {
    "scrolled": true
   },
   "outputs": [
    {
     "name": "stderr",
     "output_type": "stream",
     "text": [
      "/Users/prasanthdwadasi/opt/anaconda3/lib/python3.8/site-packages/statsmodels/tsa/statespace/sarimax.py:978: UserWarning: Non-invertible starting MA parameters found. Using zeros as starting parameters.\n",
      "  warn('Non-invertible starting MA parameters found.'\n"
     ]
    },
    {
     "name": "stdout",
     "output_type": "stream",
     "text": [
      "(p,q) corresponding to lowest AIC score:  (3, 2)\n"
     ]
    }
   ],
   "source": [
    "\n",
    "warnings.simplefilter('ignore', ConvergenceWarning)\n",
    "warnings.simplefilter('ignore', ValueWarning)\n",
    "warnings.simplefilter('ignore', ModelWarning)\n",
    "\n",
    "\n",
    "p_range = list(range(1,4))  # taking values from 0 to 2\n",
    "q_range = list(range(1,8))\n",
    "aic_values = []\n",
    "bic_values = []\n",
    "pq_values = []\n",
    "# fitted_model_dict = {}\n",
    "# count = 0\n",
    "d = 1\n",
    "for p in p_range:\n",
    "    for q in q_range:\n",
    "        try:\n",
    "            model = ARIMA(df_temp, order=(p, d, q),enforce_stationarity=False)\n",
    "            results = model.fit()\n",
    "            aic_values.append(results.aic)\n",
    "            bic_values.append(results.bic)\n",
    "            pq_values.append((p, q))\n",
    "        except Exception as e:\n",
    "            logging.error(traceback.format_exc())\n",
    "\n",
    "\n",
    "best_pq = pq_values[aic_values.index(min(aic_values))]  # (p,q) corresponding to lowest AIC score\n",
    "print(\"(p,q) corresponding to lowest AIC score: \", best_pq)\n"
   ]
  },
  {
   "cell_type": "code",
   "execution_count": 3478,
   "id": "021368ad",
   "metadata": {},
   "outputs": [
    {
     "name": "stdout",
     "output_type": "stream",
     "text": [
      "Mean Squared Error: 0.011355041488833512\n",
      "Mean Absolute Error: 0.08777319757796567\n"
     ]
    }
   ],
   "source": [
    "from sklearn.metrics import mean_absolute_error\n",
    "from sklearn.metrics import mean_squared_error\n",
    "\n",
    "arima_model = ARIMA(df_temp, order=(best_pq[0], 0, best_pq[1]),enforce_stationarity=False).fit()\n",
    "predictions = arima_model.predict(start=0, end=len(df_temp)-1)\n",
    "\n",
    "mse = mean_squared_error(list(df_temp.Temperature), list(predictions))\n",
    "print(\"Mean Squared Error:\", mse)\n",
    "\n",
    "mae = mean_absolute_error(list(df_temp.Temperature), list(predictions))\n",
    "print(\"Mean Absolute Error:\", mae)\n",
    "warnings.simplefilter('ignore', ConvergenceWarning)\n",
    "warnings.simplefilter('ignore', ValueWarning)"
   ]
  },
  {
   "cell_type": "code",
   "execution_count": 3479,
   "id": "2778f0b1",
   "metadata": {},
   "outputs": [
    {
     "data": {
      "image/png": "[encoded data removed]",
      "text/plain": [
       "<Figure size 540x540 with 1 Axes>"
      ]
     },
     "metadata": {
      "needs_background": "light"
     },
     "output_type": "display_data"
    }
   ],
   "source": [
    "plt.figure(figsize=(7.5,7.5))\n",
    "plt.plot(list(df_temp.Temperature)[-100:], label=\"Actual\")\n",
    "plt.plot(list(predictions)[-100:], 'r', label=\"Predicted\")\n",
    "\n",
    "plt.xlabel(\"Time (in years)\")\n",
    "plt.ylabel(\"Temperature (C)\")\n",
    "plt.title(\"Actual and Predicted Temperature Values\")\n",
    "\n",
    "plt.legend(loc='upper center', bbox_to_anchor=(1.45, 0.8))\n",
    "plt.show()"
   ]
  },
  {
   "cell_type": "code",
   "execution_count": 3480,
   "id": "4edb06a7",
   "metadata": {},
   "outputs": [],
   "source": [
    "# number_of_steps = 50\n",
    "# out_of_sample_forecast = arima_model.forecast(steps=number_of_steps)\n",
    "start = 160\n",
    "end = 190\n",
    "out_of_sample_forecast = arima_model.predict(start = start,end=end)\n",
    "date_index = pd.date_range('2010', periods=end-start+1, freq='Y')\n",
    "out_of_sample_forecast.index = date_index"
   ]
  },
  {
   "cell_type": "code",
   "execution_count": 3481,
   "id": "a4639085",
   "metadata": {},
   "outputs": [
    {
     "data": {
      "text/plain": [
       "<matplotlib.lines.Line2D at 0x7fa9c4374a90>"
      ]
     },
     "execution_count": 3481,
     "metadata": {},
     "output_type": "execute_result"
    },
    {
     "data": {
      "image/png": "[encoded data removed]",
      "text/plain": [
       "<Figure size 432x288 with 1 Axes>"
      ]
     },
     "metadata": {
      "needs_background": "light"
     },
     "output_type": "display_data"
    }
   ],
   "source": [
    "out_of_sample_forecast.plot()\n",
    "plt.axhline(y=1.5, color='r', linestyle='--')"
   ]
  },
  {
   "cell_type": "markdown",
   "id": "b35dd1d0",
   "metadata": {},
   "source": [
    "## Smoothening the curve for better results"
   ]
  },
  {
   "cell_type": "code",
   "execution_count": 3482,
   "id": "03649679",
   "metadata": {},
   "outputs": [
    {
     "data": {
      "text/html": [
       "<div>\n",
       "<style scoped>\n",
       "    .dataframe tbody tr th:only-of-type {\n",
       "        vertical-align: middle;\n",
       "    }\n",
       "\n",
       "    .dataframe tbody tr th {\n",
       "        vertical-align: top;\n",
       "    }\n",
       "\n",
       "    .dataframe thead th {\n",
       "        text-align: right;\n",
       "    }\n",
       "</style>\n",
       "<table border=\"1\" class=\"dataframe\">\n",
       "  <thead>\n",
       "    <tr style=\"text-align: right;\">\n",
       "      <th></th>\n",
       "      <th>Temperature</th>\n",
       "    </tr>\n",
       "    <tr>\n",
       "      <th>Year</th>\n",
       "      <th></th>\n",
       "    </tr>\n",
       "  </thead>\n",
       "  <tbody>\n",
       "    <tr>\n",
       "      <th>1850</th>\n",
       "      <td>NaN</td>\n",
       "    </tr>\n",
       "    <tr>\n",
       "      <th>1851</th>\n",
       "      <td>NaN</td>\n",
       "    </tr>\n",
       "    <tr>\n",
       "      <th>1852</th>\n",
       "      <td>NaN</td>\n",
       "    </tr>\n",
       "    <tr>\n",
       "      <th>1853</th>\n",
       "      <td>NaN</td>\n",
       "    </tr>\n",
       "    <tr>\n",
       "      <th>1854</th>\n",
       "      <td>-0.3294</td>\n",
       "    </tr>\n",
       "    <tr>\n",
       "      <th>...</th>\n",
       "      <td>...</td>\n",
       "    </tr>\n",
       "    <tr>\n",
       "      <th>2016</th>\n",
       "      <td>0.8308</td>\n",
       "    </tr>\n",
       "    <tr>\n",
       "      <th>2017</th>\n",
       "      <td>0.8862</td>\n",
       "    </tr>\n",
       "    <tr>\n",
       "      <th>2018</th>\n",
       "      <td>0.9224</td>\n",
       "    </tr>\n",
       "    <tr>\n",
       "      <th>2019</th>\n",
       "      <td>0.9714</td>\n",
       "    </tr>\n",
       "    <tr>\n",
       "      <th>2020</th>\n",
       "      <td>0.9974</td>\n",
       "    </tr>\n",
       "  </tbody>\n",
       "</table>\n",
       "<p>171 rows × 1 columns</p>\n",
       "</div>"
      ],
      "text/plain": [
       "      Temperature\n",
       "Year             \n",
       "1850          NaN\n",
       "1851          NaN\n",
       "1852          NaN\n",
       "1853          NaN\n",
       "1854      -0.3294\n",
       "...           ...\n",
       "2016       0.8308\n",
       "2017       0.8862\n",
       "2018       0.9224\n",
       "2019       0.9714\n",
       "2020       0.9974\n",
       "\n",
       "[171 rows x 1 columns]"
      ]
     },
     "execution_count": 3482,
     "metadata": {},
     "output_type": "execute_result"
    }
   ],
   "source": [
    "window =5\n",
    "rolling_mean1 = df_temp.rolling(window=window).mean()\n",
    "rolling_mean1"
   ]
  },
  {
   "cell_type": "code",
   "execution_count": 3483,
   "id": "79552856",
   "metadata": {},
   "outputs": [
    {
     "data": {
      "text/plain": [
       "[<matplotlib.lines.Line2D at 0x7fa9e60d4880>]"
      ]
     },
     "execution_count": 3483,
     "metadata": {},
     "output_type": "execute_result"
    },
    {
     "data": {
      "image/png": "[encoded data removed]",
      "text/plain": [
       "<Figure size 432x288 with 1 Axes>"
      ]
     },
     "metadata": {
      "needs_background": "light"
     },
     "output_type": "display_data"
    }
   ],
   "source": [
    "rolling_mean1\n",
    "plt.plot(rolling_mean1, 'g', label='Rolling mean window ')\n",
    "plt.plot(df_temp[window:])"
   ]
  },
  {
   "cell_type": "code",
   "execution_count": 3484,
   "id": "1b22d023",
   "metadata": {},
   "outputs": [
    {
     "data": {
      "image/png": "[encoded data removed]",
      "text/plain": [
       "<Figure size 432x288 with 1 Axes>"
      ]
     },
     "metadata": {
      "needs_background": "light"
     },
     "output_type": "display_data"
    }
   ],
   "source": [
    "diff = rolling_mean1.diff().dropna()\n",
    "plt.plot(diff)\n",
    "df_smooth = rolling_mean1.dropna()"
   ]
  },
  {
   "cell_type": "code",
   "execution_count": 3485,
   "id": "96f29c93",
   "metadata": {},
   "outputs": [
    {
     "name": "stdout",
     "output_type": "stream",
     "text": [
      "ADF Statistic: -2.983011\n",
      "p-value: 0.036512\n"
     ]
    }
   ],
   "source": [
    "X = diff\n",
    "result = adfuller(X)\n",
    "print('ADF Statistic: %f' % result[0])\n",
    "print('p-value: %f' % result[1])"
   ]
  },
  {
   "cell_type": "code",
   "execution_count": 3486,
   "id": "e5e018b2",
   "metadata": {},
   "outputs": [
    {
     "name": "stderr",
     "output_type": "stream",
     "text": [
      "/Users/prasanthdwadasi/opt/anaconda3/lib/python3.8/site-packages/statsmodels/tsa/statespace/sarimax.py:966: UserWarning: Non-stationary starting autoregressive parameters found. Using zeros as starting parameters.\n",
      "  warn('Non-stationary starting autoregressive parameters'\n",
      "/Users/prasanthdwadasi/opt/anaconda3/lib/python3.8/site-packages/statsmodels/tsa/statespace/sarimax.py:978: UserWarning: Non-invertible starting MA parameters found. Using zeros as starting parameters.\n",
      "  warn('Non-invertible starting MA parameters found.'\n"
     ]
    },
    {
     "name": "stdout",
     "output_type": "stream",
     "text": [
      "(p,q) corresponding to lowest AIC score:  (3, 4)\n"
     ]
    }
   ],
   "source": [
    "\n",
    "warnings.simplefilter('ignore', ConvergenceWarning)\n",
    "warnings.simplefilter('ignore', ValueWarning)\n",
    "warnings.simplefilter('ignore', ModelWarning)\n",
    "\n",
    "\n",
    "p_range = list(range(1,4))  # taking values from 0 to 2\n",
    "q_range = list(range(1,8))\n",
    "aic_values = []\n",
    "bic_values = []\n",
    "pq_values = []\n",
    "# fitted_model_dict = {}\n",
    "# count = 0\n",
    "d = 1\n",
    "for p in p_range:\n",
    "    for q in q_range:\n",
    "        try:\n",
    "            model = ARIMA(df_smooth, order=(p, d, q))#,enforce_stationarity=False)\n",
    "            results = model.fit()\n",
    "            aic_values.append(results.aic)\n",
    "            bic_values.append(results.bic)\n",
    "            pq_values.append((p, q))\n",
    "        except Exception as e:\n",
    "            logging.error(traceback.format_exc())\n",
    "\n",
    "\n",
    "best_pq = pq_values[aic_values.index(min(aic_values))]  # (p,q) corresponding to lowest AIC score\n",
    "print(\"(p,q) corresponding to lowest AIC score: \", best_pq)\n"
   ]
  },
  {
   "cell_type": "code",
   "execution_count": 3487,
   "id": "6948a820",
   "metadata": {},
   "outputs": [
    {
     "name": "stdout",
     "output_type": "stream",
     "text": [
      "Mean Squared Error: 0.0006926653205610255\n",
      "Mean Absolute Error: 0.02065544929794365\n"
     ]
    }
   ],
   "source": [
    "from sklearn.metrics import mean_absolute_error\n",
    "from sklearn.metrics import mean_squared_error\n",
    "\n",
    "arima_model = ARIMA(df_smooth, order=(best_pq[0], 0, best_pq[1]),enforce_stationarity=False).fit()\n",
    "predictions = arima_model.predict(start=0, end=len(df_smooth)-1)\n",
    "\n",
    "mse = mean_squared_error(list(df_smooth.Temperature), list(predictions))\n",
    "print(\"Mean Squared Error:\", mse)\n",
    "\n",
    "mae = mean_absolute_error(list(df_smooth.Temperature), list(predictions))\n",
    "print(\"Mean Absolute Error:\", mae)\n",
    "warnings.simplefilter('ignore', ConvergenceWarning)\n",
    "warnings.simplefilter('ignore', ValueWarning)"
   ]
  },
  {
   "cell_type": "code",
   "execution_count": 3488,
   "id": "6c0b9c85",
   "metadata": {},
   "outputs": [
    {
     "data": {
      "image/png": "[encoded data removed]",
      "text/plain": [
       "<Figure size 540x540 with 1 Axes>"
      ]
     },
     "metadata": {
      "needs_background": "light"
     },
     "output_type": "display_data"
    }
   ],
   "source": [
    "plt.figure(figsize=(7.5,7.5))\n",
    "plt.plot(list(df_smooth.Temperature)[-100:], label=\"Actual\")\n",
    "plt.plot(list(predictions)[-100:], 'r', label=\"Predicted\")\n",
    "\n",
    "plt.xlabel(\"Time (in years)\")\n",
    "plt.ylabel(\"Temperature (C)\")\n",
    "plt.title(\"Actual and Predicted Temperature Values\")\n",
    "\n",
    "plt.legend(loc='upper center', bbox_to_anchor=(1.45, 0.8))\n",
    "plt.show()"
   ]
  },
  {
   "cell_type": "code",
   "execution_count": 3489,
   "id": "4d4abee7",
   "metadata": {},
   "outputs": [],
   "source": [
    "# number_of_steps = 50\n",
    "# out_of_sample_forecast = arima_model.forecast(steps=number_of_steps)\n",
    "start = 160\n",
    "end = 250\n",
    "out_of_sample_forecast = arima_model.predict(start = start,end=end)\n",
    "date_index = pd.date_range('2010', periods=end-start+1, freq='Y')\n",
    "out_of_sample_forecast.index = date_index"
   ]
  },
  {
   "cell_type": "code",
   "execution_count": 3490,
   "id": "485997ec",
   "metadata": {},
   "outputs": [
    {
     "data": {
      "text/plain": [
       "<matplotlib.lines.Line2D at 0x7fa9b0426eb0>"
      ]
     },
     "execution_count": 3490,
     "metadata": {},
     "output_type": "execute_result"
    },
    {
     "data": {
      "image/png": "[encoded data removed]",
      "text/plain": [
       "<Figure size 432x288 with 1 Axes>"
      ]
     },
     "metadata": {
      "needs_background": "light"
     },
     "output_type": "display_data"
    }
   ],
   "source": [
    "out_of_sample_forecast.plot()\n",
    "plt.axhline(y=1.5, color='r', linestyle='--')"
   ]
  },
  {
   "cell_type": "markdown",
   "id": "c324dcc9",
   "metadata": {},
   "source": [
    "# Objective 2 Modelling Temperture based on Co2"
   ]
  },
  {
   "cell_type": "code",
   "execution_count": 3491,
   "id": "14e8fbc5",
   "metadata": {},
   "outputs": [
    {
     "data": {
      "text/html": [
       "<div>\n",
       "<style scoped>\n",
       "    .dataframe tbody tr th:only-of-type {\n",
       "        vertical-align: middle;\n",
       "    }\n",
       "\n",
       "    .dataframe tbody tr th {\n",
       "        vertical-align: top;\n",
       "    }\n",
       "\n",
       "    .dataframe thead th {\n",
       "        text-align: right;\n",
       "    }\n",
       "</style>\n",
       "<table border=\"1\" class=\"dataframe\">\n",
       "  <thead>\n",
       "    <tr style=\"text-align: right;\">\n",
       "      <th></th>\n",
       "      <th>Entity</th>\n",
       "      <th>Code</th>\n",
       "      <th>Fossil fuel + land use emissions (GtCO2)</th>\n",
       "      <th>Land use emissions (GtCO2)</th>\n",
       "      <th>Fossil fuel and industry emissions (GtCO2)</th>\n",
       "    </tr>\n",
       "    <tr>\n",
       "      <th>Year</th>\n",
       "      <th></th>\n",
       "      <th></th>\n",
       "      <th></th>\n",
       "      <th></th>\n",
       "      <th></th>\n",
       "    </tr>\n",
       "  </thead>\n",
       "  <tbody>\n",
       "    <tr>\n",
       "      <th>1850</th>\n",
       "      <td>World</td>\n",
       "      <td>OWID_WRL</td>\n",
       "      <td>2.734430e+09</td>\n",
       "      <td>2.537534e+09</td>\n",
       "      <td>1.968960e+08</td>\n",
       "    </tr>\n",
       "    <tr>\n",
       "      <th>1851</th>\n",
       "      <td>World</td>\n",
       "      <td>OWID_WRL</td>\n",
       "      <td>2.813746e+09</td>\n",
       "      <td>2.614941e+09</td>\n",
       "      <td>1.988050e+08</td>\n",
       "    </tr>\n",
       "    <tr>\n",
       "      <th>1852</th>\n",
       "      <td>World</td>\n",
       "      <td>OWID_WRL</td>\n",
       "      <td>2.861829e+09</td>\n",
       "      <td>2.654278e+09</td>\n",
       "      <td>2.075509e+08</td>\n",
       "    </tr>\n",
       "    <tr>\n",
       "      <th>1853</th>\n",
       "      <td>World</td>\n",
       "      <td>OWID_WRL</td>\n",
       "      <td>2.920302e+09</td>\n",
       "      <td>2.703093e+09</td>\n",
       "      <td>2.172092e+08</td>\n",
       "    </tr>\n",
       "    <tr>\n",
       "      <th>1854</th>\n",
       "      <td>World</td>\n",
       "      <td>OWID_WRL</td>\n",
       "      <td>2.985473e+09</td>\n",
       "      <td>2.730334e+09</td>\n",
       "      <td>2.551390e+08</td>\n",
       "    </tr>\n",
       "    <tr>\n",
       "      <th>...</th>\n",
       "      <td>...</td>\n",
       "      <td>...</td>\n",
       "      <td>...</td>\n",
       "      <td>...</td>\n",
       "      <td>...</td>\n",
       "    </tr>\n",
       "    <tr>\n",
       "      <th>2016</th>\n",
       "      <td>World</td>\n",
       "      <td>OWID_WRL</td>\n",
       "      <td>3.915603e+10</td>\n",
       "      <td>3.703575e+09</td>\n",
       "      <td>3.545246e+10</td>\n",
       "    </tr>\n",
       "    <tr>\n",
       "      <th>2017</th>\n",
       "      <td>World</td>\n",
       "      <td>OWID_WRL</td>\n",
       "      <td>3.958862e+10</td>\n",
       "      <td>3.662879e+09</td>\n",
       "      <td>3.592574e+10</td>\n",
       "    </tr>\n",
       "    <tr>\n",
       "      <th>2018</th>\n",
       "      <td>World</td>\n",
       "      <td>OWID_WRL</td>\n",
       "      <td>4.050368e+10</td>\n",
       "      <td>3.857539e+09</td>\n",
       "      <td>3.664614e+10</td>\n",
       "    </tr>\n",
       "    <tr>\n",
       "      <th>2019</th>\n",
       "      <td>World</td>\n",
       "      <td>OWID_WRL</td>\n",
       "      <td>4.052791e+10</td>\n",
       "      <td>3.825411e+09</td>\n",
       "      <td>3.670250e+10</td>\n",
       "    </tr>\n",
       "    <tr>\n",
       "      <th>2020</th>\n",
       "      <td>World</td>\n",
       "      <td>OWID_WRL</td>\n",
       "      <td>3.801725e+10</td>\n",
       "      <td>3.209993e+09</td>\n",
       "      <td>3.480726e+10</td>\n",
       "    </tr>\n",
       "  </tbody>\n",
       "</table>\n",
       "<p>171 rows × 5 columns</p>\n",
       "</div>"
      ],
      "text/plain": [
       "     Entity      Code  Fossil fuel + land use emissions (GtCO2)  \\\n",
       "Year                                                              \n",
       "1850  World  OWID_WRL                              2.734430e+09   \n",
       "1851  World  OWID_WRL                              2.813746e+09   \n",
       "1852  World  OWID_WRL                              2.861829e+09   \n",
       "1853  World  OWID_WRL                              2.920302e+09   \n",
       "1854  World  OWID_WRL                              2.985473e+09   \n",
       "...     ...       ...                                       ...   \n",
       "2016  World  OWID_WRL                              3.915603e+10   \n",
       "2017  World  OWID_WRL                              3.958862e+10   \n",
       "2018  World  OWID_WRL                              4.050368e+10   \n",
       "2019  World  OWID_WRL                              4.052791e+10   \n",
       "2020  World  OWID_WRL                              3.801725e+10   \n",
       "\n",
       "      Land use emissions (GtCO2)  Fossil fuel and industry emissions (GtCO2)  \n",
       "Year                                                                          \n",
       "1850                2.537534e+09                                1.968960e+08  \n",
       "1851                2.614941e+09                                1.988050e+08  \n",
       "1852                2.654278e+09                                2.075509e+08  \n",
       "1853                2.703093e+09                                2.172092e+08  \n",
       "1854                2.730334e+09                                2.551390e+08  \n",
       "...                          ...                                         ...  \n",
       "2016                3.703575e+09                                3.545246e+10  \n",
       "2017                3.662879e+09                                3.592574e+10  \n",
       "2018                3.857539e+09                                3.664614e+10  \n",
       "2019                3.825411e+09                                3.670250e+10  \n",
       "2020                3.209993e+09                                3.480726e+10  \n",
       "\n",
       "[171 rows x 5 columns]"
      ]
     },
     "execution_count": 3491,
     "metadata": {},
     "output_type": "execute_result"
    }
   ],
   "source": [
    "df = pd.read_csv(\"/Users/prasanthdwadasi/Documents/data science class/Project/global-co2-fossil-plus-land-use.csv\")\n",
    "df.index = pd.to_datetime(df['Year'],format='%Y')\n",
    "df.index = pd.DatetimeIndex(df.index).year\n",
    "df = df.drop(columns = ['Year'])\n",
    "df"
   ]
  },
  {
   "cell_type": "code",
   "execution_count": 3492,
   "id": "2aaa76f1",
   "metadata": {},
   "outputs": [
    {
     "data": {
      "text/plain": [
       "Index(['Fossil fuel + land use emissions (GtCO2)',\n",
       "       'Land use emissions (GtCO2)',\n",
       "       'Fossil fuel and industry emissions (GtCO2)', 'Temperature'],\n",
       "      dtype='object')"
      ]
     },
     "execution_count": 3492,
     "metadata": {},
     "output_type": "execute_result"
    }
   ],
   "source": [
    "df = pd.concat([df, df_temp],axis=1)\n",
    "df.drop(columns=['Code','Entity'],inplace=True)\n",
    "df.columns"
   ]
  },
  {
   "cell_type": "code",
   "execution_count": 3493,
   "id": "b1b63900",
   "metadata": {},
   "outputs": [
    {
     "data": {
      "text/html": [
       "<div>\n",
       "<style scoped>\n",
       "    .dataframe tbody tr th:only-of-type {\n",
       "        vertical-align: middle;\n",
       "    }\n",
       "\n",
       "    .dataframe tbody tr th {\n",
       "        vertical-align: top;\n",
       "    }\n",
       "\n",
       "    .dataframe thead th {\n",
       "        text-align: right;\n",
       "    }\n",
       "</style>\n",
       "<table border=\"1\" class=\"dataframe\">\n",
       "  <thead>\n",
       "    <tr style=\"text-align: right;\">\n",
       "      <th></th>\n",
       "      <th>Fossil_fuel_+_land_use_emissions</th>\n",
       "      <th>Land_use</th>\n",
       "      <th>Fossil_fuel&amp;industry_emissions</th>\n",
       "      <th>Temperature</th>\n",
       "    </tr>\n",
       "    <tr>\n",
       "      <th>Year</th>\n",
       "      <th></th>\n",
       "      <th></th>\n",
       "      <th></th>\n",
       "      <th></th>\n",
       "    </tr>\n",
       "  </thead>\n",
       "  <tbody>\n",
       "    <tr>\n",
       "      <th>1850</th>\n",
       "      <td>2.734430e+09</td>\n",
       "      <td>2.537534e+09</td>\n",
       "      <td>1.968960e+08</td>\n",
       "      <td>-0.438</td>\n",
       "    </tr>\n",
       "    <tr>\n",
       "      <th>1851</th>\n",
       "      <td>2.813746e+09</td>\n",
       "      <td>2.614941e+09</td>\n",
       "      <td>1.988050e+08</td>\n",
       "      <td>-0.324</td>\n",
       "    </tr>\n",
       "    <tr>\n",
       "      <th>1852</th>\n",
       "      <td>2.861829e+09</td>\n",
       "      <td>2.654278e+09</td>\n",
       "      <td>2.075509e+08</td>\n",
       "      <td>-0.297</td>\n",
       "    </tr>\n",
       "    <tr>\n",
       "      <th>1853</th>\n",
       "      <td>2.920302e+09</td>\n",
       "      <td>2.703093e+09</td>\n",
       "      <td>2.172092e+08</td>\n",
       "      <td>-0.295</td>\n",
       "    </tr>\n",
       "    <tr>\n",
       "      <th>1854</th>\n",
       "      <td>2.985473e+09</td>\n",
       "      <td>2.730334e+09</td>\n",
       "      <td>2.551390e+08</td>\n",
       "      <td>-0.293</td>\n",
       "    </tr>\n",
       "    <tr>\n",
       "      <th>...</th>\n",
       "      <td>...</td>\n",
       "      <td>...</td>\n",
       "      <td>...</td>\n",
       "      <td>...</td>\n",
       "    </tr>\n",
       "    <tr>\n",
       "      <th>2016</th>\n",
       "      <td>3.915603e+10</td>\n",
       "      <td>3.703575e+09</td>\n",
       "      <td>3.545246e+10</td>\n",
       "      <td>1.059</td>\n",
       "    </tr>\n",
       "    <tr>\n",
       "      <th>2017</th>\n",
       "      <td>3.958862e+10</td>\n",
       "      <td>3.662879e+09</td>\n",
       "      <td>3.592574e+10</td>\n",
       "      <td>0.963</td>\n",
       "    </tr>\n",
       "    <tr>\n",
       "      <th>2018</th>\n",
       "      <td>4.050368e+10</td>\n",
       "      <td>3.857539e+09</td>\n",
       "      <td>3.664614e+10</td>\n",
       "      <td>0.888</td>\n",
       "    </tr>\n",
       "    <tr>\n",
       "      <th>2019</th>\n",
       "      <td>4.052791e+10</td>\n",
       "      <td>3.825411e+09</td>\n",
       "      <td>3.670250e+10</td>\n",
       "      <td>1.025</td>\n",
       "    </tr>\n",
       "    <tr>\n",
       "      <th>2020</th>\n",
       "      <td>3.801725e+10</td>\n",
       "      <td>3.209993e+09</td>\n",
       "      <td>3.480726e+10</td>\n",
       "      <td>1.052</td>\n",
       "    </tr>\n",
       "  </tbody>\n",
       "</table>\n",
       "<p>171 rows × 4 columns</p>\n",
       "</div>"
      ],
      "text/plain": [
       "      Fossil_fuel_+_land_use_emissions      Land_use  \\\n",
       "Year                                                   \n",
       "1850                      2.734430e+09  2.537534e+09   \n",
       "1851                      2.813746e+09  2.614941e+09   \n",
       "1852                      2.861829e+09  2.654278e+09   \n",
       "1853                      2.920302e+09  2.703093e+09   \n",
       "1854                      2.985473e+09  2.730334e+09   \n",
       "...                                ...           ...   \n",
       "2016                      3.915603e+10  3.703575e+09   \n",
       "2017                      3.958862e+10  3.662879e+09   \n",
       "2018                      4.050368e+10  3.857539e+09   \n",
       "2019                      4.052791e+10  3.825411e+09   \n",
       "2020                      3.801725e+10  3.209993e+09   \n",
       "\n",
       "      Fossil_fuel&industry_emissions  Temperature  \n",
       "Year                                               \n",
       "1850                    1.968960e+08       -0.438  \n",
       "1851                    1.988050e+08       -0.324  \n",
       "1852                    2.075509e+08       -0.297  \n",
       "1853                    2.172092e+08       -0.295  \n",
       "1854                    2.551390e+08       -0.293  \n",
       "...                              ...          ...  \n",
       "2016                    3.545246e+10        1.059  \n",
       "2017                    3.592574e+10        0.963  \n",
       "2018                    3.664614e+10        0.888  \n",
       "2019                    3.670250e+10        1.025  \n",
       "2020                    3.480726e+10        1.052  \n",
       "\n",
       "[171 rows x 4 columns]"
      ]
     },
     "execution_count": 3493,
     "metadata": {},
     "output_type": "execute_result"
    }
   ],
   "source": [
    "df.rename(columns={'Fossil fuel + land use emissions (GtCO2)': 'Fossil_fuel_+_land_use_emissions',\n",
    "                   'Land use emissions (GtCO2)': 'Land_use','Fossil fuel and industry emissions (GtCO2)':'Fossil_fuel&industry_emissions'}, inplace=True)\n",
    "df.columns = df.columns.str.replace(\" \",\"_\")\n",
    "df.columns = df.columns.str.strip()\n",
    "df"
   ]
  },
  {
   "cell_type": "code",
   "execution_count": 3494,
   "id": "afa689ea",
   "metadata": {},
   "outputs": [
    {
     "name": "stdout",
     "output_type": "stream",
     "text": [
      "Index(['Fossil_fuel_+_land_use_emissions', 'Land_use',\n",
      "       'Fossil_fuel&industry_emissions', 'Temperature'],\n",
      "      dtype='object')\n"
     ]
    },
    {
     "data": {
      "text/html": [
       "<div>\n",
       "<style scoped>\n",
       "    .dataframe tbody tr th:only-of-type {\n",
       "        vertical-align: middle;\n",
       "    }\n",
       "\n",
       "    .dataframe tbody tr th {\n",
       "        vertical-align: top;\n",
       "    }\n",
       "\n",
       "    .dataframe thead th {\n",
       "        text-align: right;\n",
       "    }\n",
       "</style>\n",
       "<table border=\"1\" class=\"dataframe\">\n",
       "  <thead>\n",
       "    <tr style=\"text-align: right;\">\n",
       "      <th></th>\n",
       "      <th>Land_use</th>\n",
       "      <th>Fossil_fuel&amp;industry_emissions</th>\n",
       "      <th>Temperature</th>\n",
       "      <th>Fossil_Fuel</th>\n",
       "    </tr>\n",
       "    <tr>\n",
       "      <th>Year</th>\n",
       "      <th></th>\n",
       "      <th></th>\n",
       "      <th></th>\n",
       "      <th></th>\n",
       "    </tr>\n",
       "  </thead>\n",
       "  <tbody>\n",
       "    <tr>\n",
       "      <th>1850</th>\n",
       "      <td>2.537534e+09</td>\n",
       "      <td>1.968960e+08</td>\n",
       "      <td>-0.438</td>\n",
       "      <td>1.968960e+08</td>\n",
       "    </tr>\n",
       "    <tr>\n",
       "      <th>1851</th>\n",
       "      <td>2.614941e+09</td>\n",
       "      <td>1.988050e+08</td>\n",
       "      <td>-0.324</td>\n",
       "      <td>1.988050e+08</td>\n",
       "    </tr>\n",
       "    <tr>\n",
       "      <th>1852</th>\n",
       "      <td>2.654278e+09</td>\n",
       "      <td>2.075509e+08</td>\n",
       "      <td>-0.297</td>\n",
       "      <td>2.075509e+08</td>\n",
       "    </tr>\n",
       "    <tr>\n",
       "      <th>1853</th>\n",
       "      <td>2.703093e+09</td>\n",
       "      <td>2.172092e+08</td>\n",
       "      <td>-0.295</td>\n",
       "      <td>2.172092e+08</td>\n",
       "    </tr>\n",
       "    <tr>\n",
       "      <th>1854</th>\n",
       "      <td>2.730334e+09</td>\n",
       "      <td>2.551390e+08</td>\n",
       "      <td>-0.293</td>\n",
       "      <td>2.551390e+08</td>\n",
       "    </tr>\n",
       "    <tr>\n",
       "      <th>...</th>\n",
       "      <td>...</td>\n",
       "      <td>...</td>\n",
       "      <td>...</td>\n",
       "      <td>...</td>\n",
       "    </tr>\n",
       "    <tr>\n",
       "      <th>2016</th>\n",
       "      <td>3.703575e+09</td>\n",
       "      <td>3.545246e+10</td>\n",
       "      <td>1.059</td>\n",
       "      <td>3.545246e+10</td>\n",
       "    </tr>\n",
       "    <tr>\n",
       "      <th>2017</th>\n",
       "      <td>3.662879e+09</td>\n",
       "      <td>3.592574e+10</td>\n",
       "      <td>0.963</td>\n",
       "      <td>3.592574e+10</td>\n",
       "    </tr>\n",
       "    <tr>\n",
       "      <th>2018</th>\n",
       "      <td>3.857539e+09</td>\n",
       "      <td>3.664614e+10</td>\n",
       "      <td>0.888</td>\n",
       "      <td>3.664614e+10</td>\n",
       "    </tr>\n",
       "    <tr>\n",
       "      <th>2019</th>\n",
       "      <td>3.825411e+09</td>\n",
       "      <td>3.670250e+10</td>\n",
       "      <td>1.025</td>\n",
       "      <td>3.670250e+10</td>\n",
       "    </tr>\n",
       "    <tr>\n",
       "      <th>2020</th>\n",
       "      <td>3.209993e+09</td>\n",
       "      <td>3.480726e+10</td>\n",
       "      <td>1.052</td>\n",
       "      <td>3.480726e+10</td>\n",
       "    </tr>\n",
       "  </tbody>\n",
       "</table>\n",
       "<p>171 rows × 4 columns</p>\n",
       "</div>"
      ],
      "text/plain": [
       "          Land_use  Fossil_fuel&industry_emissions  Temperature   Fossil_Fuel\n",
       "Year                                                                         \n",
       "1850  2.537534e+09                    1.968960e+08       -0.438  1.968960e+08\n",
       "1851  2.614941e+09                    1.988050e+08       -0.324  1.988050e+08\n",
       "1852  2.654278e+09                    2.075509e+08       -0.297  2.075509e+08\n",
       "1853  2.703093e+09                    2.172092e+08       -0.295  2.172092e+08\n",
       "1854  2.730334e+09                    2.551390e+08       -0.293  2.551390e+08\n",
       "...            ...                             ...          ...           ...\n",
       "2016  3.703575e+09                    3.545246e+10        1.059  3.545246e+10\n",
       "2017  3.662879e+09                    3.592574e+10        0.963  3.592574e+10\n",
       "2018  3.857539e+09                    3.664614e+10        0.888  3.664614e+10\n",
       "2019  3.825411e+09                    3.670250e+10        1.025  3.670250e+10\n",
       "2020  3.209993e+09                    3.480726e+10        1.052  3.480726e+10\n",
       "\n",
       "[171 rows x 4 columns]"
      ]
     },
     "execution_count": 3494,
     "metadata": {},
     "output_type": "execute_result"
    }
   ],
   "source": [
    "print(df.columns)\n",
    "df['Fossil_Fuel'] = df['Fossil_fuel_+_land_use_emissions']-df['Land_use']\n",
    "df.drop(columns=['Fossil_fuel_+_land_use_emissions'],inplace=True)\n",
    "df"
   ]
  },
  {
   "cell_type": "code",
   "execution_count": 3495,
   "id": "7c8a04b5",
   "metadata": {},
   "outputs": [
    {
     "data": {
      "text/html": [
       "<div>\n",
       "<style scoped>\n",
       "    .dataframe tbody tr th:only-of-type {\n",
       "        vertical-align: middle;\n",
       "    }\n",
       "\n",
       "    .dataframe tbody tr th {\n",
       "        vertical-align: top;\n",
       "    }\n",
       "\n",
       "    .dataframe thead th {\n",
       "        text-align: right;\n",
       "    }\n",
       "</style>\n",
       "<table border=\"1\" class=\"dataframe\">\n",
       "  <thead>\n",
       "    <tr style=\"text-align: right;\">\n",
       "      <th></th>\n",
       "      <th>Land_use</th>\n",
       "      <th>Temperature</th>\n",
       "      <th>Fossil_Fuel</th>\n",
       "    </tr>\n",
       "    <tr>\n",
       "      <th>Year</th>\n",
       "      <th></th>\n",
       "      <th></th>\n",
       "      <th></th>\n",
       "    </tr>\n",
       "  </thead>\n",
       "  <tbody>\n",
       "    <tr>\n",
       "      <th>1850</th>\n",
       "      <td>2.537534e+09</td>\n",
       "      <td>-0.438</td>\n",
       "      <td>1.968960e+08</td>\n",
       "    </tr>\n",
       "    <tr>\n",
       "      <th>1851</th>\n",
       "      <td>2.614941e+09</td>\n",
       "      <td>-0.324</td>\n",
       "      <td>1.988050e+08</td>\n",
       "    </tr>\n",
       "    <tr>\n",
       "      <th>1852</th>\n",
       "      <td>2.654278e+09</td>\n",
       "      <td>-0.297</td>\n",
       "      <td>2.075509e+08</td>\n",
       "    </tr>\n",
       "    <tr>\n",
       "      <th>1853</th>\n",
       "      <td>2.703093e+09</td>\n",
       "      <td>-0.295</td>\n",
       "      <td>2.172092e+08</td>\n",
       "    </tr>\n",
       "    <tr>\n",
       "      <th>1854</th>\n",
       "      <td>2.730334e+09</td>\n",
       "      <td>-0.293</td>\n",
       "      <td>2.551390e+08</td>\n",
       "    </tr>\n",
       "    <tr>\n",
       "      <th>...</th>\n",
       "      <td>...</td>\n",
       "      <td>...</td>\n",
       "      <td>...</td>\n",
       "    </tr>\n",
       "    <tr>\n",
       "      <th>2016</th>\n",
       "      <td>3.703575e+09</td>\n",
       "      <td>1.059</td>\n",
       "      <td>3.545246e+10</td>\n",
       "    </tr>\n",
       "    <tr>\n",
       "      <th>2017</th>\n",
       "      <td>3.662879e+09</td>\n",
       "      <td>0.963</td>\n",
       "      <td>3.592574e+10</td>\n",
       "    </tr>\n",
       "    <tr>\n",
       "      <th>2018</th>\n",
       "      <td>3.857539e+09</td>\n",
       "      <td>0.888</td>\n",
       "      <td>3.664614e+10</td>\n",
       "    </tr>\n",
       "    <tr>\n",
       "      <th>2019</th>\n",
       "      <td>3.825411e+09</td>\n",
       "      <td>1.025</td>\n",
       "      <td>3.670250e+10</td>\n",
       "    </tr>\n",
       "    <tr>\n",
       "      <th>2020</th>\n",
       "      <td>3.209993e+09</td>\n",
       "      <td>1.052</td>\n",
       "      <td>3.480726e+10</td>\n",
       "    </tr>\n",
       "  </tbody>\n",
       "</table>\n",
       "<p>171 rows × 3 columns</p>\n",
       "</div>"
      ],
      "text/plain": [
       "          Land_use  Temperature   Fossil_Fuel\n",
       "Year                                         \n",
       "1850  2.537534e+09       -0.438  1.968960e+08\n",
       "1851  2.614941e+09       -0.324  1.988050e+08\n",
       "1852  2.654278e+09       -0.297  2.075509e+08\n",
       "1853  2.703093e+09       -0.295  2.172092e+08\n",
       "1854  2.730334e+09       -0.293  2.551390e+08\n",
       "...            ...          ...           ...\n",
       "2016  3.703575e+09        1.059  3.545246e+10\n",
       "2017  3.662879e+09        0.963  3.592574e+10\n",
       "2018  3.857539e+09        0.888  3.664614e+10\n",
       "2019  3.825411e+09        1.025  3.670250e+10\n",
       "2020  3.209993e+09        1.052  3.480726e+10\n",
       "\n",
       "[171 rows x 3 columns]"
      ]
     },
     "execution_count": 3495,
     "metadata": {},
     "output_type": "execute_result"
    }
   ],
   "source": [
    "df.drop(columns=['Fossil_fuel&industry_emissions'],inplace=True)\n",
    "df"
   ]
  },
  {
   "cell_type": "code",
   "execution_count": 3496,
   "id": "cab001f6",
   "metadata": {},
   "outputs": [
    {
     "data": {
      "text/html": [
       "<div>\n",
       "<style scoped>\n",
       "    .dataframe tbody tr th:only-of-type {\n",
       "        vertical-align: middle;\n",
       "    }\n",
       "\n",
       "    .dataframe tbody tr th {\n",
       "        vertical-align: top;\n",
       "    }\n",
       "\n",
       "    .dataframe thead th {\n",
       "        text-align: right;\n",
       "    }\n",
       "</style>\n",
       "<table border=\"1\" class=\"dataframe\">\n",
       "  <thead>\n",
       "    <tr style=\"text-align: right;\">\n",
       "      <th></th>\n",
       "      <th>Co2</th>\n",
       "    </tr>\n",
       "  </thead>\n",
       "  <tbody>\n",
       "    <tr>\n",
       "      <th>1750</th>\n",
       "      <td>46752640</td>\n",
       "    </tr>\n",
       "    <tr>\n",
       "      <th>1751</th>\n",
       "      <td>46752640</td>\n",
       "    </tr>\n",
       "    <tr>\n",
       "      <th>1752</th>\n",
       "      <td>46770960</td>\n",
       "    </tr>\n",
       "    <tr>\n",
       "      <th>1753</th>\n",
       "      <td>46770960</td>\n",
       "    </tr>\n",
       "    <tr>\n",
       "      <th>1754</th>\n",
       "      <td>46789280</td>\n",
       "    </tr>\n",
       "    <tr>\n",
       "      <th>...</th>\n",
       "      <td>...</td>\n",
       "    </tr>\n",
       "    <tr>\n",
       "      <th>2016</th>\n",
       "      <td>124705642926</td>\n",
       "    </tr>\n",
       "    <tr>\n",
       "      <th>2017</th>\n",
       "      <td>126304712027</td>\n",
       "    </tr>\n",
       "    <tr>\n",
       "      <th>2018</th>\n",
       "      <td>128452535469</td>\n",
       "    </tr>\n",
       "    <tr>\n",
       "      <th>2019</th>\n",
       "      <td>128422888228</td>\n",
       "    </tr>\n",
       "    <tr>\n",
       "      <th>2020</th>\n",
       "      <td>121592752041</td>\n",
       "    </tr>\n",
       "  </tbody>\n",
       "</table>\n",
       "<p>271 rows × 1 columns</p>\n",
       "</div>"
      ],
      "text/plain": [
       "               Co2\n",
       "1750      46752640\n",
       "1751      46752640\n",
       "1752      46770960\n",
       "1753      46770960\n",
       "1754      46789280\n",
       "...            ...\n",
       "2016  124705642926\n",
       "2017  126304712027\n",
       "2018  128452535469\n",
       "2019  128422888228\n",
       "2020  121592752041\n",
       "\n",
       "[271 rows x 1 columns]"
      ]
     },
     "execution_count": 3496,
     "metadata": {},
     "output_type": "execute_result"
    }
   ],
   "source": [
    "c2 = pd.read_csv(\"annual-co-emissions-by-region.csv\")\n",
    "years = set(c2.Year)\n",
    "yr = {year:c2.loc[(c2['Year'] == year) , 'Annual CO2 emissions (zero filled)'].sum() for year in years}\n",
    "c2 = pd.DataFrame({'Co2': list(yr.values())}, index=list(yr.keys()))\n",
    "c2.index = pd.to_datetime(c2.index,format='%Y').year\n",
    "c2"
   ]
  },
  {
   "cell_type": "code",
   "execution_count": 3497,
   "id": "682f7cdd",
   "metadata": {},
   "outputs": [
    {
     "data": {
      "text/html": [
       "<div>\n",
       "<style scoped>\n",
       "    .dataframe tbody tr th:only-of-type {\n",
       "        vertical-align: middle;\n",
       "    }\n",
       "\n",
       "    .dataframe tbody tr th {\n",
       "        vertical-align: top;\n",
       "    }\n",
       "\n",
       "    .dataframe thead th {\n",
       "        text-align: right;\n",
       "    }\n",
       "</style>\n",
       "<table border=\"1\" class=\"dataframe\">\n",
       "  <thead>\n",
       "    <tr style=\"text-align: right;\">\n",
       "      <th></th>\n",
       "      <th>Land_use</th>\n",
       "      <th>Temperature</th>\n",
       "      <th>Fossil_Fuel</th>\n",
       "      <th>co2</th>\n",
       "    </tr>\n",
       "    <tr>\n",
       "      <th>Year</th>\n",
       "      <th></th>\n",
       "      <th></th>\n",
       "      <th></th>\n",
       "      <th></th>\n",
       "    </tr>\n",
       "  </thead>\n",
       "  <tbody>\n",
       "    <tr>\n",
       "      <th>1850</th>\n",
       "      <td>2.537534e+09</td>\n",
       "      <td>-0.438</td>\n",
       "      <td>1.968960e+08</td>\n",
       "      <td>944822340</td>\n",
       "    </tr>\n",
       "    <tr>\n",
       "      <th>1851</th>\n",
       "      <td>2.614941e+09</td>\n",
       "      <td>-0.324</td>\n",
       "      <td>1.988050e+08</td>\n",
       "      <td>944689120</td>\n",
       "    </tr>\n",
       "    <tr>\n",
       "      <th>1852</th>\n",
       "      <td>2.654278e+09</td>\n",
       "      <td>-0.297</td>\n",
       "      <td>2.075509e+08</td>\n",
       "      <td>984088112</td>\n",
       "    </tr>\n",
       "    <tr>\n",
       "      <th>1853</th>\n",
       "      <td>2.703093e+09</td>\n",
       "      <td>-0.295</td>\n",
       "      <td>2.172092e+08</td>\n",
       "      <td>1025619552</td>\n",
       "    </tr>\n",
       "    <tr>\n",
       "      <th>1854</th>\n",
       "      <td>2.730334e+09</td>\n",
       "      <td>-0.293</td>\n",
       "      <td>2.551390e+08</td>\n",
       "      <td>1209251904</td>\n",
       "    </tr>\n",
       "    <tr>\n",
       "      <th>...</th>\n",
       "      <td>...</td>\n",
       "      <td>...</td>\n",
       "      <td>...</td>\n",
       "      <td>...</td>\n",
       "    </tr>\n",
       "    <tr>\n",
       "      <th>2016</th>\n",
       "      <td>3.703575e+09</td>\n",
       "      <td>1.059</td>\n",
       "      <td>3.545246e+10</td>\n",
       "      <td>124705642926</td>\n",
       "    </tr>\n",
       "    <tr>\n",
       "      <th>2017</th>\n",
       "      <td>3.662879e+09</td>\n",
       "      <td>0.963</td>\n",
       "      <td>3.592574e+10</td>\n",
       "      <td>126304712027</td>\n",
       "    </tr>\n",
       "    <tr>\n",
       "      <th>2018</th>\n",
       "      <td>3.857539e+09</td>\n",
       "      <td>0.888</td>\n",
       "      <td>3.664614e+10</td>\n",
       "      <td>128452535469</td>\n",
       "    </tr>\n",
       "    <tr>\n",
       "      <th>2019</th>\n",
       "      <td>3.825411e+09</td>\n",
       "      <td>1.025</td>\n",
       "      <td>3.670250e+10</td>\n",
       "      <td>128422888228</td>\n",
       "    </tr>\n",
       "    <tr>\n",
       "      <th>2020</th>\n",
       "      <td>3.209993e+09</td>\n",
       "      <td>1.052</td>\n",
       "      <td>3.480726e+10</td>\n",
       "      <td>121592752041</td>\n",
       "    </tr>\n",
       "  </tbody>\n",
       "</table>\n",
       "<p>171 rows × 4 columns</p>\n",
       "</div>"
      ],
      "text/plain": [
       "          Land_use  Temperature   Fossil_Fuel           co2\n",
       "Year                                                       \n",
       "1850  2.537534e+09       -0.438  1.968960e+08     944822340\n",
       "1851  2.614941e+09       -0.324  1.988050e+08     944689120\n",
       "1852  2.654278e+09       -0.297  2.075509e+08     984088112\n",
       "1853  2.703093e+09       -0.295  2.172092e+08    1025619552\n",
       "1854  2.730334e+09       -0.293  2.551390e+08    1209251904\n",
       "...            ...          ...           ...           ...\n",
       "2016  3.703575e+09        1.059  3.545246e+10  124705642926\n",
       "2017  3.662879e+09        0.963  3.592574e+10  126304712027\n",
       "2018  3.857539e+09        0.888  3.664614e+10  128452535469\n",
       "2019  3.825411e+09        1.025  3.670250e+10  128422888228\n",
       "2020  3.209993e+09        1.052  3.480726e+10  121592752041\n",
       "\n",
       "[171 rows x 4 columns]"
      ]
     },
     "execution_count": 3497,
     "metadata": {},
     "output_type": "execute_result"
    }
   ],
   "source": [
    "df['co2'] = c2.loc[1850:]\n",
    "df"
   ]
  },
  {
   "cell_type": "code",
   "execution_count": 3498,
   "id": "1a7c1ea5",
   "metadata": {},
   "outputs": [
    {
     "data": {
      "text/plain": [
       "<matplotlib.legend.Legend at 0x7faa06539100>"
      ]
     },
     "execution_count": 3498,
     "metadata": {},
     "output_type": "execute_result"
    },
    {
     "data": {
      "image/png": "[encoded data removed]",
      "text/plain": [
       "<Figure size 432x288 with 1 Axes>"
      ]
     },
     "metadata": {
      "needs_background": "light"
     },
     "output_type": "display_data"
    }
   ],
   "source": [
    "for column in df.columns:\n",
    "    df[column].plot()\n",
    "plt.legend(df.columns)"
   ]
  },
  {
   "cell_type": "code",
   "execution_count": 3499,
   "id": "244bf781",
   "metadata": {},
   "outputs": [],
   "source": [
    "# for column in df.columns:\n",
    "#     plt.figure()\n",
    "#     df[column].hist()"
   ]
  },
  {
   "cell_type": "code",
   "execution_count": 3500,
   "id": "ac72de40",
   "metadata": {},
   "outputs": [],
   "source": [
    "# o = []\n",
    "# mean = df['Land_use'].mean()\n",
    "# std = df['Land_use'].std()\n",
    "# for i in range(df['Land_use'].size):\n",
    "#     o.append((df['Land_use'].iloc[i] - mean)/std)\n",
    "# o"
   ]
  },
  {
   "cell_type": "code",
   "execution_count": 3501,
   "id": "2bc93ac0",
   "metadata": {},
   "outputs": [
    {
     "data": {
      "text/html": [
       "<div>\n",
       "<style scoped>\n",
       "    .dataframe tbody tr th:only-of-type {\n",
       "        vertical-align: middle;\n",
       "    }\n",
       "\n",
       "    .dataframe tbody tr th {\n",
       "        vertical-align: top;\n",
       "    }\n",
       "\n",
       "    .dataframe thead th {\n",
       "        text-align: right;\n",
       "    }\n",
       "</style>\n",
       "<table border=\"1\" class=\"dataframe\">\n",
       "  <thead>\n",
       "    <tr style=\"text-align: right;\">\n",
       "      <th></th>\n",
       "      <th>Land_use</th>\n",
       "      <th>Fossil_Fuel</th>\n",
       "      <th>co2</th>\n",
       "      <th>Temperature</th>\n",
       "    </tr>\n",
       "    <tr>\n",
       "      <th>Year</th>\n",
       "      <th></th>\n",
       "      <th></th>\n",
       "      <th></th>\n",
       "      <th></th>\n",
       "    </tr>\n",
       "  </thead>\n",
       "  <tbody>\n",
       "    <tr>\n",
       "      <th>1850</th>\n",
       "      <td>-1.736226</td>\n",
       "      <td>-0.884108</td>\n",
       "      <td>-0.918074</td>\n",
       "      <td>-0.438</td>\n",
       "    </tr>\n",
       "    <tr>\n",
       "      <th>1851</th>\n",
       "      <td>-1.660963</td>\n",
       "      <td>-0.883934</td>\n",
       "      <td>-0.918078</td>\n",
       "      <td>-0.324</td>\n",
       "    </tr>\n",
       "    <tr>\n",
       "      <th>1852</th>\n",
       "      <td>-1.622715</td>\n",
       "      <td>-0.883137</td>\n",
       "      <td>-0.917085</td>\n",
       "      <td>-0.297</td>\n",
       "    </tr>\n",
       "    <tr>\n",
       "      <th>1853</th>\n",
       "      <td>-1.575251</td>\n",
       "      <td>-0.882256</td>\n",
       "      <td>-0.916039</td>\n",
       "      <td>-0.295</td>\n",
       "    </tr>\n",
       "    <tr>\n",
       "      <th>1854</th>\n",
       "      <td>-1.548764</td>\n",
       "      <td>-0.878798</td>\n",
       "      <td>-0.911412</td>\n",
       "      <td>-0.293</td>\n",
       "    </tr>\n",
       "    <tr>\n",
       "      <th>...</th>\n",
       "      <td>...</td>\n",
       "      <td>...</td>\n",
       "      <td>...</td>\n",
       "      <td>...</td>\n",
       "    </tr>\n",
       "    <tr>\n",
       "      <th>2016</th>\n",
       "      <td>-0.602469</td>\n",
       "      <td>2.330056</td>\n",
       "      <td>2.200098</td>\n",
       "      <td>1.059</td>\n",
       "    </tr>\n",
       "    <tr>\n",
       "      <th>2017</th>\n",
       "      <td>-0.642038</td>\n",
       "      <td>2.373203</td>\n",
       "      <td>2.240387</td>\n",
       "      <td>0.963</td>\n",
       "    </tr>\n",
       "    <tr>\n",
       "      <th>2018</th>\n",
       "      <td>-0.452768</td>\n",
       "      <td>2.438881</td>\n",
       "      <td>2.294502</td>\n",
       "      <td>0.888</td>\n",
       "    </tr>\n",
       "    <tr>\n",
       "      <th>2019</th>\n",
       "      <td>-0.484006</td>\n",
       "      <td>2.444019</td>\n",
       "      <td>2.293755</td>\n",
       "      <td>1.025</td>\n",
       "    </tr>\n",
       "    <tr>\n",
       "      <th>2020</th>\n",
       "      <td>-1.082385</td>\n",
       "      <td>2.271234</td>\n",
       "      <td>2.121669</td>\n",
       "      <td>1.052</td>\n",
       "    </tr>\n",
       "  </tbody>\n",
       "</table>\n",
       "<p>171 rows × 4 columns</p>\n",
       "</div>"
      ],
      "text/plain": [
       "      Land_use  Fossil_Fuel       co2  Temperature\n",
       "Year                                              \n",
       "1850 -1.736226    -0.884108 -0.918074       -0.438\n",
       "1851 -1.660963    -0.883934 -0.918078       -0.324\n",
       "1852 -1.622715    -0.883137 -0.917085       -0.297\n",
       "1853 -1.575251    -0.882256 -0.916039       -0.295\n",
       "1854 -1.548764    -0.878798 -0.911412       -0.293\n",
       "...        ...          ...       ...          ...\n",
       "2016 -0.602469     2.330056  2.200098        1.059\n",
       "2017 -0.642038     2.373203  2.240387        0.963\n",
       "2018 -0.452768     2.438881  2.294502        0.888\n",
       "2019 -0.484006     2.444019  2.293755        1.025\n",
       "2020 -1.082385     2.271234  2.121669        1.052\n",
       "\n",
       "[171 rows x 4 columns]"
      ]
     },
     "execution_count": 3501,
     "metadata": {},
     "output_type": "execute_result"
    }
   ],
   "source": [
    "from sklearn.preprocessing import StandardScaler\n",
    "# from sklearn.preprocessing import MinMaxScaler\n",
    "scaler = StandardScaler()\n",
    "df_scaled = pd.DataFrame(index=df.index)\n",
    "df_scaled[['Land_use', 'Fossil_Fuel','co2']] = scaler.fit_transform(df[['Land_use', 'Fossil_Fuel','co2']])\n",
    "df_scaled['Temperature'] = df.Temperature\n",
    "df_scaled"
   ]
  },
  {
   "cell_type": "code",
   "execution_count": 3502,
   "id": "278ab7e6",
   "metadata": {},
   "outputs": [],
   "source": [
    "# for column in df_scaled.columns:\n",
    "#     df_scaled[column] = df_scaled[column].apply(lambda x: x*100)\n",
    "# df_scaled"
   ]
  },
  {
   "cell_type": "code",
   "execution_count": 3503,
   "id": "28aaa208",
   "metadata": {},
   "outputs": [
    {
     "data": {
      "text/plain": [
       "<matplotlib.legend.Legend at 0x7faa0652d5e0>"
      ]
     },
     "execution_count": 3503,
     "metadata": {},
     "output_type": "execute_result"
    },
    {
     "data": {
      "image/png": "[encoded data removed]",
      "text/plain": [
       "<Figure size 432x288 with 1 Axes>"
      ]
     },
     "metadata": {
      "needs_background": "light"
     },
     "output_type": "display_data"
    }
   ],
   "source": [
    "for column in df_scaled.columns:\n",
    "    df_scaled[column].plot()\n",
    "plt.legend(df_scaled.columns)"
   ]
  },
  {
   "cell_type": "code",
   "execution_count": 3504,
   "id": "bff861ef",
   "metadata": {},
   "outputs": [],
   "source": [
    "from sklearn.ensemble import RandomForestRegressor\n",
    "from sklearn import metrics\n",
    "from sklearn.model_selection import train_test_split"
   ]
  },
  {
   "cell_type": "code",
   "execution_count": 3505,
   "id": "5ec161c0",
   "metadata": {},
   "outputs": [
    {
     "name": "stderr",
     "output_type": "stream",
     "text": [
      "/Users/prasanthdwadasi/opt/anaconda3/lib/python3.8/site-packages/IPython/core/displayhook.py:275: UserWarning: Output cache limit (currently 1000 entries) hit.\n",
      "Flushing oldest 200 entries.\n",
      "  warn('Output cache limit (currently {sz} entries) hit.\\n'\n"
     ]
    },
    {
     "data": {
      "text/html": [
       "<div>\n",
       "<style scoped>\n",
       "    .dataframe tbody tr th:only-of-type {\n",
       "        vertical-align: middle;\n",
       "    }\n",
       "\n",
       "    .dataframe tbody tr th {\n",
       "        vertical-align: top;\n",
       "    }\n",
       "\n",
       "    .dataframe thead th {\n",
       "        text-align: right;\n",
       "    }\n",
       "</style>\n",
       "<table border=\"1\" class=\"dataframe\">\n",
       "  <thead>\n",
       "    <tr style=\"text-align: right;\">\n",
       "      <th></th>\n",
       "      <th>Land_use</th>\n",
       "      <th>Fossil_Fuel</th>\n",
       "      <th>co2</th>\n",
       "    </tr>\n",
       "    <tr>\n",
       "      <th>Year</th>\n",
       "      <th></th>\n",
       "      <th></th>\n",
       "      <th></th>\n",
       "    </tr>\n",
       "  </thead>\n",
       "  <tbody>\n",
       "    <tr>\n",
       "      <th>1850</th>\n",
       "      <td>-1.736226</td>\n",
       "      <td>-0.884108</td>\n",
       "      <td>-0.918074</td>\n",
       "    </tr>\n",
       "    <tr>\n",
       "      <th>1851</th>\n",
       "      <td>-1.660963</td>\n",
       "      <td>-0.883934</td>\n",
       "      <td>-0.918078</td>\n",
       "    </tr>\n",
       "    <tr>\n",
       "      <th>1852</th>\n",
       "      <td>-1.622715</td>\n",
       "      <td>-0.883137</td>\n",
       "      <td>-0.917085</td>\n",
       "    </tr>\n",
       "    <tr>\n",
       "      <th>1853</th>\n",
       "      <td>-1.575251</td>\n",
       "      <td>-0.882256</td>\n",
       "      <td>-0.916039</td>\n",
       "    </tr>\n",
       "    <tr>\n",
       "      <th>1854</th>\n",
       "      <td>-1.548764</td>\n",
       "      <td>-0.878798</td>\n",
       "      <td>-0.911412</td>\n",
       "    </tr>\n",
       "    <tr>\n",
       "      <th>...</th>\n",
       "      <td>...</td>\n",
       "      <td>...</td>\n",
       "      <td>...</td>\n",
       "    </tr>\n",
       "    <tr>\n",
       "      <th>2016</th>\n",
       "      <td>-0.602469</td>\n",
       "      <td>2.330056</td>\n",
       "      <td>2.200098</td>\n",
       "    </tr>\n",
       "    <tr>\n",
       "      <th>2017</th>\n",
       "      <td>-0.642038</td>\n",
       "      <td>2.373203</td>\n",
       "      <td>2.240387</td>\n",
       "    </tr>\n",
       "    <tr>\n",
       "      <th>2018</th>\n",
       "      <td>-0.452768</td>\n",
       "      <td>2.438881</td>\n",
       "      <td>2.294502</td>\n",
       "    </tr>\n",
       "    <tr>\n",
       "      <th>2019</th>\n",
       "      <td>-0.484006</td>\n",
       "      <td>2.444019</td>\n",
       "      <td>2.293755</td>\n",
       "    </tr>\n",
       "    <tr>\n",
       "      <th>2020</th>\n",
       "      <td>-1.082385</td>\n",
       "      <td>2.271234</td>\n",
       "      <td>2.121669</td>\n",
       "    </tr>\n",
       "  </tbody>\n",
       "</table>\n",
       "<p>171 rows × 3 columns</p>\n",
       "</div>"
      ],
      "text/plain": [
       "      Land_use  Fossil_Fuel       co2\n",
       "Year                                 \n",
       "1850 -1.736226    -0.884108 -0.918074\n",
       "1851 -1.660963    -0.883934 -0.918078\n",
       "1852 -1.622715    -0.883137 -0.917085\n",
       "1853 -1.575251    -0.882256 -0.916039\n",
       "1854 -1.548764    -0.878798 -0.911412\n",
       "...        ...          ...       ...\n",
       "2016 -0.602469     2.330056  2.200098\n",
       "2017 -0.642038     2.373203  2.240387\n",
       "2018 -0.452768     2.438881  2.294502\n",
       "2019 -0.484006     2.444019  2.293755\n",
       "2020 -1.082385     2.271234  2.121669\n",
       "\n",
       "[171 rows x 3 columns]"
      ]
     },
     "execution_count": 3505,
     "metadata": {},
     "output_type": "execute_result"
    }
   ],
   "source": [
    "y = df_scaled['Temperature']\n",
    "df_scaled.drop(columns=['Temperature'],inplace=True)\n",
    "df_scaled"
   ]
  },
  {
   "cell_type": "code",
   "execution_count": 3506,
   "id": "31e44ba0",
   "metadata": {},
   "outputs": [
    {
     "data": {
      "text/plain": [
       "Year\n",
       "1850   -0.438\n",
       "1851   -0.324\n",
       "1852   -0.297\n",
       "1853   -0.295\n",
       "1854   -0.293\n",
       "        ...  \n",
       "2016    1.059\n",
       "2017    0.963\n",
       "2018    0.888\n",
       "2019    1.025\n",
       "2020    1.052\n",
       "Name: Temperature, Length: 171, dtype: float64"
      ]
     },
     "execution_count": 3506,
     "metadata": {},
     "output_type": "execute_result"
    }
   ],
   "source": [
    "y"
   ]
  },
  {
   "cell_type": "code",
   "execution_count": 3507,
   "id": "bbb53e19",
   "metadata": {},
   "outputs": [
    {
     "data": {
      "text/plain": [
       "((128, 3), (43, 3), (128,), (43,))"
      ]
     },
     "execution_count": 3507,
     "metadata": {},
     "output_type": "execute_result"
    }
   ],
   "source": [
    "X_train, X_test, y_train, y_test = train_test_split(df_scaled, y, random_state=42)\n",
    "X_train.shape, X_test.shape, y_train.shape, y_test.shape\n"
   ]
  },
  {
   "cell_type": "code",
   "execution_count": 3508,
   "id": "f81f48f7",
   "metadata": {},
   "outputs": [
    {
     "data": {
      "text/plain": [
       "RandomForestRegressor()"
      ]
     },
     "execution_count": 3508,
     "metadata": {},
     "output_type": "execute_result"
    }
   ],
   "source": [
    "rf_model = RandomForestRegressor()\n",
    "\n",
    "# Train the model\n",
    "rf_model.fit(X_train, y_train)"
   ]
  },
  {
   "cell_type": "code",
   "execution_count": 3509,
   "id": "497463f2",
   "metadata": {},
   "outputs": [
    {
     "data": {
      "text/plain": [
       "0.8945828058907143"
      ]
     },
     "execution_count": 3509,
     "metadata": {},
     "output_type": "execute_result"
    }
   ],
   "source": [
    "rf_model.score(X_test, y_test)"
   ]
  },
  {
   "cell_type": "code",
   "execution_count": 3510,
   "id": "1df8f1a2",
   "metadata": {},
   "outputs": [],
   "source": [
    "y_pred = rf_model.predict(X_test)"
   ]
  },
  {
   "cell_type": "code",
   "execution_count": 3511,
   "id": "5f29582b",
   "metadata": {},
   "outputs": [
    {
     "data": {
      "text/plain": [
       "<matplotlib.legend.Legend at 0x7fa9e6152ac0>"
      ]
     },
     "execution_count": 3511,
     "metadata": {},
     "output_type": "execute_result"
    },
    {
     "data": {
      "image/png": "[encoded data removed]",
      "text/plain": [
       "<Figure size 432x288 with 1 Axes>"
      ]
     },
     "metadata": {
      "needs_background": "light"
     },
     "output_type": "display_data"
    }
   ],
   "source": [
    "y_pred_df = pd.DataFrame(y_pred, columns=['Temperature'], index=y_test.index)\n",
    "\n",
    "plt.plot(y_test.sort_index())\n",
    "plt.plot(y_pred_df.sort_index())\n",
    "plt.legend(['original','predicted'])"
   ]
  },
  {
   "cell_type": "code",
   "execution_count": 3512,
   "id": "93f12022",
   "metadata": {},
   "outputs": [
    {
     "data": {
      "text/plain": [
       "SVR()"
      ]
     },
     "execution_count": 3512,
     "metadata": {},
     "output_type": "execute_result"
    }
   ],
   "source": [
    "from sklearn.svm import SVR\n",
    "regressor = SVR(kernel = 'rbf')\n",
    "regressor.fit(X_train, y_train)"
   ]
  },
  {
   "cell_type": "code",
   "execution_count": 3513,
   "id": "f3016aa6",
   "metadata": {},
   "outputs": [
    {
     "data": {
      "text/plain": [
       "0.8847778995876486"
      ]
     },
     "execution_count": 3513,
     "metadata": {},
     "output_type": "execute_result"
    }
   ],
   "source": [
    "y_pred = regressor.predict(X_test)\n",
    "regressor.score(X_test, y_test)"
   ]
  },
  {
   "cell_type": "code",
   "execution_count": 3514,
   "id": "91cf5934",
   "metadata": {},
   "outputs": [
    {
     "data": {
      "text/plain": [
       "<matplotlib.legend.Legend at 0x7fa9c357f2b0>"
      ]
     },
     "execution_count": 3514,
     "metadata": {},
     "output_type": "execute_result"
    },
    {
     "data": {
      "image/png": "[encoded data removed]",
      "text/plain": [
       "<Figure size 432x288 with 1 Axes>"
      ]
     },
     "metadata": {
      "needs_background": "light"
     },
     "output_type": "display_data"
    }
   ],
   "source": [
    "y_pred_df2 = pd.DataFrame(y_pred, columns=['Temperature'], index=y_test.index)\n",
    "plt.plot(y_test.sort_index())\n",
    "plt.plot(y_pred_df2.sort_index())\n",
    "plt.legend(['original','predicted'])"
   ]
  },
  {
   "cell_type": "code",
   "execution_count": null,
   "id": "eb1e66b0",
   "metadata": {},
   "outputs": [],
   "source": []
  },
  {
   "cell_type": "markdown",
   "id": "79149e4f",
   "metadata": {},
   "source": [
    "# Objective 3 Forecasting Co2 and temperature"
   ]
  },
  {
   "cell_type": "code",
   "execution_count": null,
   "id": "f25449de",
   "metadata": {},
   "outputs": [],
   "source": []
  },
  {
   "cell_type": "code",
   "execution_count": 3515,
   "id": "3d94f0de",
   "metadata": {},
   "outputs": [
    {
     "data": {
      "text/html": [
       "<div>\n",
       "<style scoped>\n",
       "    .dataframe tbody tr th:only-of-type {\n",
       "        vertical-align: middle;\n",
       "    }\n",
       "\n",
       "    .dataframe tbody tr th {\n",
       "        vertical-align: top;\n",
       "    }\n",
       "\n",
       "    .dataframe thead th {\n",
       "        text-align: right;\n",
       "    }\n",
       "</style>\n",
       "<table border=\"1\" class=\"dataframe\">\n",
       "  <thead>\n",
       "    <tr style=\"text-align: right;\">\n",
       "      <th></th>\n",
       "      <th>Land_use</th>\n",
       "      <th>Fossil_Fuel</th>\n",
       "      <th>co2</th>\n",
       "      <th>Temperature</th>\n",
       "    </tr>\n",
       "    <tr>\n",
       "      <th>Year</th>\n",
       "      <th></th>\n",
       "      <th></th>\n",
       "      <th></th>\n",
       "      <th></th>\n",
       "    </tr>\n",
       "  </thead>\n",
       "  <tbody>\n",
       "    <tr>\n",
       "      <th>1850</th>\n",
       "      <td>-1.736226</td>\n",
       "      <td>-0.884108</td>\n",
       "      <td>-0.918074</td>\n",
       "      <td>-0.438</td>\n",
       "    </tr>\n",
       "    <tr>\n",
       "      <th>1851</th>\n",
       "      <td>-1.660963</td>\n",
       "      <td>-0.883934</td>\n",
       "      <td>-0.918078</td>\n",
       "      <td>-0.324</td>\n",
       "    </tr>\n",
       "    <tr>\n",
       "      <th>1852</th>\n",
       "      <td>-1.622715</td>\n",
       "      <td>-0.883137</td>\n",
       "      <td>-0.917085</td>\n",
       "      <td>-0.297</td>\n",
       "    </tr>\n",
       "    <tr>\n",
       "      <th>1853</th>\n",
       "      <td>-1.575251</td>\n",
       "      <td>-0.882256</td>\n",
       "      <td>-0.916039</td>\n",
       "      <td>-0.295</td>\n",
       "    </tr>\n",
       "    <tr>\n",
       "      <th>1854</th>\n",
       "      <td>-1.548764</td>\n",
       "      <td>-0.878798</td>\n",
       "      <td>-0.911412</td>\n",
       "      <td>-0.293</td>\n",
       "    </tr>\n",
       "    <tr>\n",
       "      <th>...</th>\n",
       "      <td>...</td>\n",
       "      <td>...</td>\n",
       "      <td>...</td>\n",
       "      <td>...</td>\n",
       "    </tr>\n",
       "    <tr>\n",
       "      <th>2016</th>\n",
       "      <td>-0.602469</td>\n",
       "      <td>2.330056</td>\n",
       "      <td>2.200098</td>\n",
       "      <td>1.059</td>\n",
       "    </tr>\n",
       "    <tr>\n",
       "      <th>2017</th>\n",
       "      <td>-0.642038</td>\n",
       "      <td>2.373203</td>\n",
       "      <td>2.240387</td>\n",
       "      <td>0.963</td>\n",
       "    </tr>\n",
       "    <tr>\n",
       "      <th>2018</th>\n",
       "      <td>-0.452768</td>\n",
       "      <td>2.438881</td>\n",
       "      <td>2.294502</td>\n",
       "      <td>0.888</td>\n",
       "    </tr>\n",
       "    <tr>\n",
       "      <th>2019</th>\n",
       "      <td>-0.484006</td>\n",
       "      <td>2.444019</td>\n",
       "      <td>2.293755</td>\n",
       "      <td>1.025</td>\n",
       "    </tr>\n",
       "    <tr>\n",
       "      <th>2020</th>\n",
       "      <td>-1.082385</td>\n",
       "      <td>2.271234</td>\n",
       "      <td>2.121669</td>\n",
       "      <td>1.052</td>\n",
       "    </tr>\n",
       "  </tbody>\n",
       "</table>\n",
       "<p>171 rows × 4 columns</p>\n",
       "</div>"
      ],
      "text/plain": [
       "      Land_use  Fossil_Fuel       co2  Temperature\n",
       "Year                                              \n",
       "1850 -1.736226    -0.884108 -0.918074       -0.438\n",
       "1851 -1.660963    -0.883934 -0.918078       -0.324\n",
       "1852 -1.622715    -0.883137 -0.917085       -0.297\n",
       "1853 -1.575251    -0.882256 -0.916039       -0.295\n",
       "1854 -1.548764    -0.878798 -0.911412       -0.293\n",
       "...        ...          ...       ...          ...\n",
       "2016 -0.602469     2.330056  2.200098        1.059\n",
       "2017 -0.642038     2.373203  2.240387        0.963\n",
       "2018 -0.452768     2.438881  2.294502        0.888\n",
       "2019 -0.484006     2.444019  2.293755        1.025\n",
       "2020 -1.082385     2.271234  2.121669        1.052\n",
       "\n",
       "[171 rows x 4 columns]"
      ]
     },
     "execution_count": 3515,
     "metadata": {},
     "output_type": "execute_result"
    }
   ],
   "source": [
    "df_scaled['Temperature'] = y\n",
    "df_scaled"
   ]
  },
  {
   "cell_type": "code",
   "execution_count": 3516,
   "id": "beaec53f",
   "metadata": {},
   "outputs": [
    {
     "data": {
      "text/plain": [
       "<matplotlib.legend.Legend at 0x7fa9c45f6a00>"
      ]
     },
     "execution_count": 3516,
     "metadata": {},
     "output_type": "execute_result"
    },
    {
     "data": {
      "image/png": "[encoded data removed]",
      "text/plain": [
       "<Figure size 432x288 with 1 Axes>"
      ]
     },
     "metadata": {
      "needs_background": "light"
     },
     "output_type": "display_data"
    }
   ],
   "source": [
    "for column in df_scaled.columns:\n",
    "    df_scaled[column].plot()\n",
    "plt.legend(df_scaled.columns)"
   ]
  },
  {
   "cell_type": "code",
   "execution_count": 3517,
   "id": "23955a80",
   "metadata": {},
   "outputs": [
    {
     "data": {
      "image/png": "[encoded data removed]",
      "text/plain": [
       "<Figure size 432x288 with 1 Axes>"
      ]
     },
     "metadata": {
      "needs_background": "light"
     },
     "output_type": "display_data"
    },
    {
     "data": {
      "image/png": "[encoded data removed]",
      "text/plain": [
       "<Figure size 432x288 with 1 Axes>"
      ]
     },
     "metadata": {
      "needs_background": "light"
     },
     "output_type": "display_data"
    },
    {
     "data": {
      "image/png": "[encoded data removed]",
      "text/plain": [
       "<Figure size 432x288 with 1 Axes>"
      ]
     },
     "metadata": {
      "needs_background": "light"
     },
     "output_type": "display_data"
    },
    {
     "data": {
      "image/png": "[encoded data removed]",
      "text/plain": [
       "<Figure size 432x288 with 1 Axes>"
      ]
     },
     "metadata": {
      "needs_background": "light"
     },
     "output_type": "display_data"
    }
   ],
   "source": [
    "# diff = {}\n",
    "diff = {column:np.diff(df_scaled[column]) for column in df_scaled.columns}\n",
    "diff2 = {keys:np.diff(diff[keys]) for keys in diff}\n",
    "for keys in diff2:\n",
    "    plt.figure()\n",
    "    plt.plot(diff2[keys])"
   ]
  },
  {
   "cell_type": "code",
   "execution_count": 3518,
   "id": "d216ee86",
   "metadata": {},
   "outputs": [
    {
     "name": "stdout",
     "output_type": "stream",
     "text": [
      "AD fuller test on column Land_use is\n",
      "ADF Statistic: -6.717987\n",
      "p-value: 0.000000\n",
      "AD fuller test on column Fossil_Fuel is\n",
      "ADF Statistic: -4.514305\n",
      "p-value: 0.000185\n",
      "AD fuller test on column co2 is\n",
      "ADF Statistic: -4.939076\n",
      "p-value: 0.000029\n",
      "AD fuller test on column Temperature is\n",
      "ADF Statistic: -7.657263\n",
      "p-value: 0.000000\n"
     ]
    }
   ],
   "source": [
    "for keys in diff2: \n",
    "    X = diff2[keys]\n",
    "    print(f\"AD fuller test on column {keys} is\")\n",
    "    result = adfuller(X)\n",
    "    print('ADF Statistic: %f' % result[0])\n",
    "    print('p-value: %f' % result[1])"
   ]
  },
  {
   "cell_type": "code",
   "execution_count": 3519,
   "id": "593bcd64",
   "metadata": {},
   "outputs": [
    {
     "data": {
      "text/html": [
       "<div>\n",
       "<style scoped>\n",
       "    .dataframe tbody tr th:only-of-type {\n",
       "        vertical-align: middle;\n",
       "    }\n",
       "\n",
       "    .dataframe tbody tr th {\n",
       "        vertical-align: top;\n",
       "    }\n",
       "\n",
       "    .dataframe thead th {\n",
       "        text-align: right;\n",
       "    }\n",
       "</style>\n",
       "<table border=\"1\" class=\"dataframe\">\n",
       "  <thead>\n",
       "    <tr style=\"text-align: right;\">\n",
       "      <th></th>\n",
       "      <th>Land_use</th>\n",
       "      <th>Fossil_Fuel</th>\n",
       "      <th>co2</th>\n",
       "      <th>Temperature</th>\n",
       "    </tr>\n",
       "    <tr>\n",
       "      <th>Year</th>\n",
       "      <th></th>\n",
       "      <th></th>\n",
       "      <th></th>\n",
       "      <th></th>\n",
       "    </tr>\n",
       "  </thead>\n",
       "  <tbody>\n",
       "    <tr>\n",
       "      <th>1852</th>\n",
       "      <td>-0.037016</td>\n",
       "      <td>0.000623</td>\n",
       "      <td>0.000996</td>\n",
       "      <td>-0.087</td>\n",
       "    </tr>\n",
       "    <tr>\n",
       "      <th>1853</th>\n",
       "      <td>0.009216</td>\n",
       "      <td>0.000083</td>\n",
       "      <td>0.000054</td>\n",
       "      <td>-0.025</td>\n",
       "    </tr>\n",
       "    <tr>\n",
       "      <th>1854</th>\n",
       "      <td>-0.020977</td>\n",
       "      <td>0.002577</td>\n",
       "      <td>0.003580</td>\n",
       "      <td>0.000</td>\n",
       "    </tr>\n",
       "    <tr>\n",
       "      <th>1855</th>\n",
       "      <td>-0.010192</td>\n",
       "      <td>-0.003000</td>\n",
       "      <td>-0.004247</td>\n",
       "      <td>0.009</td>\n",
       "    </tr>\n",
       "    <tr>\n",
       "      <th>1856</th>\n",
       "      <td>0.010869</td>\n",
       "      <td>0.001103</td>\n",
       "      <td>0.001684</td>\n",
       "      <td>-0.127</td>\n",
       "    </tr>\n",
       "    <tr>\n",
       "      <th>...</th>\n",
       "      <td>...</td>\n",
       "      <td>...</td>\n",
       "      <td>...</td>\n",
       "      <td>...</td>\n",
       "    </tr>\n",
       "    <tr>\n",
       "      <th>2016</th>\n",
       "      <td>-1.231477</td>\n",
       "      <td>-0.000539</td>\n",
       "      <td>-0.002734</td>\n",
       "      <td>-0.005</td>\n",
       "    </tr>\n",
       "    <tr>\n",
       "      <th>2017</th>\n",
       "      <td>0.994323</td>\n",
       "      <td>0.047154</td>\n",
       "      <td>0.042175</td>\n",
       "      <td>-0.233</td>\n",
       "    </tr>\n",
       "    <tr>\n",
       "      <th>2018</th>\n",
       "      <td>0.228839</td>\n",
       "      <td>0.022530</td>\n",
       "      <td>0.013826</td>\n",
       "      <td>0.021</td>\n",
       "    </tr>\n",
       "    <tr>\n",
       "      <th>2019</th>\n",
       "      <td>-0.220509</td>\n",
       "      <td>-0.060539</td>\n",
       "      <td>-0.054862</td>\n",
       "      <td>0.212</td>\n",
       "    </tr>\n",
       "    <tr>\n",
       "      <th>2020</th>\n",
       "      <td>-0.567141</td>\n",
       "      <td>-0.177923</td>\n",
       "      <td>-0.171339</td>\n",
       "      <td>-0.110</td>\n",
       "    </tr>\n",
       "  </tbody>\n",
       "</table>\n",
       "<p>169 rows × 4 columns</p>\n",
       "</div>"
      ],
      "text/plain": [
       "      Land_use  Fossil_Fuel       co2  Temperature\n",
       "Year                                              \n",
       "1852 -0.037016     0.000623  0.000996       -0.087\n",
       "1853  0.009216     0.000083  0.000054       -0.025\n",
       "1854 -0.020977     0.002577  0.003580        0.000\n",
       "1855 -0.010192    -0.003000 -0.004247        0.009\n",
       "1856  0.010869     0.001103  0.001684       -0.127\n",
       "...        ...          ...       ...          ...\n",
       "2016 -1.231477    -0.000539 -0.002734       -0.005\n",
       "2017  0.994323     0.047154  0.042175       -0.233\n",
       "2018  0.228839     0.022530  0.013826        0.021\n",
       "2019 -0.220509    -0.060539 -0.054862        0.212\n",
       "2020 -0.567141    -0.177923 -0.171339       -0.110\n",
       "\n",
       "[169 rows x 4 columns]"
      ]
     },
     "execution_count": 3519,
     "metadata": {},
     "output_type": "execute_result"
    }
   ],
   "source": [
    "# df_stat = pd.DataFrame(diff2,index = df_scaled.index[2:])\n",
    "# df_stat\n",
    "df_differenced = df_scaled.diff().dropna()\n",
    "df_stat = df_differenced.diff().dropna()\n",
    "df_stat"
   ]
  },
  {
   "cell_type": "code",
   "execution_count": 3520,
   "id": "1653993e",
   "metadata": {},
   "outputs": [
    {
     "data": {
      "image/png": "[encoded data removed]",
      "text/plain": [
       "<Figure size 432x288 with 1 Axes>"
      ]
     },
     "metadata": {
      "needs_background": "light"
     },
     "output_type": "display_data"
    },
    {
     "data": {
      "image/png": "[encoded data removed]",
      "text/plain": [
       "<Figure size 432x288 with 1 Axes>"
      ]
     },
     "metadata": {
      "needs_background": "light"
     },
     "output_type": "display_data"
    },
    {
     "data": {
      "image/png": "[encoded data removed]",
      "text/plain": [
       "<Figure size 432x288 with 1 Axes>"
      ]
     },
     "metadata": {
      "needs_background": "light"
     },
     "output_type": "display_data"
    },
    {
     "data": {
      "image/png": "[encoded data removed]",
      "text/plain": [
       "<Figure size 432x288 with 1 Axes>"
      ]
     },
     "metadata": {
      "needs_background": "light"
     },
     "output_type": "display_data"
    },
    {
     "data": {
      "image/png": "[encoded data removed]",
      "text/plain": [
       "<Figure size 432x288 with 1 Axes>"
      ]
     },
     "metadata": {
      "needs_background": "light"
     },
     "output_type": "display_data"
    },
    {
     "data": {
      "image/png": "[encoded data removed]",
      "text/plain": [
       "<Figure size 432x288 with 1 Axes>"
      ]
     },
     "metadata": {
      "needs_background": "light"
     },
     "output_type": "display_data"
    },
    {
     "data": {
      "image/png": "[encoded data removed]",
      "text/plain": [
       "<Figure size 432x288 with 1 Axes>"
      ]
     },
     "metadata": {
      "needs_background": "light"
     },
     "output_type": "display_data"
    },
    {
     "data": {
      "image/png": "[encoded data removed]",
      "text/plain": [
       "<Figure size 432x288 with 1 Axes>"
      ]
     },
     "metadata": {
      "needs_background": "light"
     },
     "output_type": "display_data"
    }
   ],
   "source": [
    "for column in df_stat.columns:\n",
    "    plot_acf(df_stat[column],lags = 13)\n",
    "    plot_pacf(df_stat[column],lags = 13,method='ywm')\n",
    "    plt.show()"
   ]
  },
  {
   "cell_type": "code",
   "execution_count": 3521,
   "id": "076d4ddd",
   "metadata": {},
   "outputs": [],
   "source": [
    "#creating the train and validation set\n",
    "train = df_stat[:int(0.9*(len(df)))]\n",
    "valid = df_stat[int(0.9*(len(df))):]\n",
    "# train.shape,valid.shape"
   ]
  },
  {
   "cell_type": "code",
   "execution_count": 3522,
   "id": "405cbbef",
   "metadata": {},
   "outputs": [
    {
     "data": {
      "text/html": [
       "<table class=\"simpletable\">\n",
       "<caption>VAR Order Selection (* highlights the minimums)</caption>\n",
       "<tr>\n",
       "  <td></td>      <th>AIC</th>         <th>BIC</th>         <th>FPE</th>        <th>HQIC</th>    \n",
       "</tr>\n",
       "<tr>\n",
       "  <th>0</th> <td>    -21.77</td>  <td>    -21.69</td>  <td> 3.496e-10</td>  <td>    -21.74</td> \n",
       "</tr>\n",
       "<tr>\n",
       "  <th>1</th> <td>    -22.94</td>  <td>    -22.52</td>  <td> 1.093e-10</td>  <td>    -22.77</td> \n",
       "</tr>\n",
       "<tr>\n",
       "  <th>2</th> <td>    -23.44</td>  <td>    -22.70*</td> <td> 6.626e-11</td>  <td>    -23.14</td> \n",
       "</tr>\n",
       "<tr>\n",
       "  <th>3</th> <td>    -23.59</td>  <td>    -22.52</td>  <td> 5.693e-11</td>  <td>    -23.16</td> \n",
       "</tr>\n",
       "<tr>\n",
       "  <th>4</th> <td>    -23.62</td>  <td>    -22.22</td>  <td> 5.552e-11</td>  <td>    -23.05</td> \n",
       "</tr>\n",
       "<tr>\n",
       "  <th>5</th> <td>    -23.87</td>  <td>    -22.14</td>  <td> 4.327e-11</td>  <td>    -23.17*</td>\n",
       "</tr>\n",
       "<tr>\n",
       "  <th>6</th> <td>    -23.95</td>  <td>    -21.88</td>  <td> 4.043e-11</td>  <td>    -23.11</td> \n",
       "</tr>\n",
       "<tr>\n",
       "  <th>7</th> <td>    -23.99*</td> <td>    -21.60</td>  <td> 3.898e-11*</td> <td>    -23.02</td> \n",
       "</tr>\n",
       "<tr>\n",
       "  <th>8</th> <td>    -23.90</td>  <td>    -21.18</td>  <td> 4.311e-11</td>  <td>    -22.79</td> \n",
       "</tr>\n",
       "<tr>\n",
       "  <th>9</th> <td>    -23.94</td>  <td>    -20.89</td>  <td> 4.211e-11</td>  <td>    -22.70</td> \n",
       "</tr>\n",
       "</table>"
      ],
      "text/plain": [
       "<class 'statsmodels.iolib.table.SimpleTable'>"
      ]
     },
     "execution_count": 3522,
     "metadata": {},
     "output_type": "execute_result"
    }
   ],
   "source": [
    "from statsmodels.tsa.vector_ar.var_model import VAR\n",
    "\n",
    "model = VAR(train)\n",
    "x = model.select_order(maxlags=9)\n",
    "x.summary()\n",
    "# x.selected_orders\n",
    "# model_fit = model.fit()\n",
    "\n",
    "# # make prediction on validation\n",
    "\n",
    "# prediction = model_fit.forecast(np.asarray(train), steps=len(valid))"
   ]
  },
  {
   "cell_type": "code",
   "execution_count": 3523,
   "id": "e0a81db7",
   "metadata": {},
   "outputs": [],
   "source": [
    "model_fit = model.fit() #(x.aic)\n",
    "# print(model_fit.summary())\n",
    "# # make prediction on validation\n",
    "\n",
    "prediction = model_fit.forecast(np.asarray(train), steps=len(valid))\n",
    "# from statsmodels.stats.stattools import durbin_watson\n",
    "# out = durbin_watson(model_fit.resid)\n",
    "# for col, val in zip(df_stat.columns, out):\n",
    "#     print(col, ':', round(val, 2))"
   ]
  },
  {
   "cell_type": "code",
   "execution_count": 3524,
   "id": "04d14421",
   "metadata": {},
   "outputs": [],
   "source": [
    "# forecast_input = df_stat.values[-len(train):]"
   ]
  },
  {
   "cell_type": "code",
   "execution_count": 3525,
   "id": "cee3608a",
   "metadata": {},
   "outputs": [
    {
     "data": {
      "text/html": [
       "<div>\n",
       "<style scoped>\n",
       "    .dataframe tbody tr th:only-of-type {\n",
       "        vertical-align: middle;\n",
       "    }\n",
       "\n",
       "    .dataframe tbody tr th {\n",
       "        vertical-align: top;\n",
       "    }\n",
       "\n",
       "    .dataframe thead th {\n",
       "        text-align: right;\n",
       "    }\n",
       "</style>\n",
       "<table border=\"1\" class=\"dataframe\">\n",
       "  <thead>\n",
       "    <tr style=\"text-align: right;\">\n",
       "      <th></th>\n",
       "      <th>Land_use_2d</th>\n",
       "      <th>Fossil_Fuel_2d</th>\n",
       "      <th>co2_2d</th>\n",
       "      <th>Temperature_2d</th>\n",
       "    </tr>\n",
       "    <tr>\n",
       "      <th>Year</th>\n",
       "      <th></th>\n",
       "      <th></th>\n",
       "      <th></th>\n",
       "      <th></th>\n",
       "    </tr>\n",
       "  </thead>\n",
       "  <tbody>\n",
       "    <tr>\n",
       "      <th>2005</th>\n",
       "      <td>0.539695</td>\n",
       "      <td>-0.003644</td>\n",
       "      <td>0.000832</td>\n",
       "      <td>-0.062898</td>\n",
       "    </tr>\n",
       "    <tr>\n",
       "      <th>2006</th>\n",
       "      <td>-0.317050</td>\n",
       "      <td>0.007682</td>\n",
       "      <td>0.005319</td>\n",
       "      <td>0.079030</td>\n",
       "    </tr>\n",
       "    <tr>\n",
       "      <th>2007</th>\n",
       "      <td>0.172878</td>\n",
       "      <td>-0.005153</td>\n",
       "      <td>-0.004372</td>\n",
       "      <td>-0.063425</td>\n",
       "    </tr>\n",
       "    <tr>\n",
       "      <th>2008</th>\n",
       "      <td>-0.093814</td>\n",
       "      <td>0.004726</td>\n",
       "      <td>0.004517</td>\n",
       "      <td>0.038629</td>\n",
       "    </tr>\n",
       "    <tr>\n",
       "      <th>2009</th>\n",
       "      <td>0.046035</td>\n",
       "      <td>-0.001589</td>\n",
       "      <td>-0.001820</td>\n",
       "      <td>-0.023180</td>\n",
       "    </tr>\n",
       "    <tr>\n",
       "      <th>2010</th>\n",
       "      <td>-0.025566</td>\n",
       "      <td>0.001949</td>\n",
       "      <td>0.002089</td>\n",
       "      <td>0.009988</td>\n",
       "    </tr>\n",
       "    <tr>\n",
       "      <th>2011</th>\n",
       "      <td>0.010844</td>\n",
       "      <td>0.000190</td>\n",
       "      <td>-0.000075</td>\n",
       "      <td>-0.005964</td>\n",
       "    </tr>\n",
       "    <tr>\n",
       "      <th>2012</th>\n",
       "      <td>-0.007939</td>\n",
       "      <td>0.000953</td>\n",
       "      <td>0.001013</td>\n",
       "      <td>0.000839</td>\n",
       "    </tr>\n",
       "    <tr>\n",
       "      <th>2013</th>\n",
       "      <td>0.002110</td>\n",
       "      <td>0.000684</td>\n",
       "      <td>0.000518</td>\n",
       "      <td>-0.001624</td>\n",
       "    </tr>\n",
       "    <tr>\n",
       "      <th>2014</th>\n",
       "      <td>-0.003551</td>\n",
       "      <td>0.000741</td>\n",
       "      <td>0.000717</td>\n",
       "      <td>-0.000969</td>\n",
       "    </tr>\n",
       "    <tr>\n",
       "      <th>2015</th>\n",
       "      <td>-0.000188</td>\n",
       "      <td>0.000758</td>\n",
       "      <td>0.000650</td>\n",
       "      <td>-0.001000</td>\n",
       "    </tr>\n",
       "    <tr>\n",
       "      <th>2016</th>\n",
       "      <td>-0.002270</td>\n",
       "      <td>0.000725</td>\n",
       "      <td>0.000666</td>\n",
       "      <td>-0.001111</td>\n",
       "    </tr>\n",
       "    <tr>\n",
       "      <th>2017</th>\n",
       "      <td>-0.000952</td>\n",
       "      <td>0.000753</td>\n",
       "      <td>0.000667</td>\n",
       "      <td>-0.001016</td>\n",
       "    </tr>\n",
       "    <tr>\n",
       "      <th>2018</th>\n",
       "      <td>-0.001791</td>\n",
       "      <td>0.000735</td>\n",
       "      <td>0.000663</td>\n",
       "      <td>-0.001066</td>\n",
       "    </tr>\n",
       "    <tr>\n",
       "      <th>2019</th>\n",
       "      <td>-0.001259</td>\n",
       "      <td>0.000745</td>\n",
       "      <td>0.000665</td>\n",
       "      <td>-0.001050</td>\n",
       "    </tr>\n",
       "    <tr>\n",
       "      <th>2020</th>\n",
       "      <td>-0.001592</td>\n",
       "      <td>0.000740</td>\n",
       "      <td>0.000664</td>\n",
       "      <td>-0.001048</td>\n",
       "    </tr>\n",
       "  </tbody>\n",
       "</table>\n",
       "</div>"
      ],
      "text/plain": [
       "      Land_use_2d  Fossil_Fuel_2d    co2_2d  Temperature_2d\n",
       "Year                                                       \n",
       "2005     0.539695       -0.003644  0.000832       -0.062898\n",
       "2006    -0.317050        0.007682  0.005319        0.079030\n",
       "2007     0.172878       -0.005153 -0.004372       -0.063425\n",
       "2008    -0.093814        0.004726  0.004517        0.038629\n",
       "2009     0.046035       -0.001589 -0.001820       -0.023180\n",
       "2010    -0.025566        0.001949  0.002089        0.009988\n",
       "2011     0.010844        0.000190 -0.000075       -0.005964\n",
       "2012    -0.007939        0.000953  0.001013        0.000839\n",
       "2013     0.002110        0.000684  0.000518       -0.001624\n",
       "2014    -0.003551        0.000741  0.000717       -0.000969\n",
       "2015    -0.000188        0.000758  0.000650       -0.001000\n",
       "2016    -0.002270        0.000725  0.000666       -0.001111\n",
       "2017    -0.000952        0.000753  0.000667       -0.001016\n",
       "2018    -0.001791        0.000735  0.000663       -0.001066\n",
       "2019    -0.001259        0.000745  0.000665       -0.001050\n",
       "2020    -0.001592        0.000740  0.000664       -0.001048"
      ]
     },
     "execution_count": 3525,
     "metadata": {},
     "output_type": "execute_result"
    }
   ],
   "source": [
    "nobs = len(valid)\n",
    "# fc = model_fit.forecast(y=forecast_input, steps=nobs)\n",
    "df_forecast = pd.DataFrame(prediction, index=df_stat.index[-nobs:], columns=df_stat.columns + '_2d')\n",
    "df_forecast"
   ]
  },
  {
   "cell_type": "code",
   "execution_count": 3526,
   "id": "dfea0300",
   "metadata": {},
   "outputs": [],
   "source": [
    "# def invert_transformation(df_train, df_forecast, second_diff=False):\n",
    "#     \"\"\"Revert back the differencing to get the forecast to original scale.\"\"\"\n",
    "#     df_fc = df_forecast.copy()\n",
    "#     columns = df_train.columns\n",
    "#     for col in columns        \n",
    "#         # Roll back 2nd Diff\n",
    "#         if second_diff:\n",
    "#             df_fc[str(col)+'_1d'] = (df_train[col].iloc[-1]-df_train[col].iloc[-2]) + df_fc[str(col)+'_2d'].cumsum()\n",
    "#         # Roll back 1st Diff\n",
    "#         df_fc[str(col)+'_forecast'] = df_train[col].iloc[-1] + df_fc[str(col)+'_1d'].cumsum()\n",
    "#     return df_fc"
   ]
  },
  {
   "cell_type": "code",
   "execution_count": 3527,
   "id": "6995c69a",
   "metadata": {},
   "outputs": [],
   "source": [
    "# df_results = invert_transformation(df_stat, df_forecast, second_diff=True)    \n",
    "# df_results"
   ]
  },
  {
   "cell_type": "code",
   "execution_count": 3528,
   "id": "fe1f7b0f",
   "metadata": {},
   "outputs": [],
   "source": [
    "# fig, axes = plt.subplots(nrows=int(len(df_scaled.columns)/2), ncols=2, dpi=150, figsize=(10,10))\n",
    "# for i, (col,ax) in enumerate(zip(df_scaled.columns, axes.flatten())):\n",
    "#     df_results[col+'_forecast'].plot(legend=True, ax=ax).autoscale(axis='x',tight=True)\n",
    "#     valid[col][-nobs:].plot(legend=True, ax=ax);\n",
    "#     ax.set_title(col + \": Forecast vs Actuals\")\n",
    "#     ax.xaxis.set_ticks_position('none')\n",
    "#     ax.yaxis.set_ticks_position('none')\n",
    "#     ax.spines[\"top\"].set_alpha(0)\n",
    "#     ax.tick_params(labelsize=6)\n",
    "\n",
    "# plt.tight_layout();"
   ]
  },
  {
   "cell_type": "code",
   "execution_count": null,
   "id": "7592b14f",
   "metadata": {},
   "outputs": [],
   "source": []
  },
  {
   "cell_type": "code",
   "execution_count": 3529,
   "id": "b46629cb",
   "metadata": {},
   "outputs": [
    {
     "name": "stdout",
     "output_type": "stream",
     "text": [
      "root mean square error is 0.150407513661957\n"
     ]
    }
   ],
   "source": [
    "rows,cols = valid.shape\n",
    "sum = 0 \n",
    "for row in range(rows):\n",
    "    for col in range(cols):\n",
    "#         print(row,col)\n",
    "        sum += (valid.iloc[row][col]-prediction[row][col])**2\n",
    "sum = sum/(rows*cols)\n",
    "print(f\"root mean square error is {sum}\")"
   ]
  },
  {
   "cell_type": "code",
   "execution_count": 3530,
   "id": "9fb4eb38",
   "metadata": {},
   "outputs": [
    {
     "name": "stdout",
     "output_type": "stream",
     "text": [
      "Lag Order = 1\n",
      "AIC :  -22.394691180280315\n",
      "BIC :  -22.02279070654183\n",
      "FPE :  1.8799216234695637e-10\n",
      "HQIC:  -22.24375585784484 \n",
      "\n",
      "Lag Order = 2\n",
      "AIC :  -22.939932958228574\n",
      "BIC :  -22.267790579504002\n",
      "FPE :  1.0901726685463916e-10\n",
      "HQIC:  -22.667125161401255 \n",
      "\n",
      "Lag Order = 3\n",
      "AIC :  -23.13815849536292\n",
      "BIC :  -22.163318947203038\n",
      "FPE :  8.949190142029305e-11\n",
      "HQIC:  -22.742464602963302 \n",
      "\n",
      "Lag Order = 4\n",
      "AIC :  -23.144951342290504\n",
      "BIC :  -21.864925328804205\n",
      "FPE :  8.903281437722209e-11\n",
      "HQIC:  -22.62534426937557 \n",
      "\n",
      "Lag Order = 5\n",
      "AIC :  -23.243001794455605\n",
      "BIC :  -21.6552653314237\n",
      "FPE :  8.093722521363287e-11\n",
      "HQIC:  -22.598440754257727 \n",
      "\n",
      "Lag Order = 6\n",
      "AIC :  -23.323850308350472\n",
      "BIC :  -21.425844050186814\n",
      "FPE :  7.495815715415659e-11\n",
      "HQIC:  -22.553280569173513 \n",
      "\n",
      "Lag Order = 7\n",
      "AIC :  -23.375007314368737\n",
      "BIC :  -21.164135864449253\n",
      "FPE :  7.163703833715499e-11\n",
      "HQIC:  -22.47735995132736 \n",
      "\n",
      "Lag Order = 8\n",
      "AIC :  -23.39465986223774\n",
      "BIC :  -20.86829106610141\n",
      "FPE :  7.080440961589875e-11\n",
      "HQIC:  -22.36885150372275 \n",
      "\n",
      "Lag Order = 9\n",
      "AIC :  -23.49913480835244\n",
      "BIC :  -20.654599029261153\n",
      "FPE :  6.445477409485869e-11\n",
      "HQIC:  -22.34406737710269 \n",
      "\n",
      "Lag Order = 10\n",
      "AIC :  -23.47376975770631\n",
      "BIC :  -20.308359134032614\n",
      "FPE :  6.701317519703008e-11\n",
      "HQIC:  -22.18833020636557 \n",
      "\n",
      "Lag Order = 11\n",
      "AIC :  -23.427358216093268\n",
      "BIC :  -19.938325899986598\n",
      "FPE :  7.14111863394583e-11\n",
      "HQIC:  -22.010418257128283 \n",
      "\n",
      "Lag Order = 12\n",
      "AIC :  -23.433346518105502\n",
      "BIC :  -19.617905894868127\n",
      "FPE :  7.251830972162673e-11\n",
      "HQIC:  -21.883762347959227 \n",
      "\n",
      "Lag Order = 13\n",
      "AIC :  -23.388665062270146\n",
      "BIC :  -19.24398894985411\n",
      "FPE :  7.785346380808979e-11\n",
      "HQIC:  -21.705277079622174 \n",
      "\n"
     ]
    }
   ],
   "source": [
    "model = VAR(df_stat)\n",
    "for i in range(1,14):\n",
    "    result = model.fit(i)\n",
    "    print('Lag Order =', i)\n",
    "    print('AIC : ', result.aic)\n",
    "    print('BIC : ', result.bic)\n",
    "    print('FPE : ', result.fpe)\n",
    "    print('HQIC: ', result.hqic, '\\n')"
   ]
  },
  {
   "cell_type": "code",
   "execution_count": 3531,
   "id": "e7920522",
   "metadata": {
    "scrolled": true
   },
   "outputs": [],
   "source": [
    "model = VAR(df_stat)\n",
    "# x = model.select_order(maxlags=13)\n",
    "# print(x.summary())\n",
    "model_fit = model.fit(9) #x.aic\n",
    "# out = durbin_watson(model_fit.resid)\n",
    "# for col, val in zip(df_stat.columns, out):\n",
    "#     print(col, ':', round(val, 2))\n",
    "yhat = model_fit.forecast(np.asarray(df_stat), steps=25)\n",
    "# print(yhat)"
   ]
  },
  {
   "cell_type": "code",
   "execution_count": 3532,
   "id": "0d225cc0",
   "metadata": {},
   "outputs": [],
   "source": [
    "date_index = pd.date_range('2021', periods=25, freq='Y')\n",
    "df_pred = pd.DataFrame(yhat,index=date_index,columns=df_scaled.columns)\n",
    "# df_pred.plot()\n",
    "# df_stat.plot()\n"
   ]
  },
  {
   "cell_type": "code",
   "execution_count": 3533,
   "id": "ed5d5235",
   "metadata": {},
   "outputs": [
    {
     "data": {
      "text/html": [
       "<div>\n",
       "<style scoped>\n",
       "    .dataframe tbody tr th:only-of-type {\n",
       "        vertical-align: middle;\n",
       "    }\n",
       "\n",
       "    .dataframe tbody tr th {\n",
       "        vertical-align: top;\n",
       "    }\n",
       "\n",
       "    .dataframe thead th {\n",
       "        text-align: right;\n",
       "    }\n",
       "</style>\n",
       "<table border=\"1\" class=\"dataframe\">\n",
       "  <thead>\n",
       "    <tr style=\"text-align: right;\">\n",
       "      <th></th>\n",
       "      <th>Land_use</th>\n",
       "      <th>Fossil_Fuel</th>\n",
       "      <th>co2</th>\n",
       "      <th>Temperature</th>\n",
       "    </tr>\n",
       "  </thead>\n",
       "  <tbody>\n",
       "    <tr>\n",
       "      <th>2021</th>\n",
       "      <td>0.235349</td>\n",
       "      <td>0.128639</td>\n",
       "      <td>0.116943</td>\n",
       "      <td>-0.028782</td>\n",
       "    </tr>\n",
       "    <tr>\n",
       "      <th>2022</th>\n",
       "      <td>-0.033200</td>\n",
       "      <td>0.042900</td>\n",
       "      <td>0.046174</td>\n",
       "      <td>-0.021302</td>\n",
       "    </tr>\n",
       "    <tr>\n",
       "      <th>2023</th>\n",
       "      <td>0.306013</td>\n",
       "      <td>-0.073159</td>\n",
       "      <td>-0.052969</td>\n",
       "      <td>0.007760</td>\n",
       "    </tr>\n",
       "    <tr>\n",
       "      <th>2024</th>\n",
       "      <td>0.251942</td>\n",
       "      <td>0.021327</td>\n",
       "      <td>0.013673</td>\n",
       "      <td>0.039415</td>\n",
       "    </tr>\n",
       "    <tr>\n",
       "      <th>2025</th>\n",
       "      <td>-0.540341</td>\n",
       "      <td>0.068648</td>\n",
       "      <td>0.056240</td>\n",
       "      <td>0.052395</td>\n",
       "    </tr>\n",
       "    <tr>\n",
       "      <th>2026</th>\n",
       "      <td>-0.267816</td>\n",
       "      <td>-0.034371</td>\n",
       "      <td>-0.028566</td>\n",
       "      <td>-0.050095</td>\n",
       "    </tr>\n",
       "    <tr>\n",
       "      <th>2027</th>\n",
       "      <td>0.191165</td>\n",
       "      <td>-0.084886</td>\n",
       "      <td>-0.084251</td>\n",
       "      <td>-0.031556</td>\n",
       "    </tr>\n",
       "    <tr>\n",
       "      <th>2028</th>\n",
       "      <td>0.034787</td>\n",
       "      <td>0.031090</td>\n",
       "      <td>0.039122</td>\n",
       "      <td>0.070407</td>\n",
       "    </tr>\n",
       "    <tr>\n",
       "      <th>2029</th>\n",
       "      <td>-0.086667</td>\n",
       "      <td>0.028062</td>\n",
       "      <td>0.022230</td>\n",
       "      <td>0.060831</td>\n",
       "    </tr>\n",
       "    <tr>\n",
       "      <th>2030</th>\n",
       "      <td>0.330529</td>\n",
       "      <td>-0.021517</td>\n",
       "      <td>-0.024911</td>\n",
       "      <td>-0.242131</td>\n",
       "    </tr>\n",
       "    <tr>\n",
       "      <th>2031</th>\n",
       "      <td>-0.089892</td>\n",
       "      <td>-0.019524</td>\n",
       "      <td>-0.013079</td>\n",
       "      <td>0.069726</td>\n",
       "    </tr>\n",
       "    <tr>\n",
       "      <th>2032</th>\n",
       "      <td>0.065525</td>\n",
       "      <td>0.056874</td>\n",
       "      <td>0.051985</td>\n",
       "      <td>0.124227</td>\n",
       "    </tr>\n",
       "    <tr>\n",
       "      <th>2033</th>\n",
       "      <td>-0.057830</td>\n",
       "      <td>0.004420</td>\n",
       "      <td>-0.000080</td>\n",
       "      <td>-0.014275</td>\n",
       "    </tr>\n",
       "    <tr>\n",
       "      <th>2034</th>\n",
       "      <td>-0.477171</td>\n",
       "      <td>-0.049360</td>\n",
       "      <td>-0.042450</td>\n",
       "      <td>-0.071233</td>\n",
       "    </tr>\n",
       "    <tr>\n",
       "      <th>2035</th>\n",
       "      <td>0.351288</td>\n",
       "      <td>-0.011723</td>\n",
       "      <td>-0.008703</td>\n",
       "      <td>0.053492</td>\n",
       "    </tr>\n",
       "    <tr>\n",
       "      <th>2036</th>\n",
       "      <td>0.155843</td>\n",
       "      <td>0.019736</td>\n",
       "      <td>0.015148</td>\n",
       "      <td>0.024076</td>\n",
       "    </tr>\n",
       "    <tr>\n",
       "      <th>2037</th>\n",
       "      <td>-0.215596</td>\n",
       "      <td>0.004291</td>\n",
       "      <td>0.005612</td>\n",
       "      <td>-0.076914</td>\n",
       "    </tr>\n",
       "    <tr>\n",
       "      <th>2038</th>\n",
       "      <td>0.031019</td>\n",
       "      <td>-0.016345</td>\n",
       "      <td>-0.013208</td>\n",
       "      <td>-0.032045</td>\n",
       "    </tr>\n",
       "    <tr>\n",
       "      <th>2039</th>\n",
       "      <td>0.092496</td>\n",
       "      <td>0.025627</td>\n",
       "      <td>0.022905</td>\n",
       "      <td>0.082932</td>\n",
       "    </tr>\n",
       "    <tr>\n",
       "      <th>2040</th>\n",
       "      <td>-0.071027</td>\n",
       "      <td>0.015862</td>\n",
       "      <td>0.010501</td>\n",
       "      <td>0.003666</td>\n",
       "    </tr>\n",
       "    <tr>\n",
       "      <th>2041</th>\n",
       "      <td>-0.001882</td>\n",
       "      <td>-0.026416</td>\n",
       "      <td>-0.022814</td>\n",
       "      <td>-0.030223</td>\n",
       "    </tr>\n",
       "    <tr>\n",
       "      <th>2042</th>\n",
       "      <td>0.008784</td>\n",
       "      <td>-0.026074</td>\n",
       "      <td>-0.022135</td>\n",
       "      <td>0.012189</td>\n",
       "    </tr>\n",
       "    <tr>\n",
       "      <th>2043</th>\n",
       "      <td>-0.104631</td>\n",
       "      <td>0.013385</td>\n",
       "      <td>0.009250</td>\n",
       "      <td>0.042758</td>\n",
       "    </tr>\n",
       "    <tr>\n",
       "      <th>2044</th>\n",
       "      <td>0.113359</td>\n",
       "      <td>0.013647</td>\n",
       "      <td>0.013929</td>\n",
       "      <td>-0.069021</td>\n",
       "    </tr>\n",
       "    <tr>\n",
       "      <th>2045</th>\n",
       "      <td>0.034540</td>\n",
       "      <td>-0.008522</td>\n",
       "      <td>-0.005318</td>\n",
       "      <td>-0.037033</td>\n",
       "    </tr>\n",
       "  </tbody>\n",
       "</table>\n",
       "</div>"
      ],
      "text/plain": [
       "      Land_use  Fossil_Fuel       co2  Temperature\n",
       "2021  0.235349     0.128639  0.116943    -0.028782\n",
       "2022 -0.033200     0.042900  0.046174    -0.021302\n",
       "2023  0.306013    -0.073159 -0.052969     0.007760\n",
       "2024  0.251942     0.021327  0.013673     0.039415\n",
       "2025 -0.540341     0.068648  0.056240     0.052395\n",
       "2026 -0.267816    -0.034371 -0.028566    -0.050095\n",
       "2027  0.191165    -0.084886 -0.084251    -0.031556\n",
       "2028  0.034787     0.031090  0.039122     0.070407\n",
       "2029 -0.086667     0.028062  0.022230     0.060831\n",
       "2030  0.330529    -0.021517 -0.024911    -0.242131\n",
       "2031 -0.089892    -0.019524 -0.013079     0.069726\n",
       "2032  0.065525     0.056874  0.051985     0.124227\n",
       "2033 -0.057830     0.004420 -0.000080    -0.014275\n",
       "2034 -0.477171    -0.049360 -0.042450    -0.071233\n",
       "2035  0.351288    -0.011723 -0.008703     0.053492\n",
       "2036  0.155843     0.019736  0.015148     0.024076\n",
       "2037 -0.215596     0.004291  0.005612    -0.076914\n",
       "2038  0.031019    -0.016345 -0.013208    -0.032045\n",
       "2039  0.092496     0.025627  0.022905     0.082932\n",
       "2040 -0.071027     0.015862  0.010501     0.003666\n",
       "2041 -0.001882    -0.026416 -0.022814    -0.030223\n",
       "2042  0.008784    -0.026074 -0.022135     0.012189\n",
       "2043 -0.104631     0.013385  0.009250     0.042758\n",
       "2044  0.113359     0.013647  0.013929    -0.069021\n",
       "2045  0.034540    -0.008522 -0.005318    -0.037033"
      ]
     },
     "execution_count": 3533,
     "metadata": {},
     "output_type": "execute_result"
    }
   ],
   "source": [
    "# df_pred[['Land_use', 'Fossil_Fuel']] = scaler.inverse_transform(df_pred[['Land_use', 'Fossil_Fuel']])\n",
    "# df[['Land_use', 'Fossil_Fuel']] = scaler.inverse_transform(df[['Land_use', 'Fossil_Fuel']])\n",
    "df_pred.index = df_pred.index.year\n",
    "df_pred"
   ]
  },
  {
   "cell_type": "markdown",
   "id": "c89c439a",
   "metadata": {},
   "source": [
    "## getting original values back"
   ]
  },
  {
   "cell_type": "code",
   "execution_count": 3534,
   "id": "6946f5ac",
   "metadata": {},
   "outputs": [
    {
     "data": {
      "text/html": [
       "<div>\n",
       "<style scoped>\n",
       "    .dataframe tbody tr th:only-of-type {\n",
       "        vertical-align: middle;\n",
       "    }\n",
       "\n",
       "    .dataframe tbody tr th {\n",
       "        vertical-align: top;\n",
       "    }\n",
       "\n",
       "    .dataframe thead th {\n",
       "        text-align: right;\n",
       "    }\n",
       "</style>\n",
       "<table border=\"1\" class=\"dataframe\">\n",
       "  <thead>\n",
       "    <tr style=\"text-align: right;\">\n",
       "      <th></th>\n",
       "      <th>Land_use</th>\n",
       "      <th>Fossil_Fuel</th>\n",
       "      <th>co2</th>\n",
       "      <th>Temperature</th>\n",
       "    </tr>\n",
       "  </thead>\n",
       "  <tbody>\n",
       "    <tr>\n",
       "      <th>1850</th>\n",
       "      <td>-0.438000</td>\n",
       "      <td>-0.438000</td>\n",
       "      <td>-0.438000</td>\n",
       "      <td>-0.438000</td>\n",
       "    </tr>\n",
       "    <tr>\n",
       "      <th>1851</th>\n",
       "      <td>-0.362737</td>\n",
       "      <td>-0.437826</td>\n",
       "      <td>-0.438003</td>\n",
       "      <td>-0.324000</td>\n",
       "    </tr>\n",
       "    <tr>\n",
       "      <th>1852</th>\n",
       "      <td>-0.324489</td>\n",
       "      <td>-0.437029</td>\n",
       "      <td>-0.437011</td>\n",
       "      <td>-0.297000</td>\n",
       "    </tr>\n",
       "    <tr>\n",
       "      <th>1853</th>\n",
       "      <td>-0.277025</td>\n",
       "      <td>-0.436148</td>\n",
       "      <td>-0.435964</td>\n",
       "      <td>-0.295000</td>\n",
       "    </tr>\n",
       "    <tr>\n",
       "      <th>1854</th>\n",
       "      <td>-0.250538</td>\n",
       "      <td>-0.432690</td>\n",
       "      <td>-0.431338</td>\n",
       "      <td>-0.293000</td>\n",
       "    </tr>\n",
       "    <tr>\n",
       "      <th>...</th>\n",
       "      <td>...</td>\n",
       "      <td>...</td>\n",
       "      <td>...</td>\n",
       "      <td>...</td>\n",
       "    </tr>\n",
       "    <tr>\n",
       "      <th>2041</th>\n",
       "      <td>-7.096959</td>\n",
       "      <td>1.601299</td>\n",
       "      <td>1.487697</td>\n",
       "      <td>1.475184</td>\n",
       "    </tr>\n",
       "    <tr>\n",
       "      <th>2042</th>\n",
       "      <td>-7.482021</td>\n",
       "      <td>1.512615</td>\n",
       "      <td>1.402976</td>\n",
       "      <td>1.504742</td>\n",
       "    </tr>\n",
       "    <tr>\n",
       "      <th>2043</th>\n",
       "      <td>-7.971714</td>\n",
       "      <td>1.437316</td>\n",
       "      <td>1.327506</td>\n",
       "      <td>1.577058</td>\n",
       "    </tr>\n",
       "    <tr>\n",
       "      <th>2044</th>\n",
       "      <td>-8.348048</td>\n",
       "      <td>1.375663</td>\n",
       "      <td>1.265964</td>\n",
       "      <td>1.580354</td>\n",
       "    </tr>\n",
       "    <tr>\n",
       "      <th>2045</th>\n",
       "      <td>-8.689842</td>\n",
       "      <td>1.305489</td>\n",
       "      <td>1.199105</td>\n",
       "      <td>1.546616</td>\n",
       "    </tr>\n",
       "  </tbody>\n",
       "</table>\n",
       "<p>196 rows × 4 columns</p>\n",
       "</div>"
      ],
      "text/plain": [
       "      Land_use  Fossil_Fuel       co2  Temperature\n",
       "1850 -0.438000    -0.438000 -0.438000    -0.438000\n",
       "1851 -0.362737    -0.437826 -0.438003    -0.324000\n",
       "1852 -0.324489    -0.437029 -0.437011    -0.297000\n",
       "1853 -0.277025    -0.436148 -0.435964    -0.295000\n",
       "1854 -0.250538    -0.432690 -0.431338    -0.293000\n",
       "...        ...          ...       ...          ...\n",
       "2041 -7.096959     1.601299  1.487697     1.475184\n",
       "2042 -7.482021     1.512615  1.402976     1.504742\n",
       "2043 -7.971714     1.437316  1.327506     1.577058\n",
       "2044 -8.348048     1.375663  1.265964     1.580354\n",
       "2045 -8.689842     1.305489  1.199105     1.546616\n",
       "\n",
       "[196 rows x 4 columns]"
      ]
     },
     "execution_count": 3534,
     "metadata": {},
     "output_type": "execute_result"
    }
   ],
   "source": [
    "# diff = {column:np.diff(df_scaled[column]) for column in df_scaled.columns}\n",
    "# diff2 = {keys:np.diff(diff[keys]) for keys in diff}\n",
    "df_whole = pd.concat([df_stat, df_pred], axis=0)\n",
    "# df_differenced[columns].iloc[0]\n",
    "df_differenced[column].iloc[0]\n",
    "\n",
    "cumsum1 = {column:np.r_[df_differenced[column].iloc[0],df_whole[column]].cumsum() for column in df_whole.columns}\n",
    "cumsum2 = {keys:np.r_[df_scaled[column].iloc[0],cumsum1[keys]].cumsum() for keys in cumsum1}\n",
    "\n",
    "index = [i for i in df_scaled.index]\n",
    "\n",
    "for i in df_pred.index:\n",
    "    index.append(i)\n",
    "\n",
    "df_orig = pd.DataFrame(cumsum2,index = pd.to_datetime(index,format='%Y').year )\n",
    "\n",
    "# for i in df_scaled.index:\n",
    "#     index.append(i)\n",
    "df_orig"
   ]
  },
  {
   "cell_type": "code",
   "execution_count": 3535,
   "id": "3b2b315e",
   "metadata": {},
   "outputs": [
    {
     "data": {
      "text/plain": [
       "<matplotlib.legend.Legend at 0x7fa9c4935bb0>"
      ]
     },
     "execution_count": 3535,
     "metadata": {},
     "output_type": "execute_result"
    },
    {
     "data": {
      "image/png": "[encoded data removed]",
      "text/plain": [
       "<Figure size 432x288 with 1 Axes>"
      ]
     },
     "metadata": {
      "needs_background": "light"
     },
     "output_type": "display_data"
    }
   ],
   "source": [
    "for column in df_orig.columns:\n",
    "    df_orig[column].plot()\n",
    "plt.legend(df_orig.columns)"
   ]
  },
  {
   "cell_type": "code",
   "execution_count": 3536,
   "id": "7be2ae58",
   "metadata": {},
   "outputs": [
    {
     "data": {
      "text/html": [
       "<div>\n",
       "<style scoped>\n",
       "    .dataframe tbody tr th:only-of-type {\n",
       "        vertical-align: middle;\n",
       "    }\n",
       "\n",
       "    .dataframe tbody tr th {\n",
       "        vertical-align: top;\n",
       "    }\n",
       "\n",
       "    .dataframe thead th {\n",
       "        text-align: right;\n",
       "    }\n",
       "</style>\n",
       "<table border=\"1\" class=\"dataframe\">\n",
       "  <thead>\n",
       "    <tr style=\"text-align: right;\">\n",
       "      <th></th>\n",
       "      <th>Land_use</th>\n",
       "      <th>Fossil_Fuel</th>\n",
       "      <th>co2</th>\n",
       "      <th>Temperature</th>\n",
       "    </tr>\n",
       "  </thead>\n",
       "  <tbody>\n",
       "    <tr>\n",
       "      <th>2021</th>\n",
       "      <td>0.235349</td>\n",
       "      <td>0.128639</td>\n",
       "      <td>0.116943</td>\n",
       "      <td>-0.028782</td>\n",
       "    </tr>\n",
       "    <tr>\n",
       "      <th>2022</th>\n",
       "      <td>-0.033200</td>\n",
       "      <td>0.042900</td>\n",
       "      <td>0.046174</td>\n",
       "      <td>-0.021302</td>\n",
       "    </tr>\n",
       "    <tr>\n",
       "      <th>2023</th>\n",
       "      <td>0.306013</td>\n",
       "      <td>-0.073159</td>\n",
       "      <td>-0.052969</td>\n",
       "      <td>0.007760</td>\n",
       "    </tr>\n",
       "    <tr>\n",
       "      <th>2024</th>\n",
       "      <td>0.251942</td>\n",
       "      <td>0.021327</td>\n",
       "      <td>0.013673</td>\n",
       "      <td>0.039415</td>\n",
       "    </tr>\n",
       "    <tr>\n",
       "      <th>2025</th>\n",
       "      <td>-0.540341</td>\n",
       "      <td>0.068648</td>\n",
       "      <td>0.056240</td>\n",
       "      <td>0.052395</td>\n",
       "    </tr>\n",
       "    <tr>\n",
       "      <th>2026</th>\n",
       "      <td>-0.267816</td>\n",
       "      <td>-0.034371</td>\n",
       "      <td>-0.028566</td>\n",
       "      <td>-0.050095</td>\n",
       "    </tr>\n",
       "    <tr>\n",
       "      <th>2027</th>\n",
       "      <td>0.191165</td>\n",
       "      <td>-0.084886</td>\n",
       "      <td>-0.084251</td>\n",
       "      <td>-0.031556</td>\n",
       "    </tr>\n",
       "    <tr>\n",
       "      <th>2028</th>\n",
       "      <td>0.034787</td>\n",
       "      <td>0.031090</td>\n",
       "      <td>0.039122</td>\n",
       "      <td>0.070407</td>\n",
       "    </tr>\n",
       "    <tr>\n",
       "      <th>2029</th>\n",
       "      <td>-0.086667</td>\n",
       "      <td>0.028062</td>\n",
       "      <td>0.022230</td>\n",
       "      <td>0.060831</td>\n",
       "    </tr>\n",
       "    <tr>\n",
       "      <th>2030</th>\n",
       "      <td>0.330529</td>\n",
       "      <td>-0.021517</td>\n",
       "      <td>-0.024911</td>\n",
       "      <td>-0.242131</td>\n",
       "    </tr>\n",
       "    <tr>\n",
       "      <th>2031</th>\n",
       "      <td>-0.089892</td>\n",
       "      <td>-0.019524</td>\n",
       "      <td>-0.013079</td>\n",
       "      <td>0.069726</td>\n",
       "    </tr>\n",
       "    <tr>\n",
       "      <th>2032</th>\n",
       "      <td>0.065525</td>\n",
       "      <td>0.056874</td>\n",
       "      <td>0.051985</td>\n",
       "      <td>0.124227</td>\n",
       "    </tr>\n",
       "    <tr>\n",
       "      <th>2033</th>\n",
       "      <td>-0.057830</td>\n",
       "      <td>0.004420</td>\n",
       "      <td>-0.000080</td>\n",
       "      <td>-0.014275</td>\n",
       "    </tr>\n",
       "    <tr>\n",
       "      <th>2034</th>\n",
       "      <td>-0.477171</td>\n",
       "      <td>-0.049360</td>\n",
       "      <td>-0.042450</td>\n",
       "      <td>-0.071233</td>\n",
       "    </tr>\n",
       "    <tr>\n",
       "      <th>2035</th>\n",
       "      <td>0.351288</td>\n",
       "      <td>-0.011723</td>\n",
       "      <td>-0.008703</td>\n",
       "      <td>0.053492</td>\n",
       "    </tr>\n",
       "    <tr>\n",
       "      <th>2036</th>\n",
       "      <td>0.155843</td>\n",
       "      <td>0.019736</td>\n",
       "      <td>0.015148</td>\n",
       "      <td>0.024076</td>\n",
       "    </tr>\n",
       "    <tr>\n",
       "      <th>2037</th>\n",
       "      <td>-0.215596</td>\n",
       "      <td>0.004291</td>\n",
       "      <td>0.005612</td>\n",
       "      <td>-0.076914</td>\n",
       "    </tr>\n",
       "    <tr>\n",
       "      <th>2038</th>\n",
       "      <td>0.031019</td>\n",
       "      <td>-0.016345</td>\n",
       "      <td>-0.013208</td>\n",
       "      <td>-0.032045</td>\n",
       "    </tr>\n",
       "    <tr>\n",
       "      <th>2039</th>\n",
       "      <td>0.092496</td>\n",
       "      <td>0.025627</td>\n",
       "      <td>0.022905</td>\n",
       "      <td>0.082932</td>\n",
       "    </tr>\n",
       "    <tr>\n",
       "      <th>2040</th>\n",
       "      <td>-0.071027</td>\n",
       "      <td>0.015862</td>\n",
       "      <td>0.010501</td>\n",
       "      <td>0.003666</td>\n",
       "    </tr>\n",
       "    <tr>\n",
       "      <th>2041</th>\n",
       "      <td>-0.001882</td>\n",
       "      <td>-0.026416</td>\n",
       "      <td>-0.022814</td>\n",
       "      <td>-0.030223</td>\n",
       "    </tr>\n",
       "    <tr>\n",
       "      <th>2042</th>\n",
       "      <td>0.008784</td>\n",
       "      <td>-0.026074</td>\n",
       "      <td>-0.022135</td>\n",
       "      <td>0.012189</td>\n",
       "    </tr>\n",
       "    <tr>\n",
       "      <th>2043</th>\n",
       "      <td>-0.104631</td>\n",
       "      <td>0.013385</td>\n",
       "      <td>0.009250</td>\n",
       "      <td>0.042758</td>\n",
       "    </tr>\n",
       "    <tr>\n",
       "      <th>2044</th>\n",
       "      <td>0.113359</td>\n",
       "      <td>0.013647</td>\n",
       "      <td>0.013929</td>\n",
       "      <td>-0.069021</td>\n",
       "    </tr>\n",
       "    <tr>\n",
       "      <th>2045</th>\n",
       "      <td>0.034540</td>\n",
       "      <td>-0.008522</td>\n",
       "      <td>-0.005318</td>\n",
       "      <td>-0.037033</td>\n",
       "    </tr>\n",
       "  </tbody>\n",
       "</table>\n",
       "</div>"
      ],
      "text/plain": [
       "      Land_use  Fossil_Fuel       co2  Temperature\n",
       "2021  0.235349     0.128639  0.116943    -0.028782\n",
       "2022 -0.033200     0.042900  0.046174    -0.021302\n",
       "2023  0.306013    -0.073159 -0.052969     0.007760\n",
       "2024  0.251942     0.021327  0.013673     0.039415\n",
       "2025 -0.540341     0.068648  0.056240     0.052395\n",
       "2026 -0.267816    -0.034371 -0.028566    -0.050095\n",
       "2027  0.191165    -0.084886 -0.084251    -0.031556\n",
       "2028  0.034787     0.031090  0.039122     0.070407\n",
       "2029 -0.086667     0.028062  0.022230     0.060831\n",
       "2030  0.330529    -0.021517 -0.024911    -0.242131\n",
       "2031 -0.089892    -0.019524 -0.013079     0.069726\n",
       "2032  0.065525     0.056874  0.051985     0.124227\n",
       "2033 -0.057830     0.004420 -0.000080    -0.014275\n",
       "2034 -0.477171    -0.049360 -0.042450    -0.071233\n",
       "2035  0.351288    -0.011723 -0.008703     0.053492\n",
       "2036  0.155843     0.019736  0.015148     0.024076\n",
       "2037 -0.215596     0.004291  0.005612    -0.076914\n",
       "2038  0.031019    -0.016345 -0.013208    -0.032045\n",
       "2039  0.092496     0.025627  0.022905     0.082932\n",
       "2040 -0.071027     0.015862  0.010501     0.003666\n",
       "2041 -0.001882    -0.026416 -0.022814    -0.030223\n",
       "2042  0.008784    -0.026074 -0.022135     0.012189\n",
       "2043 -0.104631     0.013385  0.009250     0.042758\n",
       "2044  0.113359     0.013647  0.013929    -0.069021\n",
       "2045  0.034540    -0.008522 -0.005318    -0.037033"
      ]
     },
     "execution_count": 3536,
     "metadata": {},
     "output_type": "execute_result"
    }
   ],
   "source": [
    "# df_pred.index = pd.DatetimeIndex(df_pred.index).year\n",
    "df_pred"
   ]
  },
  {
   "cell_type": "code",
   "execution_count": 3537,
   "id": "62e89b0e",
   "metadata": {},
   "outputs": [],
   "source": [
    "y_test = df_pred['Temperature']\n",
    "df_pred.drop(columns = ['Temperature'],inplace = True)"
   ]
  },
  {
   "cell_type": "code",
   "execution_count": 3538,
   "id": "1d5220cf",
   "metadata": {},
   "outputs": [
    {
     "data": {
      "text/plain": [
       "array([-0.01983, -0.07116, -0.09519, -0.02987, -0.05997, -0.05271,\n",
       "       -0.0371 , -0.05812, -0.06933, -0.09881, -0.06933, -0.06532,\n",
       "       -0.07116, -0.06041, -0.02381, -0.05602, -0.05114, -0.05784,\n",
       "       -0.05304, -0.0695 , -0.06717, -0.05959, -0.06933, -0.05372,\n",
       "       -0.05812])"
      ]
     },
     "execution_count": 3538,
     "metadata": {},
     "output_type": "execute_result"
    }
   ],
   "source": [
    "y_pred = rf_model.predict(df_pred)\n",
    "y_pred"
   ]
  },
  {
   "cell_type": "code",
   "execution_count": 3539,
   "id": "8ea9c600",
   "metadata": {},
   "outputs": [
    {
     "data": {
      "text/plain": [
       "<matplotlib.legend.Legend at 0x7fa9e6328760>"
      ]
     },
     "execution_count": 3539,
     "metadata": {},
     "output_type": "execute_result"
    },
    {
     "data": {
      "image/png": "[encoded data removed]",
      "text/plain": [
       "<Figure size 432x288 with 1 Axes>"
      ]
     },
     "metadata": {
      "needs_background": "light"
     },
     "output_type": "display_data"
    }
   ],
   "source": [
    "y_pred_df = pd.DataFrame(y_pred, columns=['Temperature'], index=y_test.index)\n",
    "plt.plot(y_test.sort_index())\n",
    "plt.plot(y_pred_df.sort_index())\n",
    "plt.legend(['VAR prediction','Decision tree Prediction'])"
   ]
  },
  {
   "cell_type": "code",
   "execution_count": 3540,
   "id": "39e76582",
   "metadata": {},
   "outputs": [
    {
     "data": {
      "text/plain": [
       "-0.565044223173885"
      ]
     },
     "execution_count": 3540,
     "metadata": {},
     "output_type": "execute_result"
    }
   ],
   "source": [
    "rf_model.score(df_pred, y_test)"
   ]
  },
  {
   "cell_type": "code",
   "execution_count": 3541,
   "id": "801c54f8",
   "metadata": {},
   "outputs": [
    {
     "data": {
      "text/html": [
       "<div>\n",
       "<style scoped>\n",
       "    .dataframe tbody tr th:only-of-type {\n",
       "        vertical-align: middle;\n",
       "    }\n",
       "\n",
       "    .dataframe tbody tr th {\n",
       "        vertical-align: top;\n",
       "    }\n",
       "\n",
       "    .dataframe thead th {\n",
       "        text-align: right;\n",
       "    }\n",
       "</style>\n",
       "<table border=\"1\" class=\"dataframe\">\n",
       "  <thead>\n",
       "    <tr style=\"text-align: right;\">\n",
       "      <th></th>\n",
       "      <th>Land_use</th>\n",
       "      <th>Fossil_Fuel</th>\n",
       "      <th>co2</th>\n",
       "      <th>Temperature</th>\n",
       "    </tr>\n",
       "  </thead>\n",
       "  <tbody>\n",
       "    <tr>\n",
       "      <th>2021</th>\n",
       "      <td>0.235349</td>\n",
       "      <td>0.128639</td>\n",
       "      <td>0.116943</td>\n",
       "      <td>-0.028782</td>\n",
       "    </tr>\n",
       "    <tr>\n",
       "      <th>2022</th>\n",
       "      <td>-0.033200</td>\n",
       "      <td>0.042900</td>\n",
       "      <td>0.046174</td>\n",
       "      <td>-0.021302</td>\n",
       "    </tr>\n",
       "    <tr>\n",
       "      <th>2023</th>\n",
       "      <td>0.306013</td>\n",
       "      <td>-0.073159</td>\n",
       "      <td>-0.052969</td>\n",
       "      <td>0.007760</td>\n",
       "    </tr>\n",
       "    <tr>\n",
       "      <th>2024</th>\n",
       "      <td>0.251942</td>\n",
       "      <td>0.021327</td>\n",
       "      <td>0.013673</td>\n",
       "      <td>0.039415</td>\n",
       "    </tr>\n",
       "    <tr>\n",
       "      <th>2025</th>\n",
       "      <td>-0.540341</td>\n",
       "      <td>0.068648</td>\n",
       "      <td>0.056240</td>\n",
       "      <td>0.052395</td>\n",
       "    </tr>\n",
       "    <tr>\n",
       "      <th>2026</th>\n",
       "      <td>-0.267816</td>\n",
       "      <td>-0.034371</td>\n",
       "      <td>-0.028566</td>\n",
       "      <td>-0.050095</td>\n",
       "    </tr>\n",
       "    <tr>\n",
       "      <th>2027</th>\n",
       "      <td>0.191165</td>\n",
       "      <td>-0.084886</td>\n",
       "      <td>-0.084251</td>\n",
       "      <td>-0.031556</td>\n",
       "    </tr>\n",
       "    <tr>\n",
       "      <th>2028</th>\n",
       "      <td>0.034787</td>\n",
       "      <td>0.031090</td>\n",
       "      <td>0.039122</td>\n",
       "      <td>0.070407</td>\n",
       "    </tr>\n",
       "    <tr>\n",
       "      <th>2029</th>\n",
       "      <td>-0.086667</td>\n",
       "      <td>0.028062</td>\n",
       "      <td>0.022230</td>\n",
       "      <td>0.060831</td>\n",
       "    </tr>\n",
       "    <tr>\n",
       "      <th>2030</th>\n",
       "      <td>0.330529</td>\n",
       "      <td>-0.021517</td>\n",
       "      <td>-0.024911</td>\n",
       "      <td>-0.242131</td>\n",
       "    </tr>\n",
       "    <tr>\n",
       "      <th>2031</th>\n",
       "      <td>-0.089892</td>\n",
       "      <td>-0.019524</td>\n",
       "      <td>-0.013079</td>\n",
       "      <td>0.069726</td>\n",
       "    </tr>\n",
       "    <tr>\n",
       "      <th>2032</th>\n",
       "      <td>0.065525</td>\n",
       "      <td>0.056874</td>\n",
       "      <td>0.051985</td>\n",
       "      <td>0.124227</td>\n",
       "    </tr>\n",
       "    <tr>\n",
       "      <th>2033</th>\n",
       "      <td>-0.057830</td>\n",
       "      <td>0.004420</td>\n",
       "      <td>-0.000080</td>\n",
       "      <td>-0.014275</td>\n",
       "    </tr>\n",
       "    <tr>\n",
       "      <th>2034</th>\n",
       "      <td>-0.477171</td>\n",
       "      <td>-0.049360</td>\n",
       "      <td>-0.042450</td>\n",
       "      <td>-0.071233</td>\n",
       "    </tr>\n",
       "    <tr>\n",
       "      <th>2035</th>\n",
       "      <td>0.351288</td>\n",
       "      <td>-0.011723</td>\n",
       "      <td>-0.008703</td>\n",
       "      <td>0.053492</td>\n",
       "    </tr>\n",
       "    <tr>\n",
       "      <th>2036</th>\n",
       "      <td>0.155843</td>\n",
       "      <td>0.019736</td>\n",
       "      <td>0.015148</td>\n",
       "      <td>0.024076</td>\n",
       "    </tr>\n",
       "    <tr>\n",
       "      <th>2037</th>\n",
       "      <td>-0.215596</td>\n",
       "      <td>0.004291</td>\n",
       "      <td>0.005612</td>\n",
       "      <td>-0.076914</td>\n",
       "    </tr>\n",
       "    <tr>\n",
       "      <th>2038</th>\n",
       "      <td>0.031019</td>\n",
       "      <td>-0.016345</td>\n",
       "      <td>-0.013208</td>\n",
       "      <td>-0.032045</td>\n",
       "    </tr>\n",
       "    <tr>\n",
       "      <th>2039</th>\n",
       "      <td>0.092496</td>\n",
       "      <td>0.025627</td>\n",
       "      <td>0.022905</td>\n",
       "      <td>0.082932</td>\n",
       "    </tr>\n",
       "    <tr>\n",
       "      <th>2040</th>\n",
       "      <td>-0.071027</td>\n",
       "      <td>0.015862</td>\n",
       "      <td>0.010501</td>\n",
       "      <td>0.003666</td>\n",
       "    </tr>\n",
       "    <tr>\n",
       "      <th>2041</th>\n",
       "      <td>-0.001882</td>\n",
       "      <td>-0.026416</td>\n",
       "      <td>-0.022814</td>\n",
       "      <td>-0.030223</td>\n",
       "    </tr>\n",
       "    <tr>\n",
       "      <th>2042</th>\n",
       "      <td>0.008784</td>\n",
       "      <td>-0.026074</td>\n",
       "      <td>-0.022135</td>\n",
       "      <td>0.012189</td>\n",
       "    </tr>\n",
       "    <tr>\n",
       "      <th>2043</th>\n",
       "      <td>-0.104631</td>\n",
       "      <td>0.013385</td>\n",
       "      <td>0.009250</td>\n",
       "      <td>0.042758</td>\n",
       "    </tr>\n",
       "    <tr>\n",
       "      <th>2044</th>\n",
       "      <td>0.113359</td>\n",
       "      <td>0.013647</td>\n",
       "      <td>0.013929</td>\n",
       "      <td>-0.069021</td>\n",
       "    </tr>\n",
       "    <tr>\n",
       "      <th>2045</th>\n",
       "      <td>0.034540</td>\n",
       "      <td>-0.008522</td>\n",
       "      <td>-0.005318</td>\n",
       "      <td>-0.037033</td>\n",
       "    </tr>\n",
       "  </tbody>\n",
       "</table>\n",
       "</div>"
      ],
      "text/plain": [
       "      Land_use  Fossil_Fuel       co2  Temperature\n",
       "2021  0.235349     0.128639  0.116943    -0.028782\n",
       "2022 -0.033200     0.042900  0.046174    -0.021302\n",
       "2023  0.306013    -0.073159 -0.052969     0.007760\n",
       "2024  0.251942     0.021327  0.013673     0.039415\n",
       "2025 -0.540341     0.068648  0.056240     0.052395\n",
       "2026 -0.267816    -0.034371 -0.028566    -0.050095\n",
       "2027  0.191165    -0.084886 -0.084251    -0.031556\n",
       "2028  0.034787     0.031090  0.039122     0.070407\n",
       "2029 -0.086667     0.028062  0.022230     0.060831\n",
       "2030  0.330529    -0.021517 -0.024911    -0.242131\n",
       "2031 -0.089892    -0.019524 -0.013079     0.069726\n",
       "2032  0.065525     0.056874  0.051985     0.124227\n",
       "2033 -0.057830     0.004420 -0.000080    -0.014275\n",
       "2034 -0.477171    -0.049360 -0.042450    -0.071233\n",
       "2035  0.351288    -0.011723 -0.008703     0.053492\n",
       "2036  0.155843     0.019736  0.015148     0.024076\n",
       "2037 -0.215596     0.004291  0.005612    -0.076914\n",
       "2038  0.031019    -0.016345 -0.013208    -0.032045\n",
       "2039  0.092496     0.025627  0.022905     0.082932\n",
       "2040 -0.071027     0.015862  0.010501     0.003666\n",
       "2041 -0.001882    -0.026416 -0.022814    -0.030223\n",
       "2042  0.008784    -0.026074 -0.022135     0.012189\n",
       "2043 -0.104631     0.013385  0.009250     0.042758\n",
       "2044  0.113359     0.013647  0.013929    -0.069021\n",
       "2045  0.034540    -0.008522 -0.005318    -0.037033"
      ]
     },
     "execution_count": 3541,
     "metadata": {},
     "output_type": "execute_result"
    }
   ],
   "source": [
    "df_pred['Temperature'] = y_test\n",
    "df_pred"
   ]
  },
  {
   "cell_type": "markdown",
   "id": "d3146f1c",
   "metadata": {},
   "source": [
    "# Objective 4 Predicting gases based on Temperature"
   ]
  },
  {
   "cell_type": "code",
   "execution_count": 3542,
   "id": "fee8e918",
   "metadata": {},
   "outputs": [
    {
     "data": {
      "text/html": [
       "<div>\n",
       "<style scoped>\n",
       "    .dataframe tbody tr th:only-of-type {\n",
       "        vertical-align: middle;\n",
       "    }\n",
       "\n",
       "    .dataframe tbody tr th {\n",
       "        vertical-align: top;\n",
       "    }\n",
       "\n",
       "    .dataframe thead th {\n",
       "        text-align: right;\n",
       "    }\n",
       "</style>\n",
       "<table border=\"1\" class=\"dataframe\">\n",
       "  <thead>\n",
       "    <tr style=\"text-align: right;\">\n",
       "      <th></th>\n",
       "      <th>Land_use</th>\n",
       "      <th>Fossil_Fuel</th>\n",
       "      <th>co2</th>\n",
       "      <th>Temperature</th>\n",
       "    </tr>\n",
       "  </thead>\n",
       "  <tbody>\n",
       "    <tr>\n",
       "      <th>1850</th>\n",
       "      <td>-0.438000</td>\n",
       "      <td>-0.438000</td>\n",
       "      <td>-0.438000</td>\n",
       "      <td>-0.438</td>\n",
       "    </tr>\n",
       "    <tr>\n",
       "      <th>1851</th>\n",
       "      <td>-0.362737</td>\n",
       "      <td>-0.437826</td>\n",
       "      <td>-0.438003</td>\n",
       "      <td>-0.324</td>\n",
       "    </tr>\n",
       "    <tr>\n",
       "      <th>1852</th>\n",
       "      <td>-0.324489</td>\n",
       "      <td>-0.437029</td>\n",
       "      <td>-0.437011</td>\n",
       "      <td>-0.297</td>\n",
       "    </tr>\n",
       "    <tr>\n",
       "      <th>1853</th>\n",
       "      <td>-0.277025</td>\n",
       "      <td>-0.436148</td>\n",
       "      <td>-0.435964</td>\n",
       "      <td>-0.295</td>\n",
       "    </tr>\n",
       "    <tr>\n",
       "      <th>1854</th>\n",
       "      <td>-0.250538</td>\n",
       "      <td>-0.432690</td>\n",
       "      <td>-0.431338</td>\n",
       "      <td>-0.293</td>\n",
       "    </tr>\n",
       "    <tr>\n",
       "      <th>...</th>\n",
       "      <td>...</td>\n",
       "      <td>...</td>\n",
       "      <td>...</td>\n",
       "      <td>...</td>\n",
       "    </tr>\n",
       "    <tr>\n",
       "      <th>2016</th>\n",
       "      <td>0.695757</td>\n",
       "      <td>2.776164</td>\n",
       "      <td>2.680173</td>\n",
       "      <td>1.059</td>\n",
       "    </tr>\n",
       "    <tr>\n",
       "      <th>2017</th>\n",
       "      <td>0.656189</td>\n",
       "      <td>2.819311</td>\n",
       "      <td>2.720462</td>\n",
       "      <td>0.963</td>\n",
       "    </tr>\n",
       "    <tr>\n",
       "      <th>2018</th>\n",
       "      <td>0.845459</td>\n",
       "      <td>2.884989</td>\n",
       "      <td>2.774576</td>\n",
       "      <td>0.888</td>\n",
       "    </tr>\n",
       "    <tr>\n",
       "      <th>2019</th>\n",
       "      <td>0.814220</td>\n",
       "      <td>2.890127</td>\n",
       "      <td>2.773829</td>\n",
       "      <td>1.025</td>\n",
       "    </tr>\n",
       "    <tr>\n",
       "      <th>2020</th>\n",
       "      <td>0.215841</td>\n",
       "      <td>2.717343</td>\n",
       "      <td>2.601743</td>\n",
       "      <td>1.052</td>\n",
       "    </tr>\n",
       "  </tbody>\n",
       "</table>\n",
       "<p>171 rows × 4 columns</p>\n",
       "</div>"
      ],
      "text/plain": [
       "      Land_use  Fossil_Fuel       co2  Temperature\n",
       "1850 -0.438000    -0.438000 -0.438000       -0.438\n",
       "1851 -0.362737    -0.437826 -0.438003       -0.324\n",
       "1852 -0.324489    -0.437029 -0.437011       -0.297\n",
       "1853 -0.277025    -0.436148 -0.435964       -0.295\n",
       "1854 -0.250538    -0.432690 -0.431338       -0.293\n",
       "...        ...          ...       ...          ...\n",
       "2016  0.695757     2.776164  2.680173        1.059\n",
       "2017  0.656189     2.819311  2.720462        0.963\n",
       "2018  0.845459     2.884989  2.774576        0.888\n",
       "2019  0.814220     2.890127  2.773829        1.025\n",
       "2020  0.215841     2.717343  2.601743        1.052\n",
       "\n",
       "[171 rows x 4 columns]"
      ]
     },
     "execution_count": 3542,
     "metadata": {},
     "output_type": "execute_result"
    }
   ],
   "source": [
    "df_orig\n",
    "df_train = df_orig.loc[:2020]\n",
    "df_train"
   ]
  },
  {
   "cell_type": "code",
   "execution_count": 3543,
   "id": "113935b8",
   "metadata": {},
   "outputs": [
    {
     "name": "stdout",
     "output_type": "stream",
     "text": [
      "Land_use\n",
      "0.9597878743065872\n",
      "Fossil_Fuel\n",
      "0.9984630995634047\n",
      "co2\n",
      "0.9976270000541432\n"
     ]
    },
    {
     "data": {
      "image/png": "[encoded data removed]",
      "text/plain": [
       "<Figure size 432x288 with 1 Axes>"
      ]
     },
     "metadata": {
      "needs_background": "light"
     },
     "output_type": "display_data"
    },
    {
     "data": {
      "image/png": "[encoded data removed]",
      "text/plain": [
       "<Figure size 432x288 with 1 Axes>"
      ]
     },
     "metadata": {
      "needs_background": "light"
     },
     "output_type": "display_data"
    },
    {
     "data": {
      "image/png": "[encoded data removed]",
      "text/plain": [
       "<Figure size 432x288 with 1 Axes>"
      ]
     },
     "metadata": {
      "needs_background": "light"
     },
     "output_type": "display_data"
    }
   ],
   "source": [
    "models = {}\n",
    "for column in df_train.columns[~df_train.columns.isin(['Temperature'])]:\n",
    "   \n",
    "    print(column)\n",
    "    y = df_train[column]\n",
    "    df_new = df_train.drop(columns=[column])\n",
    "    \n",
    "\n",
    "    X_train, X_test, y_train, y_test = train_test_split(df_new, y, random_state=42)\n",
    "    rf_model = RandomForestRegressor()\n",
    "\n",
    "    # Train the model\n",
    "    rf_model.fit(X_train, y_train)\n",
    "    print(rf_model.score(X_test, y_test))\n",
    "    y_pred = rf_model.predict(X_test)\n",
    "    models[column] = rf_model\n",
    "\n",
    "    y_pred_df = pd.DataFrame(y_pred, columns=[column], index=y_test.index)\n",
    "\n",
    "    plt.figure()\n",
    "    plt.title(column)\n",
    "    plt.plot(y_test.sort_index())\n",
    "    plt.plot(y_pred_df.sort_index())\n",
    "    plt.legend(['original','predicted'])"
   ]
  },
  {
   "cell_type": "code",
   "execution_count": 3544,
   "id": "29def6ac",
   "metadata": {},
   "outputs": [
    {
     "data": {
      "text/plain": [
       "{'Land_use': RandomForestRegressor(),\n",
       " 'Fossil_Fuel': RandomForestRegressor(),\n",
       " 'co2': RandomForestRegressor()}"
      ]
     },
     "execution_count": 3544,
     "metadata": {},
     "output_type": "execute_result"
    }
   ],
   "source": [
    "models"
   ]
  },
  {
   "cell_type": "code",
   "execution_count": 3545,
   "id": "220c3e08",
   "metadata": {},
   "outputs": [
    {
     "data": {
      "text/html": [
       "<div>\n",
       "<style scoped>\n",
       "    .dataframe tbody tr th:only-of-type {\n",
       "        vertical-align: middle;\n",
       "    }\n",
       "\n",
       "    .dataframe tbody tr th {\n",
       "        vertical-align: top;\n",
       "    }\n",
       "\n",
       "    .dataframe thead th {\n",
       "        text-align: right;\n",
       "    }\n",
       "</style>\n",
       "<table border=\"1\" class=\"dataframe\">\n",
       "  <thead>\n",
       "    <tr style=\"text-align: right;\">\n",
       "      <th></th>\n",
       "      <th>Land_use</th>\n",
       "      <th>Fossil_Fuel</th>\n",
       "      <th>co2</th>\n",
       "      <th>Temperature</th>\n",
       "    </tr>\n",
       "  </thead>\n",
       "  <tbody>\n",
       "    <tr>\n",
       "      <th>2021</th>\n",
       "      <td>-0.147189</td>\n",
       "      <td>2.673197</td>\n",
       "      <td>2.546600</td>\n",
       "      <td>1.050218</td>\n",
       "    </tr>\n",
       "    <tr>\n",
       "      <th>2022</th>\n",
       "      <td>-0.543419</td>\n",
       "      <td>2.671951</td>\n",
       "      <td>2.537630</td>\n",
       "      <td>1.027134</td>\n",
       "    </tr>\n",
       "    <tr>\n",
       "      <th>2023</th>\n",
       "      <td>-0.633635</td>\n",
       "      <td>2.597546</td>\n",
       "      <td>2.475693</td>\n",
       "      <td>1.011809</td>\n",
       "    </tr>\n",
       "    <tr>\n",
       "      <th>2024</th>\n",
       "      <td>-0.471910</td>\n",
       "      <td>2.544469</td>\n",
       "      <td>2.427427</td>\n",
       "      <td>1.035899</td>\n",
       "    </tr>\n",
       "    <tr>\n",
       "      <th>2025</th>\n",
       "      <td>-0.850525</td>\n",
       "      <td>2.560039</td>\n",
       "      <td>2.435402</td>\n",
       "      <td>1.112385</td>\n",
       "    </tr>\n",
       "    <tr>\n",
       "      <th>2026</th>\n",
       "      <td>-1.496957</td>\n",
       "      <td>2.541238</td>\n",
       "      <td>2.414811</td>\n",
       "      <td>1.138775</td>\n",
       "    </tr>\n",
       "    <tr>\n",
       "      <th>2027</th>\n",
       "      <td>-1.952224</td>\n",
       "      <td>2.437552</td>\n",
       "      <td>2.309969</td>\n",
       "      <td>1.133609</td>\n",
       "    </tr>\n",
       "    <tr>\n",
       "      <th>2028</th>\n",
       "      <td>-2.372704</td>\n",
       "      <td>2.364956</td>\n",
       "      <td>2.244249</td>\n",
       "      <td>1.198850</td>\n",
       "    </tr>\n",
       "    <tr>\n",
       "      <th>2029</th>\n",
       "      <td>-2.879852</td>\n",
       "      <td>2.320422</td>\n",
       "      <td>2.200758</td>\n",
       "      <td>1.324922</td>\n",
       "    </tr>\n",
       "    <tr>\n",
       "      <th>2030</th>\n",
       "      <td>-3.056470</td>\n",
       "      <td>2.254371</td>\n",
       "      <td>2.132357</td>\n",
       "      <td>1.208864</td>\n",
       "    </tr>\n",
       "    <tr>\n",
       "      <th>2031</th>\n",
       "      <td>-3.322980</td>\n",
       "      <td>2.168796</td>\n",
       "      <td>2.050877</td>\n",
       "      <td>1.162531</td>\n",
       "    </tr>\n",
       "    <tr>\n",
       "      <th>2032</th>\n",
       "      <td>-3.523967</td>\n",
       "      <td>2.140094</td>\n",
       "      <td>2.021381</td>\n",
       "      <td>1.240424</td>\n",
       "    </tr>\n",
       "    <tr>\n",
       "      <th>2033</th>\n",
       "      <td>-3.782783</td>\n",
       "      <td>2.115813</td>\n",
       "      <td>1.991806</td>\n",
       "      <td>1.304044</td>\n",
       "    </tr>\n",
       "    <tr>\n",
       "      <th>2034</th>\n",
       "      <td>-4.518770</td>\n",
       "      <td>2.042171</td>\n",
       "      <td>1.919781</td>\n",
       "      <td>1.296430</td>\n",
       "    </tr>\n",
       "    <tr>\n",
       "      <th>2035</th>\n",
       "      <td>-4.903469</td>\n",
       "      <td>1.956806</td>\n",
       "      <td>1.839053</td>\n",
       "      <td>1.342307</td>\n",
       "    </tr>\n",
       "    <tr>\n",
       "      <th>2036</th>\n",
       "      <td>-5.132326</td>\n",
       "      <td>1.891177</td>\n",
       "      <td>1.773472</td>\n",
       "      <td>1.412261</td>\n",
       "    </tr>\n",
       "    <tr>\n",
       "      <th>2037</th>\n",
       "      <td>-5.576779</td>\n",
       "      <td>1.829840</td>\n",
       "      <td>1.713503</td>\n",
       "      <td>1.405300</td>\n",
       "    </tr>\n",
       "    <tr>\n",
       "      <th>2038</th>\n",
       "      <td>-5.990212</td>\n",
       "      <td>1.752157</td>\n",
       "      <td>1.640326</td>\n",
       "      <td>1.366295</td>\n",
       "    </tr>\n",
       "    <tr>\n",
       "      <th>2039</th>\n",
       "      <td>-6.311149</td>\n",
       "      <td>1.700102</td>\n",
       "      <td>1.590053</td>\n",
       "      <td>1.410222</td>\n",
       "    </tr>\n",
       "    <tr>\n",
       "      <th>2040</th>\n",
       "      <td>-6.703113</td>\n",
       "      <td>1.663909</td>\n",
       "      <td>1.550282</td>\n",
       "      <td>1.457814</td>\n",
       "    </tr>\n",
       "    <tr>\n",
       "      <th>2041</th>\n",
       "      <td>-7.096959</td>\n",
       "      <td>1.601299</td>\n",
       "      <td>1.487697</td>\n",
       "      <td>1.475184</td>\n",
       "    </tr>\n",
       "    <tr>\n",
       "      <th>2042</th>\n",
       "      <td>-7.482021</td>\n",
       "      <td>1.512615</td>\n",
       "      <td>1.402976</td>\n",
       "      <td>1.504742</td>\n",
       "    </tr>\n",
       "    <tr>\n",
       "      <th>2043</th>\n",
       "      <td>-7.971714</td>\n",
       "      <td>1.437316</td>\n",
       "      <td>1.327506</td>\n",
       "      <td>1.577058</td>\n",
       "    </tr>\n",
       "    <tr>\n",
       "      <th>2044</th>\n",
       "      <td>-8.348048</td>\n",
       "      <td>1.375663</td>\n",
       "      <td>1.265964</td>\n",
       "      <td>1.580354</td>\n",
       "    </tr>\n",
       "    <tr>\n",
       "      <th>2045</th>\n",
       "      <td>-8.689842</td>\n",
       "      <td>1.305489</td>\n",
       "      <td>1.199105</td>\n",
       "      <td>1.546616</td>\n",
       "    </tr>\n",
       "  </tbody>\n",
       "</table>\n",
       "</div>"
      ],
      "text/plain": [
       "      Land_use  Fossil_Fuel       co2  Temperature\n",
       "2021 -0.147189     2.673197  2.546600     1.050218\n",
       "2022 -0.543419     2.671951  2.537630     1.027134\n",
       "2023 -0.633635     2.597546  2.475693     1.011809\n",
       "2024 -0.471910     2.544469  2.427427     1.035899\n",
       "2025 -0.850525     2.560039  2.435402     1.112385\n",
       "2026 -1.496957     2.541238  2.414811     1.138775\n",
       "2027 -1.952224     2.437552  2.309969     1.133609\n",
       "2028 -2.372704     2.364956  2.244249     1.198850\n",
       "2029 -2.879852     2.320422  2.200758     1.324922\n",
       "2030 -3.056470     2.254371  2.132357     1.208864\n",
       "2031 -3.322980     2.168796  2.050877     1.162531\n",
       "2032 -3.523967     2.140094  2.021381     1.240424\n",
       "2033 -3.782783     2.115813  1.991806     1.304044\n",
       "2034 -4.518770     2.042171  1.919781     1.296430\n",
       "2035 -4.903469     1.956806  1.839053     1.342307\n",
       "2036 -5.132326     1.891177  1.773472     1.412261\n",
       "2037 -5.576779     1.829840  1.713503     1.405300\n",
       "2038 -5.990212     1.752157  1.640326     1.366295\n",
       "2039 -6.311149     1.700102  1.590053     1.410222\n",
       "2040 -6.703113     1.663909  1.550282     1.457814\n",
       "2041 -7.096959     1.601299  1.487697     1.475184\n",
       "2042 -7.482021     1.512615  1.402976     1.504742\n",
       "2043 -7.971714     1.437316  1.327506     1.577058\n",
       "2044 -8.348048     1.375663  1.265964     1.580354\n",
       "2045 -8.689842     1.305489  1.199105     1.546616"
      ]
     },
     "execution_count": 3545,
     "metadata": {},
     "output_type": "execute_result"
    }
   ],
   "source": [
    "df_test = df_orig.loc[2021:]\n",
    "df_test"
   ]
  },
  {
   "cell_type": "code",
   "execution_count": 3546,
   "id": "294b5ea8",
   "metadata": {},
   "outputs": [
    {
     "data": {
      "text/html": [
       "<div>\n",
       "<style scoped>\n",
       "    .dataframe tbody tr th:only-of-type {\n",
       "        vertical-align: middle;\n",
       "    }\n",
       "\n",
       "    .dataframe tbody tr th {\n",
       "        vertical-align: top;\n",
       "    }\n",
       "\n",
       "    .dataframe thead th {\n",
       "        text-align: right;\n",
       "    }\n",
       "</style>\n",
       "<table border=\"1\" class=\"dataframe\">\n",
       "  <thead>\n",
       "    <tr style=\"text-align: right;\">\n",
       "      <th></th>\n",
       "      <th>Land_use</th>\n",
       "      <th>Fossil_Fuel</th>\n",
       "      <th>co2</th>\n",
       "      <th>Temperature</th>\n",
       "    </tr>\n",
       "  </thead>\n",
       "  <tbody>\n",
       "    <tr>\n",
       "      <th>2021</th>\n",
       "      <td>-0.147189</td>\n",
       "      <td>2.673197</td>\n",
       "      <td>2.546600</td>\n",
       "      <td>1.5</td>\n",
       "    </tr>\n",
       "    <tr>\n",
       "      <th>2022</th>\n",
       "      <td>-0.543419</td>\n",
       "      <td>2.671951</td>\n",
       "      <td>2.537630</td>\n",
       "      <td>1.5</td>\n",
       "    </tr>\n",
       "    <tr>\n",
       "      <th>2023</th>\n",
       "      <td>-0.633635</td>\n",
       "      <td>2.597546</td>\n",
       "      <td>2.475693</td>\n",
       "      <td>1.5</td>\n",
       "    </tr>\n",
       "    <tr>\n",
       "      <th>2024</th>\n",
       "      <td>-0.471910</td>\n",
       "      <td>2.544469</td>\n",
       "      <td>2.427427</td>\n",
       "      <td>1.5</td>\n",
       "    </tr>\n",
       "    <tr>\n",
       "      <th>2025</th>\n",
       "      <td>-0.850525</td>\n",
       "      <td>2.560039</td>\n",
       "      <td>2.435402</td>\n",
       "      <td>1.5</td>\n",
       "    </tr>\n",
       "    <tr>\n",
       "      <th>2026</th>\n",
       "      <td>-1.496957</td>\n",
       "      <td>2.541238</td>\n",
       "      <td>2.414811</td>\n",
       "      <td>1.5</td>\n",
       "    </tr>\n",
       "    <tr>\n",
       "      <th>2027</th>\n",
       "      <td>-1.952224</td>\n",
       "      <td>2.437552</td>\n",
       "      <td>2.309969</td>\n",
       "      <td>1.5</td>\n",
       "    </tr>\n",
       "    <tr>\n",
       "      <th>2028</th>\n",
       "      <td>-2.372704</td>\n",
       "      <td>2.364956</td>\n",
       "      <td>2.244249</td>\n",
       "      <td>1.5</td>\n",
       "    </tr>\n",
       "    <tr>\n",
       "      <th>2029</th>\n",
       "      <td>-2.879852</td>\n",
       "      <td>2.320422</td>\n",
       "      <td>2.200758</td>\n",
       "      <td>1.5</td>\n",
       "    </tr>\n",
       "    <tr>\n",
       "      <th>2030</th>\n",
       "      <td>-3.056470</td>\n",
       "      <td>2.254371</td>\n",
       "      <td>2.132357</td>\n",
       "      <td>1.5</td>\n",
       "    </tr>\n",
       "    <tr>\n",
       "      <th>2031</th>\n",
       "      <td>-3.322980</td>\n",
       "      <td>2.168796</td>\n",
       "      <td>2.050877</td>\n",
       "      <td>1.5</td>\n",
       "    </tr>\n",
       "    <tr>\n",
       "      <th>2032</th>\n",
       "      <td>-3.523967</td>\n",
       "      <td>2.140094</td>\n",
       "      <td>2.021381</td>\n",
       "      <td>1.5</td>\n",
       "    </tr>\n",
       "    <tr>\n",
       "      <th>2033</th>\n",
       "      <td>-3.782783</td>\n",
       "      <td>2.115813</td>\n",
       "      <td>1.991806</td>\n",
       "      <td>1.5</td>\n",
       "    </tr>\n",
       "    <tr>\n",
       "      <th>2034</th>\n",
       "      <td>-4.518770</td>\n",
       "      <td>2.042171</td>\n",
       "      <td>1.919781</td>\n",
       "      <td>1.5</td>\n",
       "    </tr>\n",
       "    <tr>\n",
       "      <th>2035</th>\n",
       "      <td>-4.903469</td>\n",
       "      <td>1.956806</td>\n",
       "      <td>1.839053</td>\n",
       "      <td>1.5</td>\n",
       "    </tr>\n",
       "    <tr>\n",
       "      <th>2036</th>\n",
       "      <td>-5.132326</td>\n",
       "      <td>1.891177</td>\n",
       "      <td>1.773472</td>\n",
       "      <td>1.5</td>\n",
       "    </tr>\n",
       "    <tr>\n",
       "      <th>2037</th>\n",
       "      <td>-5.576779</td>\n",
       "      <td>1.829840</td>\n",
       "      <td>1.713503</td>\n",
       "      <td>1.5</td>\n",
       "    </tr>\n",
       "    <tr>\n",
       "      <th>2038</th>\n",
       "      <td>-5.990212</td>\n",
       "      <td>1.752157</td>\n",
       "      <td>1.640326</td>\n",
       "      <td>1.5</td>\n",
       "    </tr>\n",
       "    <tr>\n",
       "      <th>2039</th>\n",
       "      <td>-6.311149</td>\n",
       "      <td>1.700102</td>\n",
       "      <td>1.590053</td>\n",
       "      <td>1.5</td>\n",
       "    </tr>\n",
       "    <tr>\n",
       "      <th>2040</th>\n",
       "      <td>-6.703113</td>\n",
       "      <td>1.663909</td>\n",
       "      <td>1.550282</td>\n",
       "      <td>1.5</td>\n",
       "    </tr>\n",
       "    <tr>\n",
       "      <th>2041</th>\n",
       "      <td>-7.096959</td>\n",
       "      <td>1.601299</td>\n",
       "      <td>1.487697</td>\n",
       "      <td>1.5</td>\n",
       "    </tr>\n",
       "    <tr>\n",
       "      <th>2042</th>\n",
       "      <td>-7.482021</td>\n",
       "      <td>1.512615</td>\n",
       "      <td>1.402976</td>\n",
       "      <td>1.5</td>\n",
       "    </tr>\n",
       "    <tr>\n",
       "      <th>2043</th>\n",
       "      <td>-7.971714</td>\n",
       "      <td>1.437316</td>\n",
       "      <td>1.327506</td>\n",
       "      <td>1.5</td>\n",
       "    </tr>\n",
       "    <tr>\n",
       "      <th>2044</th>\n",
       "      <td>-8.348048</td>\n",
       "      <td>1.375663</td>\n",
       "      <td>1.265964</td>\n",
       "      <td>1.5</td>\n",
       "    </tr>\n",
       "    <tr>\n",
       "      <th>2045</th>\n",
       "      <td>-8.689842</td>\n",
       "      <td>1.305489</td>\n",
       "      <td>1.199105</td>\n",
       "      <td>1.5</td>\n",
       "    </tr>\n",
       "  </tbody>\n",
       "</table>\n",
       "</div>"
      ],
      "text/plain": [
       "      Land_use  Fossil_Fuel       co2  Temperature\n",
       "2021 -0.147189     2.673197  2.546600          1.5\n",
       "2022 -0.543419     2.671951  2.537630          1.5\n",
       "2023 -0.633635     2.597546  2.475693          1.5\n",
       "2024 -0.471910     2.544469  2.427427          1.5\n",
       "2025 -0.850525     2.560039  2.435402          1.5\n",
       "2026 -1.496957     2.541238  2.414811          1.5\n",
       "2027 -1.952224     2.437552  2.309969          1.5\n",
       "2028 -2.372704     2.364956  2.244249          1.5\n",
       "2029 -2.879852     2.320422  2.200758          1.5\n",
       "2030 -3.056470     2.254371  2.132357          1.5\n",
       "2031 -3.322980     2.168796  2.050877          1.5\n",
       "2032 -3.523967     2.140094  2.021381          1.5\n",
       "2033 -3.782783     2.115813  1.991806          1.5\n",
       "2034 -4.518770     2.042171  1.919781          1.5\n",
       "2035 -4.903469     1.956806  1.839053          1.5\n",
       "2036 -5.132326     1.891177  1.773472          1.5\n",
       "2037 -5.576779     1.829840  1.713503          1.5\n",
       "2038 -5.990212     1.752157  1.640326          1.5\n",
       "2039 -6.311149     1.700102  1.590053          1.5\n",
       "2040 -6.703113     1.663909  1.550282          1.5\n",
       "2041 -7.096959     1.601299  1.487697          1.5\n",
       "2042 -7.482021     1.512615  1.402976          1.5\n",
       "2043 -7.971714     1.437316  1.327506          1.5\n",
       "2044 -8.348048     1.375663  1.265964          1.5\n",
       "2045 -8.689842     1.305489  1.199105          1.5"
      ]
     },
     "execution_count": 3546,
     "metadata": {},
     "output_type": "execute_result"
    }
   ],
   "source": [
    "df_test['Temperature'] = df_test['Temperature'].apply(lambda x: 1.5)\n",
    "df_test"
   ]
  },
  {
   "cell_type": "code",
   "execution_count": 3547,
   "id": "edf844ad",
   "metadata": {},
   "outputs": [
    {
     "data": {
      "image/png": "[encoded data removed]",
      "text/plain": [
       "<Figure size 432x288 with 1 Axes>"
      ]
     },
     "metadata": {
      "needs_background": "light"
     },
     "output_type": "display_data"
    },
    {
     "data": {
      "image/png": "[encoded data removed]",
      "text/plain": [
       "<Figure size 432x288 with 1 Axes>"
      ]
     },
     "metadata": {
      "needs_background": "light"
     },
     "output_type": "display_data"
    },
    {
     "data": {
      "image/png": "[encoded data removed]",
      "text/plain": [
       "<Figure size 432x288 with 1 Axes>"
      ]
     },
     "metadata": {
      "needs_background": "light"
     },
     "output_type": "display_data"
    }
   ],
   "source": [
    "for column,model in models.items():\n",
    "    df_new = df_test.drop(columns=[column])\n",
    "    value = model.predict(df_new)\n",
    "    plt.figure()\n",
    "    plt.title(column)\n",
    "    plt.plot(value)"
   ]
  },
  {
   "cell_type": "code",
   "execution_count": null,
   "id": "ec53b9f0",
   "metadata": {},
   "outputs": [],
   "source": []
  },
  {
   "cell_type": "code",
   "execution_count": null,
   "id": "8d148443",
   "metadata": {},
   "outputs": [],
   "source": []
  },
  {
   "cell_type": "code",
   "execution_count": null,
   "id": "bae0a9fe",
   "metadata": {},
   "outputs": [],
   "source": []
  }
 ],
 "metadata": {
  "kernelspec": {
   "display_name": "Python 3 (ipykernel)",
   "language": "python",
   "name": "python3"
  },
  "language_info": {
   "codemirror_mode": {
    "name": "ipython",
    "version": 3
   },
   "file_extension": ".py",
   "mimetype": "text/x-python",
   "name": "python",
   "nbconvert_exporter": "python",
   "pygments_lexer": "ipython3",
   "version": "3.9.7"
  }
 },
 "nbformat": 4,
 "nbformat_minor": 5
}
