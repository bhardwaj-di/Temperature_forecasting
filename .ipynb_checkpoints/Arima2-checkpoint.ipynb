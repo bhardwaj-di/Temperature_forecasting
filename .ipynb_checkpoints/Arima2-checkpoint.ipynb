{
 "cells": [
  {
   "cell_type": "code",
   "execution_count": 2,
   "id": "3d2e36f2",
   "metadata": {},
   "outputs": [],
   "source": [
    "import pandas as pd\n",
    "import matplotlib.pyplot as plt\n",
    "import numpy as np\n",
    "from statsmodels.tsa.stattools import adfuller\n",
    "from statsmodels.graphics.tsaplots import plot_acf, plot_pacf\n",
    "import traceback\n",
    "import logging\n",
    "from statsmodels.tsa.arima.model import ARIMA\n",
    "\n",
    "import warnings\n",
    "from statsmodels.tools.sm_exceptions import ConvergenceWarning\n",
    "from statsmodels.tools.sm_exceptions import ValueWarning\n",
    "from statsmodels.tools.sm_exceptions import ModelWarning\n",
    "\n"
   ]
  },
  {
   "cell_type": "code",
   "execution_count": 3,
   "id": "51ecacc1",
   "metadata": {},
   "outputs": [
    {
     "data": {
      "text/html": [
       "<div>\n",
       "<style scoped>\n",
       "    .dataframe tbody tr th:only-of-type {\n",
       "        vertical-align: middle;\n",
       "    }\n",
       "\n",
       "    .dataframe tbody tr th {\n",
       "        vertical-align: top;\n",
       "    }\n",
       "\n",
       "    .dataframe thead th {\n",
       "        text-align: right;\n",
       "    }\n",
       "</style>\n",
       "<table border=\"1\" class=\"dataframe\">\n",
       "  <thead>\n",
       "    <tr style=\"text-align: right;\">\n",
       "      <th></th>\n",
       "      <th>Year</th>\n",
       "      <th>Temperature</th>\n",
       "    </tr>\n",
       "  </thead>\n",
       "  <tbody>\n",
       "    <tr>\n",
       "      <th>0</th>\n",
       "      <td>1850</td>\n",
       "      <td>-0.438</td>\n",
       "    </tr>\n",
       "    <tr>\n",
       "      <th>1</th>\n",
       "      <td>1851</td>\n",
       "      <td>-0.324</td>\n",
       "    </tr>\n",
       "    <tr>\n",
       "      <th>2</th>\n",
       "      <td>1852</td>\n",
       "      <td>-0.297</td>\n",
       "    </tr>\n",
       "    <tr>\n",
       "      <th>3</th>\n",
       "      <td>1853</td>\n",
       "      <td>-0.295</td>\n",
       "    </tr>\n",
       "    <tr>\n",
       "      <th>4</th>\n",
       "      <td>1854</td>\n",
       "      <td>-0.293</td>\n",
       "    </tr>\n",
       "    <tr>\n",
       "      <th>...</th>\n",
       "      <td>...</td>\n",
       "      <td>...</td>\n",
       "    </tr>\n",
       "    <tr>\n",
       "      <th>166</th>\n",
       "      <td>2016</td>\n",
       "      <td>1.059</td>\n",
       "    </tr>\n",
       "    <tr>\n",
       "      <th>167</th>\n",
       "      <td>2017</td>\n",
       "      <td>0.963</td>\n",
       "    </tr>\n",
       "    <tr>\n",
       "      <th>168</th>\n",
       "      <td>2018</td>\n",
       "      <td>0.888</td>\n",
       "    </tr>\n",
       "    <tr>\n",
       "      <th>169</th>\n",
       "      <td>2019</td>\n",
       "      <td>1.025</td>\n",
       "    </tr>\n",
       "    <tr>\n",
       "      <th>170</th>\n",
       "      <td>2020</td>\n",
       "      <td>1.052</td>\n",
       "    </tr>\n",
       "  </tbody>\n",
       "</table>\n",
       "<p>171 rows × 2 columns</p>\n",
       "</div>"
      ],
      "text/plain": [
       "     Year  Temperature\n",
       "0    1850       -0.438\n",
       "1    1851       -0.324\n",
       "2    1852       -0.297\n",
       "3    1853       -0.295\n",
       "4    1854       -0.293\n",
       "..    ...          ...\n",
       "166  2016        1.059\n",
       "167  2017        0.963\n",
       "168  2018        0.888\n",
       "169  2019        1.025\n",
       "170  2020        1.052\n",
       "\n",
       "[171 rows x 2 columns]"
      ]
     },
     "execution_count": 3,
     "metadata": {},
     "output_type": "execute_result"
    }
   ],
   "source": [
    "df_temp = pd.read_csv(\"global_temp.csv\")\n",
    "df_temp"
   ]
  },
  {
   "cell_type": "code",
   "execution_count": 4,
   "id": "c170d4de",
   "metadata": {},
   "outputs": [
    {
     "data": {
      "text/html": [
       "<div>\n",
       "<style scoped>\n",
       "    .dataframe tbody tr th:only-of-type {\n",
       "        vertical-align: middle;\n",
       "    }\n",
       "\n",
       "    .dataframe tbody tr th {\n",
       "        vertical-align: top;\n",
       "    }\n",
       "\n",
       "    .dataframe thead th {\n",
       "        text-align: right;\n",
       "    }\n",
       "</style>\n",
       "<table border=\"1\" class=\"dataframe\">\n",
       "  <thead>\n",
       "    <tr style=\"text-align: right;\">\n",
       "      <th></th>\n",
       "      <th>Temperature</th>\n",
       "    </tr>\n",
       "    <tr>\n",
       "      <th>dt</th>\n",
       "      <th></th>\n",
       "    </tr>\n",
       "  </thead>\n",
       "  <tbody>\n",
       "    <tr>\n",
       "      <th>1850</th>\n",
       "      <td>-0.438</td>\n",
       "    </tr>\n",
       "    <tr>\n",
       "      <th>1851</th>\n",
       "      <td>-0.324</td>\n",
       "    </tr>\n",
       "    <tr>\n",
       "      <th>1852</th>\n",
       "      <td>-0.297</td>\n",
       "    </tr>\n",
       "    <tr>\n",
       "      <th>1853</th>\n",
       "      <td>-0.295</td>\n",
       "    </tr>\n",
       "    <tr>\n",
       "      <th>1854</th>\n",
       "      <td>-0.293</td>\n",
       "    </tr>\n",
       "    <tr>\n",
       "      <th>1855</th>\n",
       "      <td>-0.282</td>\n",
       "    </tr>\n",
       "    <tr>\n",
       "      <th>1856</th>\n",
       "      <td>-0.398</td>\n",
       "    </tr>\n",
       "    <tr>\n",
       "      <th>1857</th>\n",
       "      <td>-0.538</td>\n",
       "    </tr>\n",
       "    <tr>\n",
       "      <th>1858</th>\n",
       "      <td>-0.332</td>\n",
       "    </tr>\n",
       "    <tr>\n",
       "      <th>1859</th>\n",
       "      <td>-0.218</td>\n",
       "    </tr>\n",
       "  </tbody>\n",
       "</table>\n",
       "</div>"
      ],
      "text/plain": [
       "      Temperature\n",
       "dt               \n",
       "1850       -0.438\n",
       "1851       -0.324\n",
       "1852       -0.297\n",
       "1853       -0.295\n",
       "1854       -0.293\n",
       "1855       -0.282\n",
       "1856       -0.398\n",
       "1857       -0.538\n",
       "1858       -0.332\n",
       "1859       -0.218"
      ]
     },
     "execution_count": 4,
     "metadata": {},
     "output_type": "execute_result"
    }
   ],
   "source": [
    "df_temp['dt'] = pd.to_datetime(df_temp['Year'],format='%Y')\n",
    "df_temp.index = pd.DatetimeIndex(df_temp['dt']).year\n",
    "# df_temp.index = pd.to_datetime(df_temp.dt, format='%Y')\n",
    "df_temp = df_temp.drop(columns = ['Year','dt'])\n",
    "df_temp.head(10)"
   ]
  },
  {
   "cell_type": "code",
   "execution_count": 5,
   "id": "2be48172",
   "metadata": {},
   "outputs": [
    {
     "data": {
      "text/plain": [
       "array([[<AxesSubplot:title={'center':'Temperature'}>]], dtype=object)"
      ]
     },
     "execution_count": 5,
     "metadata": {},
     "output_type": "execute_result"
    },
    {
     "data": {
      "image/png": "[encoded data removed]",
      "text/plain": [
       "<Figure size 432x288 with 1 Axes>"
      ]
     },
     "metadata": {
      "needs_background": "light"
     },
     "output_type": "display_data"
    },
    {
     "data": {
      "image/png": "[encoded data removed]",
      "text/plain": [
       "<Figure size 432x288 with 1 Axes>"
      ]
     },
     "metadata": {
      "needs_background": "light"
     },
     "output_type": "display_data"
    }
   ],
   "source": [
    "df_temp.plot()\n",
    "df_temp.hist()"
   ]
  },
  {
   "cell_type": "code",
   "execution_count": 6,
   "id": "771b6e14",
   "metadata": {},
   "outputs": [
    {
     "data": {
      "text/plain": [
       "[<matplotlib.lines.Line2D at 0x7fc650354be0>]"
      ]
     },
     "execution_count": 6,
     "metadata": {},
     "output_type": "execute_result"
    },
    {
     "data": {
      "image/png": "[encoded data removed]",
      "text/plain": [
       "<Figure size 432x288 with 1 Axes>"
      ]
     },
     "metadata": {
      "needs_background": "light"
     },
     "output_type": "display_data"
    }
   ],
   "source": [
    "#As data is not stationery we are checking if first difference make it stationery\n",
    "diff = np.diff(df_temp.Temperature)\n",
    "plt.plot(diff)"
   ]
  },
  {
   "cell_type": "code",
   "execution_count": 7,
   "id": "f33d9dbf",
   "metadata": {},
   "outputs": [
    {
     "name": "stdout",
     "output_type": "stream",
     "text": [
      "ADF Statistic: -5.913210\n",
      "p-value: 0.000000\n",
      "Critical Values:\n",
      "\t1%: -3.471633386932248\n",
      "\t5%: -2.8796651107461972\n",
      "\t10%: -2.576433647235832\n"
     ]
    }
   ],
   "source": [
    "X = diff\n",
    "result = adfuller(X)\n",
    "print('ADF Statistic: %f' % result[0])\n",
    "print('p-value: %f' % result[1])\n",
    "print('Critical Values:')\n",
    "for key, value in result[4].items():\n",
    "    print('\\t{}: {}'.format(key, value))"
   ]
  },
  {
   "cell_type": "code",
   "execution_count": 8,
   "id": "6d05a8c4",
   "metadata": {},
   "outputs": [
    {
     "data": {
      "image/png": "[encoded data removed]",
      "text/plain": [
       "<Figure size 432x288 with 1 Axes>"
      ]
     },
     "metadata": {
      "needs_background": "light"
     },
     "output_type": "display_data"
    },
    {
     "data": {
      "image/png": "[encoded data removed]",
      "text/plain": [
       "<Figure size 432x288 with 1 Axes>"
      ]
     },
     "metadata": {
      "needs_background": "light"
     },
     "output_type": "display_data"
    }
   ],
   "source": [
    "plot_acf(df_temp,lags = 10)\n",
    "plot_pacf(df_temp,lags = 10,method='ywm')\n",
    "plt.show()"
   ]
  },
  {
   "cell_type": "code",
   "execution_count": 9,
   "id": "5eeeed8b",
   "metadata": {
    "scrolled": true
   },
   "outputs": [
    {
     "name": "stderr",
     "output_type": "stream",
     "text": [
      "/Users/prasanthdwadasi/opt/anaconda3/lib/python3.8/site-packages/statsmodels/tsa/statespace/sarimax.py:978: UserWarning: Non-invertible starting MA parameters found. Using zeros as starting parameters.\n",
      "  warn('Non-invertible starting MA parameters found.'\n"
     ]
    },
    {
     "name": "stdout",
     "output_type": "stream",
     "text": [
      "(p,q) corresponding to lowest AIC score:  (3, 2)\n"
     ]
    }
   ],
   "source": [
    "\n",
    "warnings.simplefilter('ignore', ConvergenceWarning)\n",
    "warnings.simplefilter('ignore', ValueWarning)\n",
    "warnings.simplefilter('ignore', ModelWarning)\n",
    "\n",
    "\n",
    "p_range = list(range(1,4))  # taking values from 0 to 2\n",
    "q_range = list(range(1,8))\n",
    "aic_values = []\n",
    "bic_values = []\n",
    "pq_values = []\n",
    "# fitted_model_dict = {}\n",
    "# count = 0\n",
    "d = 1\n",
    "for p in p_range:\n",
    "    for q in q_range:\n",
    "        try:\n",
    "            model = ARIMA(df_temp, order=(p, d, q),enforce_stationarity=False)\n",
    "            results = model.fit()\n",
    "            aic_values.append(results.aic)\n",
    "            bic_values.append(results.bic)\n",
    "            pq_values.append((p, q))\n",
    "        except Exception as e:\n",
    "            logging.error(traceback.format_exc())\n",
    "\n",
    "\n",
    "best_pq = pq_values[aic_values.index(min(aic_values))]  # (p,q) corresponding to lowest AIC score\n",
    "print(\"(p,q) corresponding to lowest AIC score: \", best_pq)\n"
   ]
  },
  {
   "cell_type": "code",
   "execution_count": 10,
   "id": "021368ad",
   "metadata": {},
   "outputs": [
    {
     "name": "stdout",
     "output_type": "stream",
     "text": [
      "Mean Squared Error: 0.011355041488833512\n",
      "Mean Absolute Error: 0.08777319757796567\n"
     ]
    }
   ],
   "source": [
    "from sklearn.metrics import mean_absolute_error\n",
    "from sklearn.metrics import mean_squared_error\n",
    "\n",
    "arima_model = ARIMA(df_temp, order=(best_pq[0], 0, best_pq[1]),enforce_stationarity=False).fit()\n",
    "predictions = arima_model.predict(start=0, end=len(df_temp)-1)\n",
    "\n",
    "mse = mean_squared_error(list(df_temp.Temperature), list(predictions))\n",
    "print(\"Mean Squared Error:\", mse)\n",
    "\n",
    "mae = mean_absolute_error(list(df_temp.Temperature), list(predictions))\n",
    "print(\"Mean Absolute Error:\", mae)\n",
    "warnings.simplefilter('ignore', ConvergenceWarning)\n",
    "warnings.simplefilter('ignore', ValueWarning)"
   ]
  },
  {
   "cell_type": "code",
   "execution_count": 11,
   "id": "2778f0b1",
   "metadata": {},
   "outputs": [
    {
     "data": {
      "image/png": "[encoded data removed]",
      "text/plain": [
       "<Figure size 540x540 with 1 Axes>"
      ]
     },
     "metadata": {
      "needs_background": "light"
     },
     "output_type": "display_data"
    }
   ],
   "source": [
    "plt.figure(figsize=(7.5,7.5))\n",
    "plt.plot(list(df_temp.Temperature)[-100:], label=\"Actual\")\n",
    "plt.plot(list(predictions)[-100:], 'r', label=\"Predicted\")\n",
    "\n",
    "plt.xlabel(\"Time (in years)\")\n",
    "plt.ylabel(\"Temperature (C)\")\n",
    "plt.title(\"Actual and Predicted Temperature Values\")\n",
    "\n",
    "plt.legend(loc='upper center', bbox_to_anchor=(1.45, 0.8))\n",
    "plt.show()"
   ]
  },
  {
   "cell_type": "code",
   "execution_count": 12,
   "id": "4edb06a7",
   "metadata": {},
   "outputs": [],
   "source": [
    "# number_of_steps = 50\n",
    "# out_of_sample_forecast = arima_model.forecast(steps=number_of_steps)\n",
    "start = 160\n",
    "end = 190\n",
    "out_of_sample_forecast = arima_model.predict(start = start,end=end)\n",
    "date_index = pd.date_range('2010', periods=end-start+1, freq='Y')\n",
    "out_of_sample_forecast.index = date_index"
   ]
  },
  {
   "cell_type": "code",
   "execution_count": 13,
   "id": "a4639085",
   "metadata": {},
   "outputs": [
    {
     "data": {
      "text/plain": [
       "<matplotlib.lines.Line2D at 0x7fc642065550>"
      ]
     },
     "execution_count": 13,
     "metadata": {},
     "output_type": "execute_result"
    },
    {
     "data": {
      "image/png": "[encoded data removed]",
      "text/plain": [
       "<Figure size 432x288 with 1 Axes>"
      ]
     },
     "metadata": {
      "needs_background": "light"
     },
     "output_type": "display_data"
    }
   ],
   "source": [
    "out_of_sample_forecast.plot()\n",
    "plt.axhline(y=1.5, color='r', linestyle='--')"
   ]
  },
  {
   "cell_type": "code",
   "execution_count": null,
   "id": "a00715d0",
   "metadata": {},
   "outputs": [],
   "source": []
  },
  {
   "cell_type": "code",
   "execution_count": null,
   "id": "f62a82ea",
   "metadata": {},
   "outputs": [],
   "source": []
  },
  {
   "cell_type": "code",
   "execution_count": 49,
   "id": "14e8fbc5",
   "metadata": {},
   "outputs": [
    {
     "data": {
      "text/html": [
       "<div>\n",
       "<style scoped>\n",
       "    .dataframe tbody tr th:only-of-type {\n",
       "        vertical-align: middle;\n",
       "    }\n",
       "\n",
       "    .dataframe tbody tr th {\n",
       "        vertical-align: top;\n",
       "    }\n",
       "\n",
       "    .dataframe thead th {\n",
       "        text-align: right;\n",
       "    }\n",
       "</style>\n",
       "<table border=\"1\" class=\"dataframe\">\n",
       "  <thead>\n",
       "    <tr style=\"text-align: right;\">\n",
       "      <th></th>\n",
       "      <th>Entity</th>\n",
       "      <th>Code</th>\n",
       "      <th>Fossil fuel + land use emissions (GtCO2)</th>\n",
       "      <th>Land use emissions (GtCO2)</th>\n",
       "      <th>Fossil fuel and industry emissions (GtCO2)</th>\n",
       "    </tr>\n",
       "    <tr>\n",
       "      <th>dt</th>\n",
       "      <th></th>\n",
       "      <th></th>\n",
       "      <th></th>\n",
       "      <th></th>\n",
       "      <th></th>\n",
       "    </tr>\n",
       "  </thead>\n",
       "  <tbody>\n",
       "    <tr>\n",
       "      <th>1850</th>\n",
       "      <td>World</td>\n",
       "      <td>OWID_WRL</td>\n",
       "      <td>2.734430e+09</td>\n",
       "      <td>2.537534e+09</td>\n",
       "      <td>1.968960e+08</td>\n",
       "    </tr>\n",
       "    <tr>\n",
       "      <th>1851</th>\n",
       "      <td>World</td>\n",
       "      <td>OWID_WRL</td>\n",
       "      <td>2.813746e+09</td>\n",
       "      <td>2.614941e+09</td>\n",
       "      <td>1.988050e+08</td>\n",
       "    </tr>\n",
       "    <tr>\n",
       "      <th>1852</th>\n",
       "      <td>World</td>\n",
       "      <td>OWID_WRL</td>\n",
       "      <td>2.861829e+09</td>\n",
       "      <td>2.654278e+09</td>\n",
       "      <td>2.075509e+08</td>\n",
       "    </tr>\n",
       "    <tr>\n",
       "      <th>1853</th>\n",
       "      <td>World</td>\n",
       "      <td>OWID_WRL</td>\n",
       "      <td>2.920302e+09</td>\n",
       "      <td>2.703093e+09</td>\n",
       "      <td>2.172092e+08</td>\n",
       "    </tr>\n",
       "    <tr>\n",
       "      <th>1854</th>\n",
       "      <td>World</td>\n",
       "      <td>OWID_WRL</td>\n",
       "      <td>2.985473e+09</td>\n",
       "      <td>2.730334e+09</td>\n",
       "      <td>2.551390e+08</td>\n",
       "    </tr>\n",
       "    <tr>\n",
       "      <th>...</th>\n",
       "      <td>...</td>\n",
       "      <td>...</td>\n",
       "      <td>...</td>\n",
       "      <td>...</td>\n",
       "      <td>...</td>\n",
       "    </tr>\n",
       "    <tr>\n",
       "      <th>2016</th>\n",
       "      <td>World</td>\n",
       "      <td>OWID_WRL</td>\n",
       "      <td>3.915603e+10</td>\n",
       "      <td>3.703575e+09</td>\n",
       "      <td>3.545246e+10</td>\n",
       "    </tr>\n",
       "    <tr>\n",
       "      <th>2017</th>\n",
       "      <td>World</td>\n",
       "      <td>OWID_WRL</td>\n",
       "      <td>3.958862e+10</td>\n",
       "      <td>3.662879e+09</td>\n",
       "      <td>3.592574e+10</td>\n",
       "    </tr>\n",
       "    <tr>\n",
       "      <th>2018</th>\n",
       "      <td>World</td>\n",
       "      <td>OWID_WRL</td>\n",
       "      <td>4.050368e+10</td>\n",
       "      <td>3.857539e+09</td>\n",
       "      <td>3.664614e+10</td>\n",
       "    </tr>\n",
       "    <tr>\n",
       "      <th>2019</th>\n",
       "      <td>World</td>\n",
       "      <td>OWID_WRL</td>\n",
       "      <td>4.052791e+10</td>\n",
       "      <td>3.825411e+09</td>\n",
       "      <td>3.670250e+10</td>\n",
       "    </tr>\n",
       "    <tr>\n",
       "      <th>2020</th>\n",
       "      <td>World</td>\n",
       "      <td>OWID_WRL</td>\n",
       "      <td>3.801725e+10</td>\n",
       "      <td>3.209993e+09</td>\n",
       "      <td>3.480726e+10</td>\n",
       "    </tr>\n",
       "  </tbody>\n",
       "</table>\n",
       "<p>171 rows × 5 columns</p>\n",
       "</div>"
      ],
      "text/plain": [
       "     Entity      Code  Fossil fuel + land use emissions (GtCO2)  \\\n",
       "dt                                                                \n",
       "1850  World  OWID_WRL                              2.734430e+09   \n",
       "1851  World  OWID_WRL                              2.813746e+09   \n",
       "1852  World  OWID_WRL                              2.861829e+09   \n",
       "1853  World  OWID_WRL                              2.920302e+09   \n",
       "1854  World  OWID_WRL                              2.985473e+09   \n",
       "...     ...       ...                                       ...   \n",
       "2016  World  OWID_WRL                              3.915603e+10   \n",
       "2017  World  OWID_WRL                              3.958862e+10   \n",
       "2018  World  OWID_WRL                              4.050368e+10   \n",
       "2019  World  OWID_WRL                              4.052791e+10   \n",
       "2020  World  OWID_WRL                              3.801725e+10   \n",
       "\n",
       "      Land use emissions (GtCO2)  Fossil fuel and industry emissions (GtCO2)  \n",
       "dt                                                                            \n",
       "1850                2.537534e+09                                1.968960e+08  \n",
       "1851                2.614941e+09                                1.988050e+08  \n",
       "1852                2.654278e+09                                2.075509e+08  \n",
       "1853                2.703093e+09                                2.172092e+08  \n",
       "1854                2.730334e+09                                2.551390e+08  \n",
       "...                          ...                                         ...  \n",
       "2016                3.703575e+09                                3.545246e+10  \n",
       "2017                3.662879e+09                                3.592574e+10  \n",
       "2018                3.857539e+09                                3.664614e+10  \n",
       "2019                3.825411e+09                                3.670250e+10  \n",
       "2020                3.209993e+09                                3.480726e+10  \n",
       "\n",
       "[171 rows x 5 columns]"
      ]
     },
     "execution_count": 49,
     "metadata": {},
     "output_type": "execute_result"
    }
   ],
   "source": [
    "df = pd.read_csv(\"/Users/prasanthdwadasi/Documents/data science class/Project/global-co2-fossil-plus-land-use.csv\")\n",
    "df['dt'] = pd.to_datetime(df['Year'],format='%Y')\n",
    "df.index = pd.DatetimeIndex(df['dt']).year\n",
    "# df_temp.index = pd.to_datetime(df_temp.dt, format='%Y')\n",
    "df = df.drop(columns = ['Year','dt'])\n",
    "df"
   ]
  },
  {
   "cell_type": "code",
   "execution_count": 50,
   "id": "2aaa76f1",
   "metadata": {},
   "outputs": [
    {
     "data": {
      "text/plain": [
       "Index(['Fossil fuel + land use emissions (GtCO2)',\n",
       "       'Land use emissions (GtCO2)',\n",
       "       'Fossil fuel and industry emissions (GtCO2)', 'Temperature'],\n",
       "      dtype='object')"
      ]
     },
     "execution_count": 50,
     "metadata": {},
     "output_type": "execute_result"
    }
   ],
   "source": [
    "df = pd.concat([df, df_temp],axis=1)\n",
    "df.drop(columns=['Code','Entity'],inplace=True)\n",
    "df.columns"
   ]
  },
  {
   "cell_type": "code",
   "execution_count": 51,
   "id": "b1b63900",
   "metadata": {},
   "outputs": [
    {
     "data": {
      "text/html": [
       "<div>\n",
       "<style scoped>\n",
       "    .dataframe tbody tr th:only-of-type {\n",
       "        vertical-align: middle;\n",
       "    }\n",
       "\n",
       "    .dataframe tbody tr th {\n",
       "        vertical-align: top;\n",
       "    }\n",
       "\n",
       "    .dataframe thead th {\n",
       "        text-align: right;\n",
       "    }\n",
       "</style>\n",
       "<table border=\"1\" class=\"dataframe\">\n",
       "  <thead>\n",
       "    <tr style=\"text-align: right;\">\n",
       "      <th></th>\n",
       "      <th>Fossil_fuel_+_land_use_emissions</th>\n",
       "      <th>Land_use</th>\n",
       "      <th>Fossil_fuel&amp;industry_emissions</th>\n",
       "      <th>Temperature</th>\n",
       "    </tr>\n",
       "    <tr>\n",
       "      <th>dt</th>\n",
       "      <th></th>\n",
       "      <th></th>\n",
       "      <th></th>\n",
       "      <th></th>\n",
       "    </tr>\n",
       "  </thead>\n",
       "  <tbody>\n",
       "    <tr>\n",
       "      <th>1850</th>\n",
       "      <td>2.734430e+09</td>\n",
       "      <td>2.537534e+09</td>\n",
       "      <td>1.968960e+08</td>\n",
       "      <td>-0.438</td>\n",
       "    </tr>\n",
       "    <tr>\n",
       "      <th>1851</th>\n",
       "      <td>2.813746e+09</td>\n",
       "      <td>2.614941e+09</td>\n",
       "      <td>1.988050e+08</td>\n",
       "      <td>-0.324</td>\n",
       "    </tr>\n",
       "    <tr>\n",
       "      <th>1852</th>\n",
       "      <td>2.861829e+09</td>\n",
       "      <td>2.654278e+09</td>\n",
       "      <td>2.075509e+08</td>\n",
       "      <td>-0.297</td>\n",
       "    </tr>\n",
       "    <tr>\n",
       "      <th>1853</th>\n",
       "      <td>2.920302e+09</td>\n",
       "      <td>2.703093e+09</td>\n",
       "      <td>2.172092e+08</td>\n",
       "      <td>-0.295</td>\n",
       "    </tr>\n",
       "    <tr>\n",
       "      <th>1854</th>\n",
       "      <td>2.985473e+09</td>\n",
       "      <td>2.730334e+09</td>\n",
       "      <td>2.551390e+08</td>\n",
       "      <td>-0.293</td>\n",
       "    </tr>\n",
       "    <tr>\n",
       "      <th>...</th>\n",
       "      <td>...</td>\n",
       "      <td>...</td>\n",
       "      <td>...</td>\n",
       "      <td>...</td>\n",
       "    </tr>\n",
       "    <tr>\n",
       "      <th>2016</th>\n",
       "      <td>3.915603e+10</td>\n",
       "      <td>3.703575e+09</td>\n",
       "      <td>3.545246e+10</td>\n",
       "      <td>1.059</td>\n",
       "    </tr>\n",
       "    <tr>\n",
       "      <th>2017</th>\n",
       "      <td>3.958862e+10</td>\n",
       "      <td>3.662879e+09</td>\n",
       "      <td>3.592574e+10</td>\n",
       "      <td>0.963</td>\n",
       "    </tr>\n",
       "    <tr>\n",
       "      <th>2018</th>\n",
       "      <td>4.050368e+10</td>\n",
       "      <td>3.857539e+09</td>\n",
       "      <td>3.664614e+10</td>\n",
       "      <td>0.888</td>\n",
       "    </tr>\n",
       "    <tr>\n",
       "      <th>2019</th>\n",
       "      <td>4.052791e+10</td>\n",
       "      <td>3.825411e+09</td>\n",
       "      <td>3.670250e+10</td>\n",
       "      <td>1.025</td>\n",
       "    </tr>\n",
       "    <tr>\n",
       "      <th>2020</th>\n",
       "      <td>3.801725e+10</td>\n",
       "      <td>3.209993e+09</td>\n",
       "      <td>3.480726e+10</td>\n",
       "      <td>1.052</td>\n",
       "    </tr>\n",
       "  </tbody>\n",
       "</table>\n",
       "<p>171 rows × 4 columns</p>\n",
       "</div>"
      ],
      "text/plain": [
       "      Fossil_fuel_+_land_use_emissions      Land_use  \\\n",
       "dt                                                     \n",
       "1850                      2.734430e+09  2.537534e+09   \n",
       "1851                      2.813746e+09  2.614941e+09   \n",
       "1852                      2.861829e+09  2.654278e+09   \n",
       "1853                      2.920302e+09  2.703093e+09   \n",
       "1854                      2.985473e+09  2.730334e+09   \n",
       "...                                ...           ...   \n",
       "2016                      3.915603e+10  3.703575e+09   \n",
       "2017                      3.958862e+10  3.662879e+09   \n",
       "2018                      4.050368e+10  3.857539e+09   \n",
       "2019                      4.052791e+10  3.825411e+09   \n",
       "2020                      3.801725e+10  3.209993e+09   \n",
       "\n",
       "      Fossil_fuel&industry_emissions  Temperature  \n",
       "dt                                                 \n",
       "1850                    1.968960e+08       -0.438  \n",
       "1851                    1.988050e+08       -0.324  \n",
       "1852                    2.075509e+08       -0.297  \n",
       "1853                    2.172092e+08       -0.295  \n",
       "1854                    2.551390e+08       -0.293  \n",
       "...                              ...          ...  \n",
       "2016                    3.545246e+10        1.059  \n",
       "2017                    3.592574e+10        0.963  \n",
       "2018                    3.664614e+10        0.888  \n",
       "2019                    3.670250e+10        1.025  \n",
       "2020                    3.480726e+10        1.052  \n",
       "\n",
       "[171 rows x 4 columns]"
      ]
     },
     "execution_count": 51,
     "metadata": {},
     "output_type": "execute_result"
    }
   ],
   "source": [
    "\n",
    "df.rename(columns={'Fossil fuel + land use emissions (GtCO2)': 'Fossil_fuel_+_land_use_emissions',\n",
    "                   'Land use emissions (GtCO2)': 'Land_use','Fossil fuel and industry emissions (GtCO2)':'Fossil_fuel&industry_emissions'}, inplace=True)\n",
    "df.columns = df.columns.str.replace(\" \",\"_\")\n",
    "df.columns = df.columns.str.strip()\n",
    "df"
   ]
  },
  {
   "cell_type": "code",
   "execution_count": 52,
   "id": "afa689ea",
   "metadata": {},
   "outputs": [
    {
     "name": "stdout",
     "output_type": "stream",
     "text": [
      "Index(['Fossil_fuel_+_land_use_emissions', 'Land_use',\n",
      "       'Fossil_fuel&industry_emissions', 'Temperature'],\n",
      "      dtype='object')\n"
     ]
    },
    {
     "data": {
      "text/html": [
       "<div>\n",
       "<style scoped>\n",
       "    .dataframe tbody tr th:only-of-type {\n",
       "        vertical-align: middle;\n",
       "    }\n",
       "\n",
       "    .dataframe tbody tr th {\n",
       "        vertical-align: top;\n",
       "    }\n",
       "\n",
       "    .dataframe thead th {\n",
       "        text-align: right;\n",
       "    }\n",
       "</style>\n",
       "<table border=\"1\" class=\"dataframe\">\n",
       "  <thead>\n",
       "    <tr style=\"text-align: right;\">\n",
       "      <th></th>\n",
       "      <th>Land_use</th>\n",
       "      <th>Fossil_fuel&amp;industry_emissions</th>\n",
       "      <th>Temperature</th>\n",
       "      <th>Fossil_Fuel</th>\n",
       "    </tr>\n",
       "    <tr>\n",
       "      <th>dt</th>\n",
       "      <th></th>\n",
       "      <th></th>\n",
       "      <th></th>\n",
       "      <th></th>\n",
       "    </tr>\n",
       "  </thead>\n",
       "  <tbody>\n",
       "    <tr>\n",
       "      <th>1850</th>\n",
       "      <td>2.537534e+09</td>\n",
       "      <td>1.968960e+08</td>\n",
       "      <td>-0.438</td>\n",
       "      <td>1.968960e+08</td>\n",
       "    </tr>\n",
       "    <tr>\n",
       "      <th>1851</th>\n",
       "      <td>2.614941e+09</td>\n",
       "      <td>1.988050e+08</td>\n",
       "      <td>-0.324</td>\n",
       "      <td>1.988050e+08</td>\n",
       "    </tr>\n",
       "    <tr>\n",
       "      <th>1852</th>\n",
       "      <td>2.654278e+09</td>\n",
       "      <td>2.075509e+08</td>\n",
       "      <td>-0.297</td>\n",
       "      <td>2.075509e+08</td>\n",
       "    </tr>\n",
       "    <tr>\n",
       "      <th>1853</th>\n",
       "      <td>2.703093e+09</td>\n",
       "      <td>2.172092e+08</td>\n",
       "      <td>-0.295</td>\n",
       "      <td>2.172092e+08</td>\n",
       "    </tr>\n",
       "    <tr>\n",
       "      <th>1854</th>\n",
       "      <td>2.730334e+09</td>\n",
       "      <td>2.551390e+08</td>\n",
       "      <td>-0.293</td>\n",
       "      <td>2.551390e+08</td>\n",
       "    </tr>\n",
       "    <tr>\n",
       "      <th>...</th>\n",
       "      <td>...</td>\n",
       "      <td>...</td>\n",
       "      <td>...</td>\n",
       "      <td>...</td>\n",
       "    </tr>\n",
       "    <tr>\n",
       "      <th>2016</th>\n",
       "      <td>3.703575e+09</td>\n",
       "      <td>3.545246e+10</td>\n",
       "      <td>1.059</td>\n",
       "      <td>3.545246e+10</td>\n",
       "    </tr>\n",
       "    <tr>\n",
       "      <th>2017</th>\n",
       "      <td>3.662879e+09</td>\n",
       "      <td>3.592574e+10</td>\n",
       "      <td>0.963</td>\n",
       "      <td>3.592574e+10</td>\n",
       "    </tr>\n",
       "    <tr>\n",
       "      <th>2018</th>\n",
       "      <td>3.857539e+09</td>\n",
       "      <td>3.664614e+10</td>\n",
       "      <td>0.888</td>\n",
       "      <td>3.664614e+10</td>\n",
       "    </tr>\n",
       "    <tr>\n",
       "      <th>2019</th>\n",
       "      <td>3.825411e+09</td>\n",
       "      <td>3.670250e+10</td>\n",
       "      <td>1.025</td>\n",
       "      <td>3.670250e+10</td>\n",
       "    </tr>\n",
       "    <tr>\n",
       "      <th>2020</th>\n",
       "      <td>3.209993e+09</td>\n",
       "      <td>3.480726e+10</td>\n",
       "      <td>1.052</td>\n",
       "      <td>3.480726e+10</td>\n",
       "    </tr>\n",
       "  </tbody>\n",
       "</table>\n",
       "<p>171 rows × 4 columns</p>\n",
       "</div>"
      ],
      "text/plain": [
       "          Land_use  Fossil_fuel&industry_emissions  Temperature   Fossil_Fuel\n",
       "dt                                                                           \n",
       "1850  2.537534e+09                    1.968960e+08       -0.438  1.968960e+08\n",
       "1851  2.614941e+09                    1.988050e+08       -0.324  1.988050e+08\n",
       "1852  2.654278e+09                    2.075509e+08       -0.297  2.075509e+08\n",
       "1853  2.703093e+09                    2.172092e+08       -0.295  2.172092e+08\n",
       "1854  2.730334e+09                    2.551390e+08       -0.293  2.551390e+08\n",
       "...            ...                             ...          ...           ...\n",
       "2016  3.703575e+09                    3.545246e+10        1.059  3.545246e+10\n",
       "2017  3.662879e+09                    3.592574e+10        0.963  3.592574e+10\n",
       "2018  3.857539e+09                    3.664614e+10        0.888  3.664614e+10\n",
       "2019  3.825411e+09                    3.670250e+10        1.025  3.670250e+10\n",
       "2020  3.209993e+09                    3.480726e+10        1.052  3.480726e+10\n",
       "\n",
       "[171 rows x 4 columns]"
      ]
     },
     "execution_count": 52,
     "metadata": {},
     "output_type": "execute_result"
    }
   ],
   "source": [
    "print(df.columns)\n",
    "df['Fossil_Fuel'] = df['Fossil_fuel_+_land_use_emissions']-df['Land_use']\n",
    "df.drop(columns=['Fossil_fuel_+_land_use_emissions'],inplace=True)\n",
    "df"
   ]
  },
  {
   "cell_type": "code",
   "execution_count": 53,
   "id": "7c8a04b5",
   "metadata": {},
   "outputs": [
    {
     "data": {
      "text/html": [
       "<div>\n",
       "<style scoped>\n",
       "    .dataframe tbody tr th:only-of-type {\n",
       "        vertical-align: middle;\n",
       "    }\n",
       "\n",
       "    .dataframe tbody tr th {\n",
       "        vertical-align: top;\n",
       "    }\n",
       "\n",
       "    .dataframe thead th {\n",
       "        text-align: right;\n",
       "    }\n",
       "</style>\n",
       "<table border=\"1\" class=\"dataframe\">\n",
       "  <thead>\n",
       "    <tr style=\"text-align: right;\">\n",
       "      <th></th>\n",
       "      <th>Land_use</th>\n",
       "      <th>Temperature</th>\n",
       "      <th>Fossil_Fuel</th>\n",
       "    </tr>\n",
       "    <tr>\n",
       "      <th>dt</th>\n",
       "      <th></th>\n",
       "      <th></th>\n",
       "      <th></th>\n",
       "    </tr>\n",
       "  </thead>\n",
       "  <tbody>\n",
       "    <tr>\n",
       "      <th>1850</th>\n",
       "      <td>2.537534e+09</td>\n",
       "      <td>-0.438</td>\n",
       "      <td>1.968960e+08</td>\n",
       "    </tr>\n",
       "    <tr>\n",
       "      <th>1851</th>\n",
       "      <td>2.614941e+09</td>\n",
       "      <td>-0.324</td>\n",
       "      <td>1.988050e+08</td>\n",
       "    </tr>\n",
       "    <tr>\n",
       "      <th>1852</th>\n",
       "      <td>2.654278e+09</td>\n",
       "      <td>-0.297</td>\n",
       "      <td>2.075509e+08</td>\n",
       "    </tr>\n",
       "    <tr>\n",
       "      <th>1853</th>\n",
       "      <td>2.703093e+09</td>\n",
       "      <td>-0.295</td>\n",
       "      <td>2.172092e+08</td>\n",
       "    </tr>\n",
       "    <tr>\n",
       "      <th>1854</th>\n",
       "      <td>2.730334e+09</td>\n",
       "      <td>-0.293</td>\n",
       "      <td>2.551390e+08</td>\n",
       "    </tr>\n",
       "    <tr>\n",
       "      <th>...</th>\n",
       "      <td>...</td>\n",
       "      <td>...</td>\n",
       "      <td>...</td>\n",
       "    </tr>\n",
       "    <tr>\n",
       "      <th>2016</th>\n",
       "      <td>3.703575e+09</td>\n",
       "      <td>1.059</td>\n",
       "      <td>3.545246e+10</td>\n",
       "    </tr>\n",
       "    <tr>\n",
       "      <th>2017</th>\n",
       "      <td>3.662879e+09</td>\n",
       "      <td>0.963</td>\n",
       "      <td>3.592574e+10</td>\n",
       "    </tr>\n",
       "    <tr>\n",
       "      <th>2018</th>\n",
       "      <td>3.857539e+09</td>\n",
       "      <td>0.888</td>\n",
       "      <td>3.664614e+10</td>\n",
       "    </tr>\n",
       "    <tr>\n",
       "      <th>2019</th>\n",
       "      <td>3.825411e+09</td>\n",
       "      <td>1.025</td>\n",
       "      <td>3.670250e+10</td>\n",
       "    </tr>\n",
       "    <tr>\n",
       "      <th>2020</th>\n",
       "      <td>3.209993e+09</td>\n",
       "      <td>1.052</td>\n",
       "      <td>3.480726e+10</td>\n",
       "    </tr>\n",
       "  </tbody>\n",
       "</table>\n",
       "<p>171 rows × 3 columns</p>\n",
       "</div>"
      ],
      "text/plain": [
       "          Land_use  Temperature   Fossil_Fuel\n",
       "dt                                           \n",
       "1850  2.537534e+09       -0.438  1.968960e+08\n",
       "1851  2.614941e+09       -0.324  1.988050e+08\n",
       "1852  2.654278e+09       -0.297  2.075509e+08\n",
       "1853  2.703093e+09       -0.295  2.172092e+08\n",
       "1854  2.730334e+09       -0.293  2.551390e+08\n",
       "...            ...          ...           ...\n",
       "2016  3.703575e+09        1.059  3.545246e+10\n",
       "2017  3.662879e+09        0.963  3.592574e+10\n",
       "2018  3.857539e+09        0.888  3.664614e+10\n",
       "2019  3.825411e+09        1.025  3.670250e+10\n",
       "2020  3.209993e+09        1.052  3.480726e+10\n",
       "\n",
       "[171 rows x 3 columns]"
      ]
     },
     "execution_count": 53,
     "metadata": {},
     "output_type": "execute_result"
    }
   ],
   "source": [
    "df.drop(columns=['Fossil_fuel&industry_emissions'],inplace=True)\n",
    "df"
   ]
  },
  {
   "cell_type": "code",
   "execution_count": 65,
   "id": "1a7c1ea5",
   "metadata": {},
   "outputs": [
    {
     "data": {
      "text/plain": [
       "<matplotlib.legend.Legend at 0x7fc5e8840e20>"
      ]
     },
     "execution_count": 65,
     "metadata": {},
     "output_type": "execute_result"
    },
    {
     "data": {
      "image/png": "[encoded data removed]",
      "text/plain": [
       "<Figure size 432x288 with 1 Axes>"
      ]
     },
     "metadata": {
      "needs_background": "light"
     },
     "output_type": "display_data"
    }
   ],
   "source": [
    "df[\"Land_use\"].plot()\n",
    "df[\"Fossil_Fuel\"].plot()\n",
    "df[\"Temperature\"].plot()\n",
    "plt.legend(['Land_use','Fossil fuel','Temp'])"
   ]
  },
  {
   "cell_type": "code",
   "execution_count": 66,
   "id": "d504b9e5",
   "metadata": {
    "scrolled": true
   },
   "outputs": [
    {
     "data": {
      "text/plain": [
       "<AxesSubplot:xlabel='dt'>"
      ]
     },
     "execution_count": 66,
     "metadata": {},
     "output_type": "execute_result"
    },
    {
     "data": {
      "image/png": "[encoded data removed]",
      "text/plain": [
       "<Figure size 432x288 with 1 Axes>"
      ]
     },
     "metadata": {
      "needs_background": "light"
     },
     "output_type": "display_data"
    }
   ],
   "source": [
    "df[\"Temperature\"].plot()"
   ]
  },
  {
   "cell_type": "code",
   "execution_count": 67,
   "id": "2bc93ac0",
   "metadata": {},
   "outputs": [
    {
     "data": {
      "text/html": [
       "<div>\n",
       "<style scoped>\n",
       "    .dataframe tbody tr th:only-of-type {\n",
       "        vertical-align: middle;\n",
       "    }\n",
       "\n",
       "    .dataframe tbody tr th {\n",
       "        vertical-align: top;\n",
       "    }\n",
       "\n",
       "    .dataframe thead th {\n",
       "        text-align: right;\n",
       "    }\n",
       "</style>\n",
       "<table border=\"1\" class=\"dataframe\">\n",
       "  <thead>\n",
       "    <tr style=\"text-align: right;\">\n",
       "      <th></th>\n",
       "      <th>Land_use</th>\n",
       "      <th>Temperature</th>\n",
       "      <th>Fossil_Fuel</th>\n",
       "    </tr>\n",
       "    <tr>\n",
       "      <th>dt</th>\n",
       "      <th></th>\n",
       "      <th></th>\n",
       "      <th></th>\n",
       "    </tr>\n",
       "  </thead>\n",
       "  <tbody>\n",
       "    <tr>\n",
       "      <th>1850</th>\n",
       "      <td>-1.736226</td>\n",
       "      <td>-0.438</td>\n",
       "      <td>-0.884108</td>\n",
       "    </tr>\n",
       "    <tr>\n",
       "      <th>1851</th>\n",
       "      <td>-1.660963</td>\n",
       "      <td>-0.324</td>\n",
       "      <td>-0.883934</td>\n",
       "    </tr>\n",
       "    <tr>\n",
       "      <th>1852</th>\n",
       "      <td>-1.622715</td>\n",
       "      <td>-0.297</td>\n",
       "      <td>-0.883137</td>\n",
       "    </tr>\n",
       "    <tr>\n",
       "      <th>1853</th>\n",
       "      <td>-1.575251</td>\n",
       "      <td>-0.295</td>\n",
       "      <td>-0.882256</td>\n",
       "    </tr>\n",
       "    <tr>\n",
       "      <th>1854</th>\n",
       "      <td>-1.548764</td>\n",
       "      <td>-0.293</td>\n",
       "      <td>-0.878798</td>\n",
       "    </tr>\n",
       "    <tr>\n",
       "      <th>...</th>\n",
       "      <td>...</td>\n",
       "      <td>...</td>\n",
       "      <td>...</td>\n",
       "    </tr>\n",
       "    <tr>\n",
       "      <th>2016</th>\n",
       "      <td>-0.602469</td>\n",
       "      <td>1.059</td>\n",
       "      <td>2.330056</td>\n",
       "    </tr>\n",
       "    <tr>\n",
       "      <th>2017</th>\n",
       "      <td>-0.642038</td>\n",
       "      <td>0.963</td>\n",
       "      <td>2.373203</td>\n",
       "    </tr>\n",
       "    <tr>\n",
       "      <th>2018</th>\n",
       "      <td>-0.452768</td>\n",
       "      <td>0.888</td>\n",
       "      <td>2.438881</td>\n",
       "    </tr>\n",
       "    <tr>\n",
       "      <th>2019</th>\n",
       "      <td>-0.484006</td>\n",
       "      <td>1.025</td>\n",
       "      <td>2.444019</td>\n",
       "    </tr>\n",
       "    <tr>\n",
       "      <th>2020</th>\n",
       "      <td>-1.082385</td>\n",
       "      <td>1.052</td>\n",
       "      <td>2.271234</td>\n",
       "    </tr>\n",
       "  </tbody>\n",
       "</table>\n",
       "<p>171 rows × 3 columns</p>\n",
       "</div>"
      ],
      "text/plain": [
       "      Land_use  Temperature  Fossil_Fuel\n",
       "dt                                      \n",
       "1850 -1.736226       -0.438    -0.884108\n",
       "1851 -1.660963       -0.324    -0.883934\n",
       "1852 -1.622715       -0.297    -0.883137\n",
       "1853 -1.575251       -0.295    -0.882256\n",
       "1854 -1.548764       -0.293    -0.878798\n",
       "...        ...          ...          ...\n",
       "2016 -0.602469        1.059     2.330056\n",
       "2017 -0.642038        0.963     2.373203\n",
       "2018 -0.452768        0.888     2.438881\n",
       "2019 -0.484006        1.025     2.444019\n",
       "2020 -1.082385        1.052     2.271234\n",
       "\n",
       "[171 rows x 3 columns]"
      ]
     },
     "execution_count": 67,
     "metadata": {},
     "output_type": "execute_result"
    }
   ],
   "source": [
    "from sklearn.preprocessing import StandardScaler\n",
    "\n",
    "df[['Land_use', 'Fossil_Fuel']] = StandardScaler().fit_transform(df[['Land_use', 'Fossil_Fuel']])\n",
    "df"
   ]
  },
  {
   "cell_type": "code",
   "execution_count": 68,
   "id": "28aaa208",
   "metadata": {},
   "outputs": [
    {
     "data": {
      "text/plain": [
       "<matplotlib.legend.Legend at 0x7fc5e892c040>"
      ]
     },
     "execution_count": 68,
     "metadata": {},
     "output_type": "execute_result"
    },
    {
     "data": {
      "image/png": "[encoded data removed]",
      "text/plain": [
       "<Figure size 432x288 with 1 Axes>"
      ]
     },
     "metadata": {
      "needs_background": "light"
     },
     "output_type": "display_data"
    }
   ],
   "source": [
    "df[\"Land_use\"].plot()\n",
    "df[\"Fossil_Fuel\"].plot()\n",
    "df[\"Temperature\"].plot()\n",
    "plt.legend(['Land_use','Fossil fuel','Temp'])"
   ]
  },
  {
   "cell_type": "code",
   "execution_count": 69,
   "id": "bff861ef",
   "metadata": {},
   "outputs": [],
   "source": [
    "from sklearn.ensemble import RandomForestRegressor\n",
    "from sklearn import metrics\n",
    "from sklearn.model_selection import train_test_split"
   ]
  },
  {
   "cell_type": "code",
   "execution_count": 70,
   "id": "5ec161c0",
   "metadata": {},
   "outputs": [
    {
     "data": {
      "text/html": [
       "<div>\n",
       "<style scoped>\n",
       "    .dataframe tbody tr th:only-of-type {\n",
       "        vertical-align: middle;\n",
       "    }\n",
       "\n",
       "    .dataframe tbody tr th {\n",
       "        vertical-align: top;\n",
       "    }\n",
       "\n",
       "    .dataframe thead th {\n",
       "        text-align: right;\n",
       "    }\n",
       "</style>\n",
       "<table border=\"1\" class=\"dataframe\">\n",
       "  <thead>\n",
       "    <tr style=\"text-align: right;\">\n",
       "      <th></th>\n",
       "      <th>Land_use</th>\n",
       "      <th>Fossil_Fuel</th>\n",
       "    </tr>\n",
       "    <tr>\n",
       "      <th>dt</th>\n",
       "      <th></th>\n",
       "      <th></th>\n",
       "    </tr>\n",
       "  </thead>\n",
       "  <tbody>\n",
       "    <tr>\n",
       "      <th>1850</th>\n",
       "      <td>-1.736226</td>\n",
       "      <td>-0.884108</td>\n",
       "    </tr>\n",
       "    <tr>\n",
       "      <th>1851</th>\n",
       "      <td>-1.660963</td>\n",
       "      <td>-0.883934</td>\n",
       "    </tr>\n",
       "    <tr>\n",
       "      <th>1852</th>\n",
       "      <td>-1.622715</td>\n",
       "      <td>-0.883137</td>\n",
       "    </tr>\n",
       "    <tr>\n",
       "      <th>1853</th>\n",
       "      <td>-1.575251</td>\n",
       "      <td>-0.882256</td>\n",
       "    </tr>\n",
       "    <tr>\n",
       "      <th>1854</th>\n",
       "      <td>-1.548764</td>\n",
       "      <td>-0.878798</td>\n",
       "    </tr>\n",
       "    <tr>\n",
       "      <th>...</th>\n",
       "      <td>...</td>\n",
       "      <td>...</td>\n",
       "    </tr>\n",
       "    <tr>\n",
       "      <th>2016</th>\n",
       "      <td>-0.602469</td>\n",
       "      <td>2.330056</td>\n",
       "    </tr>\n",
       "    <tr>\n",
       "      <th>2017</th>\n",
       "      <td>-0.642038</td>\n",
       "      <td>2.373203</td>\n",
       "    </tr>\n",
       "    <tr>\n",
       "      <th>2018</th>\n",
       "      <td>-0.452768</td>\n",
       "      <td>2.438881</td>\n",
       "    </tr>\n",
       "    <tr>\n",
       "      <th>2019</th>\n",
       "      <td>-0.484006</td>\n",
       "      <td>2.444019</td>\n",
       "    </tr>\n",
       "    <tr>\n",
       "      <th>2020</th>\n",
       "      <td>-1.082385</td>\n",
       "      <td>2.271234</td>\n",
       "    </tr>\n",
       "  </tbody>\n",
       "</table>\n",
       "<p>171 rows × 2 columns</p>\n",
       "</div>"
      ],
      "text/plain": [
       "      Land_use  Fossil_Fuel\n",
       "dt                         \n",
       "1850 -1.736226    -0.884108\n",
       "1851 -1.660963    -0.883934\n",
       "1852 -1.622715    -0.883137\n",
       "1853 -1.575251    -0.882256\n",
       "1854 -1.548764    -0.878798\n",
       "...        ...          ...\n",
       "2016 -0.602469     2.330056\n",
       "2017 -0.642038     2.373203\n",
       "2018 -0.452768     2.438881\n",
       "2019 -0.484006     2.444019\n",
       "2020 -1.082385     2.271234\n",
       "\n",
       "[171 rows x 2 columns]"
      ]
     },
     "execution_count": 70,
     "metadata": {},
     "output_type": "execute_result"
    }
   ],
   "source": [
    "y = df['Temperature']\n",
    "df.drop(columns=['Temperature'],inplace=True)\n",
    "df"
   ]
  },
  {
   "cell_type": "code",
   "execution_count": 72,
   "id": "31e44ba0",
   "metadata": {},
   "outputs": [
    {
     "data": {
      "text/plain": [
       "dt\n",
       "1850   -0.438\n",
       "1851   -0.324\n",
       "1852   -0.297\n",
       "1853   -0.295\n",
       "1854   -0.293\n",
       "        ...  \n",
       "2016    1.059\n",
       "2017    0.963\n",
       "2018    0.888\n",
       "2019    1.025\n",
       "2020    1.052\n",
       "Name: Temperature, Length: 171, dtype: float64"
      ]
     },
     "execution_count": 72,
     "metadata": {},
     "output_type": "execute_result"
    }
   ],
   "source": [
    "y"
   ]
  },
  {
   "cell_type": "code",
   "execution_count": 77,
   "id": "bbb53e19",
   "metadata": {},
   "outputs": [
    {
     "data": {
      "text/plain": [
       "((128, 2), (43, 2), (128,), (43,))"
      ]
     },
     "execution_count": 77,
     "metadata": {},
     "output_type": "execute_result"
    }
   ],
   "source": [
    "X_train, X_test, y_train, y_test = train_test_split(df, y, random_state=42)\n",
    "X_train.shape, X_test.shape, y_train.shape, y_test.shape"
   ]
  },
  {
   "cell_type": "code",
   "execution_count": 78,
   "id": "f81f48f7",
   "metadata": {},
   "outputs": [
    {
     "data": {
      "text/plain": [
       "RandomForestRegressor()"
      ]
     },
     "execution_count": 78,
     "metadata": {},
     "output_type": "execute_result"
    }
   ],
   "source": [
    "rf_model = RandomForestRegressor()\n",
    "\n",
    "# Train the model\n",
    "rf_model.fit(X_train, y_train)"
   ]
  },
  {
   "cell_type": "code",
   "execution_count": 79,
   "id": "497463f2",
   "metadata": {},
   "outputs": [
    {
     "data": {
      "text/plain": [
       "0.8971538518976109"
      ]
     },
     "execution_count": 79,
     "metadata": {},
     "output_type": "execute_result"
    }
   ],
   "source": [
    "rf_model.score(X_test, y_test)"
   ]
  },
  {
   "cell_type": "code",
   "execution_count": 80,
   "id": "1df8f1a2",
   "metadata": {},
   "outputs": [],
   "source": [
    "y_pred = rf_model.predict(X_test)"
   ]
  },
  {
   "cell_type": "code",
   "execution_count": 86,
   "id": "5f29582b",
   "metadata": {},
   "outputs": [
    {
     "data": {
      "text/plain": [
       "<matplotlib.legend.Legend at 0x7fc5e0569250>"
      ]
     },
     "execution_count": 86,
     "metadata": {},
     "output_type": "execute_result"
    },
    {
     "data": {
      "image/png": "[encoded data removed]",
      "text/plain": [
       "<Figure size 432x288 with 1 Axes>"
      ]
     },
     "metadata": {
      "needs_background": "light"
     },
     "output_type": "display_data"
    }
   ],
   "source": [
    "y_pred_df = pd.DataFrame(y_pred, columns=['Temperature'], index=y_test.index)\n",
    "\n",
    "plt.plot(y_test.sort_index())\n",
    "plt.plot(y_pred_df.sort_index())\n",
    "plt.legend(['original','predicted'])"
   ]
  },
  {
   "cell_type": "code",
   "execution_count": 87,
   "id": "93f12022",
   "metadata": {},
   "outputs": [
    {
     "data": {
      "text/plain": [
       "SVR()"
      ]
     },
     "execution_count": 87,
     "metadata": {},
     "output_type": "execute_result"
    }
   ],
   "source": [
    "from sklearn.svm import SVR\n",
    "regressor = SVR(kernel = 'rbf')\n",
    "regressor.fit(X_train, y_train)"
   ]
  },
  {
   "cell_type": "code",
   "execution_count": 88,
   "id": "f3016aa6",
   "metadata": {},
   "outputs": [
    {
     "data": {
      "text/plain": [
       "0.8836247483922517"
      ]
     },
     "execution_count": 88,
     "metadata": {},
     "output_type": "execute_result"
    }
   ],
   "source": [
    "y_pred = regressor.predict(X_test)\n",
    "regressor.score(X_test, y_test)"
   ]
  },
  {
   "cell_type": "code",
   "execution_count": 91,
   "id": "91cf5934",
   "metadata": {},
   "outputs": [
    {
     "data": {
      "text/plain": [
       "<matplotlib.legend.Legend at 0x7fc5e05c2940>"
      ]
     },
     "execution_count": 91,
     "metadata": {},
     "output_type": "execute_result"
    },
    {
     "data": {
      "image/png": "[encoded data removed]",
      "text/plain": [
       "<Figure size 432x288 with 1 Axes>"
      ]
     },
     "metadata": {
      "needs_background": "light"
     },
     "output_type": "display_data"
    }
   ],
   "source": [
    "y_pred_df2 = pd.DataFrame(y_pred, columns=['Temperature'], index=y_test.index)\n",
    "plt.plot(y_test.sort_index())\n",
    "plt.plot(y_pred_df2.sort_index())\n",
    "plt.legend(['original','predicted'])"
   ]
  },
  {
   "cell_type": "code",
   "execution_count": 98,
   "id": "4b974cad",
   "metadata": {},
   "outputs": [
    {
     "data": {
      "text/plain": [
       "((136, 3), (35, 3))"
      ]
     },
     "execution_count": 98,
     "metadata": {},
     "output_type": "execute_result"
    }
   ],
   "source": [
    "df['Temperature'] = y\n",
    "#creating the train and validation set\n",
    "train = df[:int(0.8*(len(df)))]\n",
    "valid = df[int(0.8*(len(df))):]\n",
    "train.shape,valid.shape"
   ]
  },
  {
   "cell_type": "code",
   "execution_count": 129,
   "id": "97ea1d4f",
   "metadata": {},
   "outputs": [
    {
     "data": {
      "text/html": [
       "<div>\n",
       "<style scoped>\n",
       "    .dataframe tbody tr th:only-of-type {\n",
       "        vertical-align: middle;\n",
       "    }\n",
       "\n",
       "    .dataframe tbody tr th {\n",
       "        vertical-align: top;\n",
       "    }\n",
       "\n",
       "    .dataframe thead th {\n",
       "        text-align: right;\n",
       "    }\n",
       "</style>\n",
       "<table border=\"1\" class=\"dataframe\">\n",
       "  <thead>\n",
       "    <tr style=\"text-align: right;\">\n",
       "      <th></th>\n",
       "      <th>Land_use</th>\n",
       "      <th>Fossil_Fuel</th>\n",
       "      <th>Temperature</th>\n",
       "    </tr>\n",
       "    <tr>\n",
       "      <th>dt</th>\n",
       "      <th></th>\n",
       "      <th></th>\n",
       "      <th></th>\n",
       "    </tr>\n",
       "  </thead>\n",
       "  <tbody>\n",
       "    <tr>\n",
       "      <th>1850</th>\n",
       "      <td>-1.736226</td>\n",
       "      <td>-0.884108</td>\n",
       "      <td>-0.438</td>\n",
       "    </tr>\n",
       "    <tr>\n",
       "      <th>1851</th>\n",
       "      <td>-1.660963</td>\n",
       "      <td>-0.883934</td>\n",
       "      <td>-0.324</td>\n",
       "    </tr>\n",
       "    <tr>\n",
       "      <th>1852</th>\n",
       "      <td>-1.622715</td>\n",
       "      <td>-0.883137</td>\n",
       "      <td>-0.297</td>\n",
       "    </tr>\n",
       "    <tr>\n",
       "      <th>1853</th>\n",
       "      <td>-1.575251</td>\n",
       "      <td>-0.882256</td>\n",
       "      <td>-0.295</td>\n",
       "    </tr>\n",
       "    <tr>\n",
       "      <th>1854</th>\n",
       "      <td>-1.548764</td>\n",
       "      <td>-0.878798</td>\n",
       "      <td>-0.293</td>\n",
       "    </tr>\n",
       "    <tr>\n",
       "      <th>...</th>\n",
       "      <td>...</td>\n",
       "      <td>...</td>\n",
       "      <td>...</td>\n",
       "    </tr>\n",
       "    <tr>\n",
       "      <th>2016</th>\n",
       "      <td>-0.602469</td>\n",
       "      <td>2.330056</td>\n",
       "      <td>1.059</td>\n",
       "    </tr>\n",
       "    <tr>\n",
       "      <th>2017</th>\n",
       "      <td>-0.642038</td>\n",
       "      <td>2.373203</td>\n",
       "      <td>0.963</td>\n",
       "    </tr>\n",
       "    <tr>\n",
       "      <th>2018</th>\n",
       "      <td>-0.452768</td>\n",
       "      <td>2.438881</td>\n",
       "      <td>0.888</td>\n",
       "    </tr>\n",
       "    <tr>\n",
       "      <th>2019</th>\n",
       "      <td>-0.484006</td>\n",
       "      <td>2.444019</td>\n",
       "      <td>1.025</td>\n",
       "    </tr>\n",
       "    <tr>\n",
       "      <th>2020</th>\n",
       "      <td>-1.082385</td>\n",
       "      <td>2.271234</td>\n",
       "      <td>1.052</td>\n",
       "    </tr>\n",
       "  </tbody>\n",
       "</table>\n",
       "<p>171 rows × 3 columns</p>\n",
       "</div>"
      ],
      "text/plain": [
       "      Land_use  Fossil_Fuel  Temperature\n",
       "dt                                      \n",
       "1850 -1.736226    -0.884108       -0.438\n",
       "1851 -1.660963    -0.883934       -0.324\n",
       "1852 -1.622715    -0.883137       -0.297\n",
       "1853 -1.575251    -0.882256       -0.295\n",
       "1854 -1.548764    -0.878798       -0.293\n",
       "...        ...          ...          ...\n",
       "2016 -0.602469     2.330056        1.059\n",
       "2017 -0.642038     2.373203        0.963\n",
       "2018 -0.452768     2.438881        0.888\n",
       "2019 -0.484006     2.444019        1.025\n",
       "2020 -1.082385     2.271234        1.052\n",
       "\n",
       "[171 rows x 3 columns]"
      ]
     },
     "execution_count": 129,
     "metadata": {},
     "output_type": "execute_result"
    }
   ],
   "source": [
    "df"
   ]
  },
  {
   "cell_type": "code",
   "execution_count": 124,
   "id": "405cbbef",
   "metadata": {},
   "outputs": [],
   "source": [
    "from statsmodels.tsa.vector_ar.var_model import VAR\n",
    "\n",
    "model = VAR(endog=train)\n",
    "model_fit = model.fit()\n",
    "\n",
    "# make prediction on validation\n",
    "\n",
    "prediction = model_fit.forecast(np.asarray(train), steps=len(valid))"
   ]
  },
  {
   "cell_type": "code",
   "execution_count": null,
   "id": "4abdec58",
   "metadata": {},
   "outputs": [],
   "source": []
  },
  {
   "cell_type": "code",
   "execution_count": 172,
   "id": "b46629cb",
   "metadata": {},
   "outputs": [
    {
     "name": "stdout",
     "output_type": "stream",
     "text": [
      "root mean square error is 0.13048917403776608\n"
     ]
    }
   ],
   "source": [
    "rows,cols = valid.shape\n",
    "# valid.iloc[34][2]\n",
    "sum = 0 \n",
    "for row in range(rows):\n",
    "    for col in range(cols):\n",
    "#         print(row,col)\n",
    "        sum += (valid.iloc[row][col]-prediction[row][col])**2\n",
    "sum = sum/(rows*cols)\n",
    "print(f\"root mean square error is {sum}\")"
   ]
  },
  {
   "cell_type": "code",
   "execution_count": 182,
   "id": "e7920522",
   "metadata": {},
   "outputs": [
    {
     "name": "stdout",
     "output_type": "stream",
     "text": [
      "[[-1.08777743  2.29760589  0.9671468 ]\n",
      " [-1.09499414  2.32660303  0.9184639 ]\n",
      " [-1.10350395  2.35734019  0.89247634]\n",
      " [-1.11297046  2.38926223  0.88074143]\n",
      " [-1.12317966  2.42202114  0.87796944]\n",
      " [-1.13399436  2.45539873  0.88084609]\n",
      " [-1.1453256   2.48925813  0.88729482]\n",
      " [-1.15711473  2.52351346  0.89601455]\n",
      " [-1.16932223  2.55811083  0.90619009]\n",
      " [-1.18192064  2.59301637  0.91731067]]\n"
     ]
    }
   ],
   "source": [
    "model = VAR(endog=df)\n",
    "model_fit = model.fit()\n",
    "yhat = model_fit.forecast(np.asarray(df), steps=10)\n",
    "print(yhat)\n"
   ]
  },
  {
   "cell_type": "code",
   "execution_count": 186,
   "id": "0d225cc0",
   "metadata": {},
   "outputs": [
    {
     "data": {
      "text/plain": [
       "<AxesSubplot:xlabel='dt'>"
      ]
     },
     "execution_count": 186,
     "metadata": {},
     "output_type": "execute_result"
    },
    {
     "data": {
      "image/png": "[encoded data removed]",
      "text/plain": [
       "<Figure size 432x288 with 1 Axes>"
      ]
     },
     "metadata": {
      "needs_background": "light"
     },
     "output_type": "display_data"
    },
    {
     "data": {
      "image/png": "[encoded data removed]",
      "text/plain": [
       "<Figure size 432x288 with 1 Axes>"
      ]
     },
     "metadata": {
      "needs_background": "light"
     },
     "output_type": "display_data"
    }
   ],
   "source": [
    "date_index = pd.date_range('2020', periods=10, freq='Y')\n",
    "df_pred = pd.DataFrame(yhat,index=date_index,columns=df.columns)\n",
    "df_pred.plot()\n",
    "df.plot()\n"
   ]
  },
  {
   "cell_type": "code",
   "execution_count": 190,
   "id": "ed5d5235",
   "metadata": {},
   "outputs": [
    {
     "data": {
      "text/html": [
       "<div>\n",
       "<style scoped>\n",
       "    .dataframe tbody tr th:only-of-type {\n",
       "        vertical-align: middle;\n",
       "    }\n",
       "\n",
       "    .dataframe tbody tr th {\n",
       "        vertical-align: top;\n",
       "    }\n",
       "\n",
       "    .dataframe thead th {\n",
       "        text-align: right;\n",
       "    }\n",
       "</style>\n",
       "<table border=\"1\" class=\"dataframe\">\n",
       "  <thead>\n",
       "    <tr style=\"text-align: right;\">\n",
       "      <th></th>\n",
       "      <th>Land_use</th>\n",
       "      <th>Fossil_Fuel</th>\n",
       "      <th>Temperature</th>\n",
       "    </tr>\n",
       "  </thead>\n",
       "  <tbody>\n",
       "    <tr>\n",
       "      <th>2020-12-31</th>\n",
       "      <td>-1.087777</td>\n",
       "      <td>2.297606</td>\n",
       "      <td>0.967147</td>\n",
       "    </tr>\n",
       "    <tr>\n",
       "      <th>2021-12-31</th>\n",
       "      <td>-1.094994</td>\n",
       "      <td>2.326603</td>\n",
       "      <td>0.918464</td>\n",
       "    </tr>\n",
       "    <tr>\n",
       "      <th>2022-12-31</th>\n",
       "      <td>-1.103504</td>\n",
       "      <td>2.357340</td>\n",
       "      <td>0.892476</td>\n",
       "    </tr>\n",
       "    <tr>\n",
       "      <th>2023-12-31</th>\n",
       "      <td>-1.112970</td>\n",
       "      <td>2.389262</td>\n",
       "      <td>0.880741</td>\n",
       "    </tr>\n",
       "    <tr>\n",
       "      <th>2024-12-31</th>\n",
       "      <td>-1.123180</td>\n",
       "      <td>2.422021</td>\n",
       "      <td>0.877969</td>\n",
       "    </tr>\n",
       "    <tr>\n",
       "      <th>2025-12-31</th>\n",
       "      <td>-1.133994</td>\n",
       "      <td>2.455399</td>\n",
       "      <td>0.880846</td>\n",
       "    </tr>\n",
       "    <tr>\n",
       "      <th>2026-12-31</th>\n",
       "      <td>-1.145326</td>\n",
       "      <td>2.489258</td>\n",
       "      <td>0.887295</td>\n",
       "    </tr>\n",
       "    <tr>\n",
       "      <th>2027-12-31</th>\n",
       "      <td>-1.157115</td>\n",
       "      <td>2.523513</td>\n",
       "      <td>0.896015</td>\n",
       "    </tr>\n",
       "    <tr>\n",
       "      <th>2028-12-31</th>\n",
       "      <td>-1.169322</td>\n",
       "      <td>2.558111</td>\n",
       "      <td>0.906190</td>\n",
       "    </tr>\n",
       "    <tr>\n",
       "      <th>2029-12-31</th>\n",
       "      <td>-1.181921</td>\n",
       "      <td>2.593016</td>\n",
       "      <td>0.917311</td>\n",
       "    </tr>\n",
       "  </tbody>\n",
       "</table>\n",
       "</div>"
      ],
      "text/plain": [
       "            Land_use  Fossil_Fuel  Temperature\n",
       "2020-12-31 -1.087777     2.297606     0.967147\n",
       "2021-12-31 -1.094994     2.326603     0.918464\n",
       "2022-12-31 -1.103504     2.357340     0.892476\n",
       "2023-12-31 -1.112970     2.389262     0.880741\n",
       "2024-12-31 -1.123180     2.422021     0.877969\n",
       "2025-12-31 -1.133994     2.455399     0.880846\n",
       "2026-12-31 -1.145326     2.489258     0.887295\n",
       "2027-12-31 -1.157115     2.523513     0.896015\n",
       "2028-12-31 -1.169322     2.558111     0.906190\n",
       "2029-12-31 -1.181921     2.593016     0.917311"
      ]
     },
     "execution_count": 190,
     "metadata": {},
     "output_type": "execute_result"
    }
   ],
   "source": [
    "df_pred"
   ]
  }
 ],
 "metadata": {
  "kernelspec": {
   "display_name": "Python 3 (ipykernel)",
   "language": "python",
   "name": "python3"
  },
  "language_info": {
   "codemirror_mode": {
    "name": "ipython",
    "version": 3
   },
   "file_extension": ".py",
   "mimetype": "text/x-python",
   "name": "python",
   "nbconvert_exporter": "python",
   "pygments_lexer": "ipython3",
   "version": "3.9.7"
  }
 },
 "nbformat": 4,
 "nbformat_minor": 5
}
